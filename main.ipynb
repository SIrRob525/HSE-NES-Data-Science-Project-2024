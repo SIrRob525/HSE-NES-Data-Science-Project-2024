{
  "nbformat": 4,
  "nbformat_minor": 0,
  "metadata": {
    "colab": {
      "provenance": [],
      "authorship_tag": "ABX9TyMs5at+fWJ855HZaG4DAwd2",
      "include_colab_link": true
    },
    "kernelspec": {
      "name": "python3",
      "display_name": "Python 3"
    },
    "language_info": {
      "name": "python"
    },
    "widgets": {
      "application/vnd.jupyter.widget-state+json": {
        "7ec35fccabae4adbbacbaf68fe8c8ea7": {
          "model_module": "@jupyter-widgets/controls",
          "model_name": "HBoxModel",
          "model_module_version": "1.5.0",
          "state": {
            "_dom_classes": [],
            "_model_module": "@jupyter-widgets/controls",
            "_model_module_version": "1.5.0",
            "_model_name": "HBoxModel",
            "_view_count": null,
            "_view_module": "@jupyter-widgets/controls",
            "_view_module_version": "1.5.0",
            "_view_name": "HBoxView",
            "box_style": "",
            "children": [
              "IPY_MODEL_cf0e777c106c4001b45569b11cd2bbaf",
              "IPY_MODEL_c7b98eba01ce4ed4812e25d1f599ed40",
              "IPY_MODEL_75f384c28dc240dc811670e25253137e"
            ],
            "layout": "IPY_MODEL_57bfd1e355e548779b6d6d248c4a0163"
          }
        },
        "cf0e777c106c4001b45569b11cd2bbaf": {
          "model_module": "@jupyter-widgets/controls",
          "model_name": "HTMLModel",
          "model_module_version": "1.5.0",
          "state": {
            "_dom_classes": [],
            "_model_module": "@jupyter-widgets/controls",
            "_model_module_version": "1.5.0",
            "_model_name": "HTMLModel",
            "_view_count": null,
            "_view_module": "@jupyter-widgets/controls",
            "_view_module_version": "1.5.0",
            "_view_name": "HTMLView",
            "description": "",
            "description_tooltip": null,
            "layout": "IPY_MODEL_b9f2e77330a347a3a313ab99eeca4b75",
            "placeholder": "​",
            "style": "IPY_MODEL_1ee3242abce143fcb362a55988385f0f",
            "value": "100%"
          }
        },
        "c7b98eba01ce4ed4812e25d1f599ed40": {
          "model_module": "@jupyter-widgets/controls",
          "model_name": "FloatProgressModel",
          "model_module_version": "1.5.0",
          "state": {
            "_dom_classes": [],
            "_model_module": "@jupyter-widgets/controls",
            "_model_module_version": "1.5.0",
            "_model_name": "FloatProgressModel",
            "_view_count": null,
            "_view_module": "@jupyter-widgets/controls",
            "_view_module_version": "1.5.0",
            "_view_name": "ProgressView",
            "bar_style": "success",
            "description": "",
            "description_tooltip": null,
            "layout": "IPY_MODEL_4444f671dfeb4b20829181b512a76d26",
            "max": 51627,
            "min": 0,
            "orientation": "horizontal",
            "style": "IPY_MODEL_cc14f2e2e51f443a9a89882f8432c1ff",
            "value": 51627
          }
        },
        "75f384c28dc240dc811670e25253137e": {
          "model_module": "@jupyter-widgets/controls",
          "model_name": "HTMLModel",
          "model_module_version": "1.5.0",
          "state": {
            "_dom_classes": [],
            "_model_module": "@jupyter-widgets/controls",
            "_model_module_version": "1.5.0",
            "_model_name": "HTMLModel",
            "_view_count": null,
            "_view_module": "@jupyter-widgets/controls",
            "_view_module_version": "1.5.0",
            "_view_name": "HTMLView",
            "description": "",
            "description_tooltip": null,
            "layout": "IPY_MODEL_ae726f2d1b8e4bfb806574cf6770df63",
            "placeholder": "​",
            "style": "IPY_MODEL_006e8b0525b34998808b18036d0ac87b",
            "value": " 51627/51627 [00:01&lt;00:00, 48566.63it/s]"
          }
        },
        "57bfd1e355e548779b6d6d248c4a0163": {
          "model_module": "@jupyter-widgets/base",
          "model_name": "LayoutModel",
          "model_module_version": "1.2.0",
          "state": {
            "_model_module": "@jupyter-widgets/base",
            "_model_module_version": "1.2.0",
            "_model_name": "LayoutModel",
            "_view_count": null,
            "_view_module": "@jupyter-widgets/base",
            "_view_module_version": "1.2.0",
            "_view_name": "LayoutView",
            "align_content": null,
            "align_items": null,
            "align_self": null,
            "border": null,
            "bottom": null,
            "display": null,
            "flex": null,
            "flex_flow": null,
            "grid_area": null,
            "grid_auto_columns": null,
            "grid_auto_flow": null,
            "grid_auto_rows": null,
            "grid_column": null,
            "grid_gap": null,
            "grid_row": null,
            "grid_template_areas": null,
            "grid_template_columns": null,
            "grid_template_rows": null,
            "height": null,
            "justify_content": null,
            "justify_items": null,
            "left": null,
            "margin": null,
            "max_height": null,
            "max_width": null,
            "min_height": null,
            "min_width": null,
            "object_fit": null,
            "object_position": null,
            "order": null,
            "overflow": null,
            "overflow_x": null,
            "overflow_y": null,
            "padding": null,
            "right": null,
            "top": null,
            "visibility": null,
            "width": null
          }
        },
        "b9f2e77330a347a3a313ab99eeca4b75": {
          "model_module": "@jupyter-widgets/base",
          "model_name": "LayoutModel",
          "model_module_version": "1.2.0",
          "state": {
            "_model_module": "@jupyter-widgets/base",
            "_model_module_version": "1.2.0",
            "_model_name": "LayoutModel",
            "_view_count": null,
            "_view_module": "@jupyter-widgets/base",
            "_view_module_version": "1.2.0",
            "_view_name": "LayoutView",
            "align_content": null,
            "align_items": null,
            "align_self": null,
            "border": null,
            "bottom": null,
            "display": null,
            "flex": null,
            "flex_flow": null,
            "grid_area": null,
            "grid_auto_columns": null,
            "grid_auto_flow": null,
            "grid_auto_rows": null,
            "grid_column": null,
            "grid_gap": null,
            "grid_row": null,
            "grid_template_areas": null,
            "grid_template_columns": null,
            "grid_template_rows": null,
            "height": null,
            "justify_content": null,
            "justify_items": null,
            "left": null,
            "margin": null,
            "max_height": null,
            "max_width": null,
            "min_height": null,
            "min_width": null,
            "object_fit": null,
            "object_position": null,
            "order": null,
            "overflow": null,
            "overflow_x": null,
            "overflow_y": null,
            "padding": null,
            "right": null,
            "top": null,
            "visibility": null,
            "width": null
          }
        },
        "1ee3242abce143fcb362a55988385f0f": {
          "model_module": "@jupyter-widgets/controls",
          "model_name": "DescriptionStyleModel",
          "model_module_version": "1.5.0",
          "state": {
            "_model_module": "@jupyter-widgets/controls",
            "_model_module_version": "1.5.0",
            "_model_name": "DescriptionStyleModel",
            "_view_count": null,
            "_view_module": "@jupyter-widgets/base",
            "_view_module_version": "1.2.0",
            "_view_name": "StyleView",
            "description_width": ""
          }
        },
        "4444f671dfeb4b20829181b512a76d26": {
          "model_module": "@jupyter-widgets/base",
          "model_name": "LayoutModel",
          "model_module_version": "1.2.0",
          "state": {
            "_model_module": "@jupyter-widgets/base",
            "_model_module_version": "1.2.0",
            "_model_name": "LayoutModel",
            "_view_count": null,
            "_view_module": "@jupyter-widgets/base",
            "_view_module_version": "1.2.0",
            "_view_name": "LayoutView",
            "align_content": null,
            "align_items": null,
            "align_self": null,
            "border": null,
            "bottom": null,
            "display": null,
            "flex": null,
            "flex_flow": null,
            "grid_area": null,
            "grid_auto_columns": null,
            "grid_auto_flow": null,
            "grid_auto_rows": null,
            "grid_column": null,
            "grid_gap": null,
            "grid_row": null,
            "grid_template_areas": null,
            "grid_template_columns": null,
            "grid_template_rows": null,
            "height": null,
            "justify_content": null,
            "justify_items": null,
            "left": null,
            "margin": null,
            "max_height": null,
            "max_width": null,
            "min_height": null,
            "min_width": null,
            "object_fit": null,
            "object_position": null,
            "order": null,
            "overflow": null,
            "overflow_x": null,
            "overflow_y": null,
            "padding": null,
            "right": null,
            "top": null,
            "visibility": null,
            "width": null
          }
        },
        "cc14f2e2e51f443a9a89882f8432c1ff": {
          "model_module": "@jupyter-widgets/controls",
          "model_name": "ProgressStyleModel",
          "model_module_version": "1.5.0",
          "state": {
            "_model_module": "@jupyter-widgets/controls",
            "_model_module_version": "1.5.0",
            "_model_name": "ProgressStyleModel",
            "_view_count": null,
            "_view_module": "@jupyter-widgets/base",
            "_view_module_version": "1.2.0",
            "_view_name": "StyleView",
            "bar_color": null,
            "description_width": ""
          }
        },
        "ae726f2d1b8e4bfb806574cf6770df63": {
          "model_module": "@jupyter-widgets/base",
          "model_name": "LayoutModel",
          "model_module_version": "1.2.0",
          "state": {
            "_model_module": "@jupyter-widgets/base",
            "_model_module_version": "1.2.0",
            "_model_name": "LayoutModel",
            "_view_count": null,
            "_view_module": "@jupyter-widgets/base",
            "_view_module_version": "1.2.0",
            "_view_name": "LayoutView",
            "align_content": null,
            "align_items": null,
            "align_self": null,
            "border": null,
            "bottom": null,
            "display": null,
            "flex": null,
            "flex_flow": null,
            "grid_area": null,
            "grid_auto_columns": null,
            "grid_auto_flow": null,
            "grid_auto_rows": null,
            "grid_column": null,
            "grid_gap": null,
            "grid_row": null,
            "grid_template_areas": null,
            "grid_template_columns": null,
            "grid_template_rows": null,
            "height": null,
            "justify_content": null,
            "justify_items": null,
            "left": null,
            "margin": null,
            "max_height": null,
            "max_width": null,
            "min_height": null,
            "min_width": null,
            "object_fit": null,
            "object_position": null,
            "order": null,
            "overflow": null,
            "overflow_x": null,
            "overflow_y": null,
            "padding": null,
            "right": null,
            "top": null,
            "visibility": null,
            "width": null
          }
        },
        "006e8b0525b34998808b18036d0ac87b": {
          "model_module": "@jupyter-widgets/controls",
          "model_name": "DescriptionStyleModel",
          "model_module_version": "1.5.0",
          "state": {
            "_model_module": "@jupyter-widgets/controls",
            "_model_module_version": "1.5.0",
            "_model_name": "DescriptionStyleModel",
            "_view_count": null,
            "_view_module": "@jupyter-widgets/base",
            "_view_module_version": "1.2.0",
            "_view_name": "StyleView",
            "description_width": ""
          }
        },
        "685cea9335254a339d19598ef3eb8bd5": {
          "model_module": "@jupyter-widgets/controls",
          "model_name": "HBoxModel",
          "model_module_version": "1.5.0",
          "state": {
            "_dom_classes": [],
            "_model_module": "@jupyter-widgets/controls",
            "_model_module_version": "1.5.0",
            "_model_name": "HBoxModel",
            "_view_count": null,
            "_view_module": "@jupyter-widgets/controls",
            "_view_module_version": "1.5.0",
            "_view_name": "HBoxView",
            "box_style": "",
            "children": [
              "IPY_MODEL_ccd47882177c40bd8e4b49d26a2479cc",
              "IPY_MODEL_95e5aa3352d54974a2015fe0a9bfe60b",
              "IPY_MODEL_6c245fa91f984b98a80c0e90447dcd41"
            ],
            "layout": "IPY_MODEL_2e05c38fb564481b8eb9b4e2c0403800"
          }
        },
        "ccd47882177c40bd8e4b49d26a2479cc": {
          "model_module": "@jupyter-widgets/controls",
          "model_name": "HTMLModel",
          "model_module_version": "1.5.0",
          "state": {
            "_dom_classes": [],
            "_model_module": "@jupyter-widgets/controls",
            "_model_module_version": "1.5.0",
            "_model_name": "HTMLModel",
            "_view_count": null,
            "_view_module": "@jupyter-widgets/controls",
            "_view_module_version": "1.5.0",
            "_view_name": "HTMLView",
            "description": "",
            "description_tooltip": null,
            "layout": "IPY_MODEL_0f6c41e4b06c43fd98a2ee2372d3dc2a",
            "placeholder": "​",
            "style": "IPY_MODEL_c5fe2865e41d4747adc447cb263333d5",
            "value": "  0%"
          }
        },
        "95e5aa3352d54974a2015fe0a9bfe60b": {
          "model_module": "@jupyter-widgets/controls",
          "model_name": "FloatProgressModel",
          "model_module_version": "1.5.0",
          "state": {
            "_dom_classes": [],
            "_model_module": "@jupyter-widgets/controls",
            "_model_module_version": "1.5.0",
            "_model_name": "FloatProgressModel",
            "_view_count": null,
            "_view_module": "@jupyter-widgets/controls",
            "_view_module_version": "1.5.0",
            "_view_name": "ProgressView",
            "bar_style": "danger",
            "description": "",
            "description_tooltip": null,
            "layout": "IPY_MODEL_7a3cc665e64744568a311a5020cd976e",
            "max": 148255,
            "min": 0,
            "orientation": "horizontal",
            "style": "IPY_MODEL_1ed94bc337174021bc6f5bf5c83710d6",
            "value": 258
          }
        },
        "6c245fa91f984b98a80c0e90447dcd41": {
          "model_module": "@jupyter-widgets/controls",
          "model_name": "HTMLModel",
          "model_module_version": "1.5.0",
          "state": {
            "_dom_classes": [],
            "_model_module": "@jupyter-widgets/controls",
            "_model_module_version": "1.5.0",
            "_model_name": "HTMLModel",
            "_view_count": null,
            "_view_module": "@jupyter-widgets/controls",
            "_view_module_version": "1.5.0",
            "_view_name": "HTMLView",
            "description": "",
            "description_tooltip": null,
            "layout": "IPY_MODEL_d66fdfea608a4a6286b281cef0a43e71",
            "placeholder": "​",
            "style": "IPY_MODEL_84b497b0b7e54e539afb470114ddde34",
            "value": " 258/148255 [01:02&lt;9:02:39,  4.55it/s]"
          }
        },
        "2e05c38fb564481b8eb9b4e2c0403800": {
          "model_module": "@jupyter-widgets/base",
          "model_name": "LayoutModel",
          "model_module_version": "1.2.0",
          "state": {
            "_model_module": "@jupyter-widgets/base",
            "_model_module_version": "1.2.0",
            "_model_name": "LayoutModel",
            "_view_count": null,
            "_view_module": "@jupyter-widgets/base",
            "_view_module_version": "1.2.0",
            "_view_name": "LayoutView",
            "align_content": null,
            "align_items": null,
            "align_self": null,
            "border": null,
            "bottom": null,
            "display": null,
            "flex": null,
            "flex_flow": null,
            "grid_area": null,
            "grid_auto_columns": null,
            "grid_auto_flow": null,
            "grid_auto_rows": null,
            "grid_column": null,
            "grid_gap": null,
            "grid_row": null,
            "grid_template_areas": null,
            "grid_template_columns": null,
            "grid_template_rows": null,
            "height": null,
            "justify_content": null,
            "justify_items": null,
            "left": null,
            "margin": null,
            "max_height": null,
            "max_width": null,
            "min_height": null,
            "min_width": null,
            "object_fit": null,
            "object_position": null,
            "order": null,
            "overflow": null,
            "overflow_x": null,
            "overflow_y": null,
            "padding": null,
            "right": null,
            "top": null,
            "visibility": null,
            "width": null
          }
        },
        "0f6c41e4b06c43fd98a2ee2372d3dc2a": {
          "model_module": "@jupyter-widgets/base",
          "model_name": "LayoutModel",
          "model_module_version": "1.2.0",
          "state": {
            "_model_module": "@jupyter-widgets/base",
            "_model_module_version": "1.2.0",
            "_model_name": "LayoutModel",
            "_view_count": null,
            "_view_module": "@jupyter-widgets/base",
            "_view_module_version": "1.2.0",
            "_view_name": "LayoutView",
            "align_content": null,
            "align_items": null,
            "align_self": null,
            "border": null,
            "bottom": null,
            "display": null,
            "flex": null,
            "flex_flow": null,
            "grid_area": null,
            "grid_auto_columns": null,
            "grid_auto_flow": null,
            "grid_auto_rows": null,
            "grid_column": null,
            "grid_gap": null,
            "grid_row": null,
            "grid_template_areas": null,
            "grid_template_columns": null,
            "grid_template_rows": null,
            "height": null,
            "justify_content": null,
            "justify_items": null,
            "left": null,
            "margin": null,
            "max_height": null,
            "max_width": null,
            "min_height": null,
            "min_width": null,
            "object_fit": null,
            "object_position": null,
            "order": null,
            "overflow": null,
            "overflow_x": null,
            "overflow_y": null,
            "padding": null,
            "right": null,
            "top": null,
            "visibility": null,
            "width": null
          }
        },
        "c5fe2865e41d4747adc447cb263333d5": {
          "model_module": "@jupyter-widgets/controls",
          "model_name": "DescriptionStyleModel",
          "model_module_version": "1.5.0",
          "state": {
            "_model_module": "@jupyter-widgets/controls",
            "_model_module_version": "1.5.0",
            "_model_name": "DescriptionStyleModel",
            "_view_count": null,
            "_view_module": "@jupyter-widgets/base",
            "_view_module_version": "1.2.0",
            "_view_name": "StyleView",
            "description_width": ""
          }
        },
        "7a3cc665e64744568a311a5020cd976e": {
          "model_module": "@jupyter-widgets/base",
          "model_name": "LayoutModel",
          "model_module_version": "1.2.0",
          "state": {
            "_model_module": "@jupyter-widgets/base",
            "_model_module_version": "1.2.0",
            "_model_name": "LayoutModel",
            "_view_count": null,
            "_view_module": "@jupyter-widgets/base",
            "_view_module_version": "1.2.0",
            "_view_name": "LayoutView",
            "align_content": null,
            "align_items": null,
            "align_self": null,
            "border": null,
            "bottom": null,
            "display": null,
            "flex": null,
            "flex_flow": null,
            "grid_area": null,
            "grid_auto_columns": null,
            "grid_auto_flow": null,
            "grid_auto_rows": null,
            "grid_column": null,
            "grid_gap": null,
            "grid_row": null,
            "grid_template_areas": null,
            "grid_template_columns": null,
            "grid_template_rows": null,
            "height": null,
            "justify_content": null,
            "justify_items": null,
            "left": null,
            "margin": null,
            "max_height": null,
            "max_width": null,
            "min_height": null,
            "min_width": null,
            "object_fit": null,
            "object_position": null,
            "order": null,
            "overflow": null,
            "overflow_x": null,
            "overflow_y": null,
            "padding": null,
            "right": null,
            "top": null,
            "visibility": null,
            "width": null
          }
        },
        "1ed94bc337174021bc6f5bf5c83710d6": {
          "model_module": "@jupyter-widgets/controls",
          "model_name": "ProgressStyleModel",
          "model_module_version": "1.5.0",
          "state": {
            "_model_module": "@jupyter-widgets/controls",
            "_model_module_version": "1.5.0",
            "_model_name": "ProgressStyleModel",
            "_view_count": null,
            "_view_module": "@jupyter-widgets/base",
            "_view_module_version": "1.2.0",
            "_view_name": "StyleView",
            "bar_color": null,
            "description_width": ""
          }
        },
        "d66fdfea608a4a6286b281cef0a43e71": {
          "model_module": "@jupyter-widgets/base",
          "model_name": "LayoutModel",
          "model_module_version": "1.2.0",
          "state": {
            "_model_module": "@jupyter-widgets/base",
            "_model_module_version": "1.2.0",
            "_model_name": "LayoutModel",
            "_view_count": null,
            "_view_module": "@jupyter-widgets/base",
            "_view_module_version": "1.2.0",
            "_view_name": "LayoutView",
            "align_content": null,
            "align_items": null,
            "align_self": null,
            "border": null,
            "bottom": null,
            "display": null,
            "flex": null,
            "flex_flow": null,
            "grid_area": null,
            "grid_auto_columns": null,
            "grid_auto_flow": null,
            "grid_auto_rows": null,
            "grid_column": null,
            "grid_gap": null,
            "grid_row": null,
            "grid_template_areas": null,
            "grid_template_columns": null,
            "grid_template_rows": null,
            "height": null,
            "justify_content": null,
            "justify_items": null,
            "left": null,
            "margin": null,
            "max_height": null,
            "max_width": null,
            "min_height": null,
            "min_width": null,
            "object_fit": null,
            "object_position": null,
            "order": null,
            "overflow": null,
            "overflow_x": null,
            "overflow_y": null,
            "padding": null,
            "right": null,
            "top": null,
            "visibility": null,
            "width": null
          }
        },
        "84b497b0b7e54e539afb470114ddde34": {
          "model_module": "@jupyter-widgets/controls",
          "model_name": "DescriptionStyleModel",
          "model_module_version": "1.5.0",
          "state": {
            "_model_module": "@jupyter-widgets/controls",
            "_model_module_version": "1.5.0",
            "_model_name": "DescriptionStyleModel",
            "_view_count": null,
            "_view_module": "@jupyter-widgets/base",
            "_view_module_version": "1.2.0",
            "_view_name": "StyleView",
            "description_width": ""
          }
        }
      }
    }
  },
  "cells": [
    {
      "cell_type": "markdown",
      "metadata": {
        "id": "view-in-github",
        "colab_type": "text"
      },
      "source": [
        "<a href=\"https://colab.research.google.com/github/SIrRob525/HSE-NES-Data-Science-Project-2024/blob/main/main.ipynb\" target=\"_parent\"><img src=\"https://colab.research.google.com/assets/colab-badge.svg\" alt=\"Open In Colab\"/></a>"
      ]
    },
    {
      "cell_type": "markdown",
      "source": [
        "# Анализ публикаций в области компьютерных наук на основе базы данных DBLP\n",
        "\n",
        "**О проекте DBLP:** \"DBLP (Digital Bibliography & Library Project) — это проект, который представляет собой электронную библиографическую базу данных по информатике. Он содержит информацию о научных публикациях, конференциях и других событиях в области информатики. Он поддерживается сообществом исследователей и разработчиков, которые вносят свой вклад в его развитие. База данных постоянно обновляется и расширяется, что делает её ценным источником информации для учёных, студентов и всех, кто интересуется информатикой.\" (Yandex GPT 3 Pro, ред.). Официальный сайт проекта: https://dblp.uni-trier.de/"
      ],
      "metadata": {
        "id": "0-YXKi9M6cj9"
      }
    },
    {
      "cell_type": "markdown",
      "source": [
        "**Задачи:**\n",
        "\n",
        "1.   Визуализировать сетевой граф публикаций (где связь отражает цитирование работы). Ожидается, что мы увидим наличие больших кластеров работ со схожей тематикой.\n",
        "2.   \n",
        "\n"
      ],
      "metadata": {
        "id": "Q3RjkmslfQ0U"
      }
    },
    {
      "cell_type": "markdown",
      "source": [
        "### 1. Преобразование XML-дампа в SQL базу данных"
      ],
      "metadata": {
        "id": "pqHnKBxygx72"
      }
    },
    {
      "cell_type": "markdown",
      "source": [
        "Для начала, скачаем XML-дамп c официального сайта проекта."
      ],
      "metadata": {
        "id": "S07xn2vV6hDo"
      }
    },
    {
      "cell_type": "code",
      "execution_count": null,
      "metadata": {
        "colab": {
          "base_uri": "https://localhost:8080/"
        },
        "id": "u_zneads5uZc",
        "outputId": "ec465612-e434-4dd3-b428-2ca2dbeb4af1"
      },
      "outputs": [
        {
          "output_type": "stream",
          "name": "stdout",
          "text": [
            "--2024-06-06 19:24:14--  https://dblp.org/xml/dblp.xml.gz\n",
            "Resolving dblp.org (dblp.org)... 192.76.146.204\n",
            "Connecting to dblp.org (dblp.org)|192.76.146.204|:443... connected.\n",
            "HTTP request sent, awaiting response... 200 OK\n",
            "Length: 870720986 (830M) [application/x-gzip]\n",
            "Saving to: ‘dblp.xml.gz’\n",
            "\n",
            "dblp.xml.gz         100%[===================>] 830.38M  8.34MB/s    in 2m 43s  \n",
            "\n",
            "2024-06-06 19:26:58 (5.11 MB/s) - ‘dblp.xml.gz’ saved [870720986/870720986]\n",
            "\n",
            "--2024-06-06 19:27:47--  https://dblp.org/xml/dblp.dtd\n",
            "Resolving dblp.org (dblp.org)... 192.76.146.204\n",
            "Connecting to dblp.org (dblp.org)|192.76.146.204|:443... connected.\n",
            "HTTP request sent, awaiting response... 200 OK\n",
            "Length: 13134 (13K) [application/xml-dtd]\n",
            "Saving to: ‘dblp.dtd’\n",
            "\n",
            "dblp.dtd            100%[===================>]  12.83K  --.-KB/s    in 0.04s   \n",
            "\n",
            "2024-06-06 19:27:48 (333 KB/s) - ‘dblp.dtd’ saved [13134/13134]\n",
            "\n"
          ]
        }
      ],
      "source": [
        "!wget https://dblp.org/xml/dblp.xml.gz\n",
        "!gzip -d dblp.xml.gz\n",
        "!wget https://dblp.org/xml/dblp.dtd"
      ]
    },
    {
      "cell_type": "markdown",
      "source": [
        "Работать с XML сложно, более того, он не влезает в оперативную память. Я решил итеративно считать элементы файла и записать их в SQL базу данных. Это было не так тривиально, как кажется, так как было превышение RAM в силу особенностей функции `iterparse`. Помог разобраться ответ со StackOverflow https://stackoverflow.com/questions/12160418/why-is-lxml-etree-iterparse-eating-up-all-my-memory.\n",
        "\n",
        "Будте осторожны! Запись в базу длится около 35 минут, так как дамп содержит более 10 миллионов записей. Для удобства я сохранил файл базы данных на Диск и далее работал с ним (файл не доступен на GitHub в связи с ограничениями по памяти)."
      ],
      "metadata": {
        "id": "lZzT4K58L7lD"
      }
    },
    {
      "cell_type": "code",
      "source": [
        "# WARNING: runs for ~35 minutes.\n",
        "\n",
        "from lxml import etree as ET\n",
        "import sqlite3\n",
        "from tqdm import tqdm\n",
        "import re\n",
        "\n",
        "def dblp_xml_to_database(input_file, output_file, batch_size=100000):\n",
        "    conn = sqlite3.connect(output_file)\n",
        "    cur = conn.cursor()\n",
        "    cur.execute(\"\"\"CREATE TABLE IF NOT EXISTS dblp(\n",
        "        type varchar(50),\n",
        "        key varchar(50),\n",
        "        mdate varchar(50),\n",
        "        author varchar(50),\n",
        "        editor varchar(50),\n",
        "        title varchar(50),\n",
        "        booktitle varchar(50),\n",
        "        pages varchar(50),\n",
        "        year varchar(50),\n",
        "        address varchar(50),\n",
        "        journal varchar(50),\n",
        "        volume varchar(50),\n",
        "        number varchar(50),\n",
        "        month varchar(50),\n",
        "        url varchar(50),\n",
        "        ee varchar(50),\n",
        "        cdrom varchar(50),\n",
        "        cite varchar(50),\n",
        "        publisher varchar(50),\n",
        "        note varchar(50),\n",
        "        crossref varchar(50),\n",
        "        isbn varchar(50),\n",
        "        series varchar(50),\n",
        "        school varchar(50),\n",
        "        chapter varchar(50),\n",
        "        publnr varchar(50),\n",
        "        stream varchar(50),\n",
        "        rel varchar(50),\n",
        "        ref varchar(50),\n",
        "        sup varchar(50),\n",
        "        sub varchar(50),\n",
        "        i varchar(50),\n",
        "        tt, varchar(50)\n",
        "    );\"\"\")\n",
        "\n",
        "    element_count = 0\n",
        "    for i, element in tqdm(enumerate(ET.iterparse(input_file, events=[\"start\", \"end\"], dtd_validation=True))):\n",
        "        if element[0] == \"start\" and element[1].tag in \\\n",
        "              set(\"article|inproceedings|proceedings|book|incollection|phdthesis|mastersthesis|www|person|data\".split(\"|\")):\n",
        "            row = {\"type\" : element[1].tag}\n",
        "            if element[1].attrib.get(\"key\") is not None:\n",
        "                row[\"key\"] = element[1].attrib.get(\"key\")\n",
        "            if element[1].attrib.get(\"mdate\") is not None:\n",
        "                row[\"mdate\"] = element[1].attrib.get(\"mdate\")\n",
        "        elif element[0] == \"start\" and element[1].tag != \"dblp\":\n",
        "            if element[1].text is not None:\n",
        "                row[element[1].tag] = element[1].text\n",
        "        elif element[0] == \"end\" and element[1].tag in \\\n",
        "              set(\"article|inproceedings|proceedings|book|incollection|phdthesis|mastersthesis|www|person|data\".split(\"|\")):\n",
        "            keys_str = \", \".join(row.keys())\n",
        "            values = [re.sub(r'\"', r'\"\"', v) for v in row.values()]\n",
        "            values_str = '\"' + '\", \"'.join(values) + '\"'\n",
        "            cur.execute(f'''INSERT INTO dblp({keys_str})\n",
        "                            VALUES ({values_str});''')\n",
        "            element_count += 1\n",
        "\n",
        "            if element_count % batch_size == 0:\n",
        "                conn.commit()\n",
        "                print(f\"\\nBatch {element_count // batch_size} was inserted.\")\n",
        "\n",
        "            element[1].clear()\n",
        "            while element[1].getprevious() is not None:\n",
        "                del element[1].getparent()[0]\n",
        "\n",
        "    conn.commit()\n",
        "    print(\"\\nFinal commit.\")\n",
        "\n",
        "\n",
        "    conn.close()\n",
        "    print(f\"\\nTotal of {element_count} elements was inserted.\")\n",
        "\n",
        "dblp_xml_to_database(\"dblp.xml\", \"dblp.db\")"
      ],
      "metadata": {
        "colab": {
          "base_uri": "https://localhost:8080/"
        },
        "id": "vp5TPUHcGgje",
        "outputId": "1cd4ffdf-f606-4892-b607-2cf37bad0c59"
      },
      "execution_count": 18,
      "outputs": [
        {
          "metadata": {
            "tags": null
          },
          "name": "stderr",
          "output_type": "stream",
          "text": [
            "2168245it [00:22, 82045.72it/s]"
          ]
        },
        {
          "metadata": {
            "tags": null
          },
          "name": "stdout",
          "output_type": "stream",
          "text": [
            "\n",
            "Batch 1 was inserted.\n"
          ]
        },
        {
          "metadata": {
            "tags": null
          },
          "name": "stderr",
          "output_type": "stream",
          "text": [
            "4412926it [00:42, 137638.95it/s]"
          ]
        },
        {
          "metadata": {
            "tags": null
          },
          "name": "stdout",
          "output_type": "stream",
          "text": [
            "\n",
            "Batch 2 was inserted.\n"
          ]
        },
        {
          "metadata": {
            "tags": null
          },
          "name": "stderr",
          "output_type": "stream",
          "text": [
            "6674550it [01:03, 88980.27it/s]"
          ]
        },
        {
          "metadata": {
            "tags": null
          },
          "name": "stdout",
          "output_type": "stream",
          "text": [
            "\n",
            "Batch 3 was inserted.\n"
          ]
        },
        {
          "metadata": {
            "tags": null
          },
          "name": "stderr",
          "output_type": "stream",
          "text": [
            "9027758it [01:35, 97297.98it/s]"
          ]
        },
        {
          "metadata": {
            "tags": null
          },
          "name": "stdout",
          "output_type": "stream",
          "text": [
            "\n",
            "Batch 4 was inserted.\n"
          ]
        },
        {
          "metadata": {
            "tags": null
          },
          "name": "stderr",
          "output_type": "stream",
          "text": [
            "11312906it [02:02, 84687.85it/s]"
          ]
        },
        {
          "metadata": {
            "tags": null
          },
          "name": "stdout",
          "output_type": "stream",
          "text": [
            "\n",
            "Batch 5 was inserted.\n"
          ]
        },
        {
          "metadata": {
            "tags": null
          },
          "name": "stderr",
          "output_type": "stream",
          "text": [
            "13580729it [02:30, 95089.03it/s]"
          ]
        },
        {
          "metadata": {
            "tags": null
          },
          "name": "stdout",
          "output_type": "stream",
          "text": [
            "\n",
            "Batch 6 was inserted.\n"
          ]
        },
        {
          "metadata": {
            "tags": null
          },
          "name": "stderr",
          "output_type": "stream",
          "text": [
            "15833217it [02:55, 76073.91it/s]"
          ]
        },
        {
          "metadata": {
            "tags": null
          },
          "name": "stdout",
          "output_type": "stream",
          "text": [
            "\n",
            "Batch 7 was inserted.\n"
          ]
        },
        {
          "metadata": {
            "tags": null
          },
          "name": "stderr",
          "output_type": "stream",
          "text": [
            "18117438it [03:11, 83090.08it/s]"
          ]
        },
        {
          "metadata": {
            "tags": null
          },
          "name": "stdout",
          "output_type": "stream",
          "text": [
            "\n",
            "Batch 8 was inserted.\n"
          ]
        },
        {
          "metadata": {
            "tags": null
          },
          "name": "stderr",
          "output_type": "stream",
          "text": [
            "20413777it [03:35, 70161.47it/s]"
          ]
        },
        {
          "metadata": {
            "tags": null
          },
          "name": "stdout",
          "output_type": "stream",
          "text": [
            "\n",
            "Batch 9 was inserted.\n"
          ]
        },
        {
          "metadata": {
            "tags": null
          },
          "name": "stderr",
          "output_type": "stream",
          "text": [
            "22722185it [03:57, 152679.83it/s]"
          ]
        },
        {
          "metadata": {
            "tags": null
          },
          "name": "stdout",
          "output_type": "stream",
          "text": [
            "\n",
            "Batch 10 was inserted.\n"
          ]
        },
        {
          "metadata": {
            "tags": null
          },
          "name": "stderr",
          "output_type": "stream",
          "text": [
            "25029535it [04:18, 79019.83it/s]"
          ]
        },
        {
          "metadata": {
            "tags": null
          },
          "name": "stdout",
          "output_type": "stream",
          "text": [
            "\n",
            "Batch 11 was inserted.\n"
          ]
        },
        {
          "metadata": {
            "tags": null
          },
          "name": "stderr",
          "output_type": "stream",
          "text": [
            "27337494it [04:47, 55933.06it/s]"
          ]
        },
        {
          "metadata": {
            "tags": null
          },
          "name": "stdout",
          "output_type": "stream",
          "text": [
            "\n",
            "Batch 12 was inserted.\n"
          ]
        },
        {
          "metadata": {
            "tags": null
          },
          "name": "stderr",
          "output_type": "stream",
          "text": [
            "29612858it [05:13, 75000.39it/s]"
          ]
        },
        {
          "metadata": {
            "tags": null
          },
          "name": "stdout",
          "output_type": "stream",
          "text": [
            "\n",
            "Batch 13 was inserted.\n"
          ]
        },
        {
          "metadata": {
            "tags": null
          },
          "name": "stderr",
          "output_type": "stream",
          "text": [
            "31887695it [05:39, 86446.13it/s]"
          ]
        },
        {
          "metadata": {
            "tags": null
          },
          "name": "stdout",
          "output_type": "stream",
          "text": [
            "\n",
            "Batch 14 was inserted.\n"
          ]
        },
        {
          "metadata": {
            "tags": null
          },
          "name": "stderr",
          "output_type": "stream",
          "text": [
            "34175579it [06:03, 100382.62it/s]"
          ]
        },
        {
          "metadata": {
            "tags": null
          },
          "name": "stdout",
          "output_type": "stream",
          "text": [
            "\n",
            "Batch 15 was inserted.\n"
          ]
        },
        {
          "metadata": {
            "tags": null
          },
          "name": "stderr",
          "output_type": "stream",
          "text": [
            "36462615it [06:19, 73498.18it/s]"
          ]
        },
        {
          "metadata": {
            "tags": null
          },
          "name": "stdout",
          "output_type": "stream",
          "text": [
            "\n",
            "Batch 16 was inserted.\n"
          ]
        },
        {
          "metadata": {
            "tags": null
          },
          "name": "stderr",
          "output_type": "stream",
          "text": [
            "38738920it [06:43, 80028.32it/s]"
          ]
        },
        {
          "metadata": {
            "tags": null
          },
          "name": "stdout",
          "output_type": "stream",
          "text": [
            "\n",
            "Batch 17 was inserted.\n"
          ]
        },
        {
          "metadata": {
            "tags": null
          },
          "name": "stderr",
          "output_type": "stream",
          "text": [
            "41049747it [07:02, 139201.56it/s]"
          ]
        },
        {
          "metadata": {
            "tags": null
          },
          "name": "stdout",
          "output_type": "stream",
          "text": [
            "\n",
            "Batch 18 was inserted.\n"
          ]
        },
        {
          "metadata": {
            "tags": null
          },
          "name": "stderr",
          "output_type": "stream",
          "text": [
            "43426591it [07:25, 81095.86it/s]"
          ]
        },
        {
          "metadata": {
            "tags": null
          },
          "name": "stdout",
          "output_type": "stream",
          "text": [
            "\n",
            "Batch 19 was inserted.\n"
          ]
        },
        {
          "metadata": {
            "tags": null
          },
          "name": "stderr",
          "output_type": "stream",
          "text": [
            "45769937it [07:51, 81082.65it/s]"
          ]
        },
        {
          "metadata": {
            "tags": null
          },
          "name": "stdout",
          "output_type": "stream",
          "text": [
            "\n",
            "Batch 20 was inserted.\n"
          ]
        },
        {
          "metadata": {
            "tags": null
          },
          "name": "stderr",
          "output_type": "stream",
          "text": [
            "48033359it [08:18, 64333.29it/s]"
          ]
        },
        {
          "metadata": {
            "tags": null
          },
          "name": "stdout",
          "output_type": "stream",
          "text": [
            "\n",
            "Batch 21 was inserted.\n"
          ]
        },
        {
          "metadata": {
            "tags": null
          },
          "name": "stderr",
          "output_type": "stream",
          "text": [
            "50290658it [08:43, 82956.30it/s]"
          ]
        },
        {
          "metadata": {
            "tags": null
          },
          "name": "stdout",
          "output_type": "stream",
          "text": [
            "\n",
            "Batch 22 was inserted.\n"
          ]
        },
        {
          "metadata": {
            "tags": null
          },
          "name": "stderr",
          "output_type": "stream",
          "text": [
            "52617879it [09:08, 147403.02it/s]"
          ]
        },
        {
          "metadata": {
            "tags": null
          },
          "name": "stdout",
          "output_type": "stream",
          "text": [
            "\n",
            "Batch 23 was inserted.\n"
          ]
        },
        {
          "metadata": {
            "tags": null
          },
          "name": "stderr",
          "output_type": "stream",
          "text": [
            "54862465it [09:24, 76326.59it/s]"
          ]
        },
        {
          "metadata": {
            "tags": null
          },
          "name": "stdout",
          "output_type": "stream",
          "text": [
            "\n",
            "Batch 24 was inserted.\n"
          ]
        },
        {
          "metadata": {
            "tags": null
          },
          "name": "stderr",
          "output_type": "stream",
          "text": [
            "57121487it [09:48, 83171.99it/s]"
          ]
        },
        {
          "metadata": {
            "tags": null
          },
          "name": "stdout",
          "output_type": "stream",
          "text": [
            "\n",
            "Batch 25 was inserted.\n"
          ]
        },
        {
          "metadata": {
            "tags": null
          },
          "name": "stderr",
          "output_type": "stream",
          "text": [
            "59406084it [10:07, 133282.23it/s]"
          ]
        },
        {
          "metadata": {
            "tags": null
          },
          "name": "stdout",
          "output_type": "stream",
          "text": [
            "\n",
            "Batch 26 was inserted.\n"
          ]
        },
        {
          "metadata": {
            "tags": null
          },
          "name": "stderr",
          "output_type": "stream",
          "text": [
            "61774627it [10:29, 72943.27it/s]"
          ]
        },
        {
          "metadata": {
            "tags": null
          },
          "name": "stdout",
          "output_type": "stream",
          "text": [
            "\n",
            "Batch 27 was inserted.\n"
          ]
        },
        {
          "metadata": {
            "tags": null
          },
          "name": "stderr",
          "output_type": "stream",
          "text": [
            "64153371it [10:53, 120439.94it/s]"
          ]
        },
        {
          "metadata": {
            "tags": null
          },
          "name": "stdout",
          "output_type": "stream",
          "text": [
            "\n",
            "Batch 28 was inserted.\n"
          ]
        },
        {
          "metadata": {
            "tags": null
          },
          "name": "stderr",
          "output_type": "stream",
          "text": [
            "66402015it [11:15, 72708.94it/s]"
          ]
        },
        {
          "metadata": {
            "tags": null
          },
          "name": "stdout",
          "output_type": "stream",
          "text": [
            "\n",
            "Batch 29 was inserted.\n"
          ]
        },
        {
          "metadata": {
            "tags": null
          },
          "name": "stderr",
          "output_type": "stream",
          "text": [
            "68752433it [11:49, 83419.33it/s]"
          ]
        },
        {
          "metadata": {
            "tags": null
          },
          "name": "stdout",
          "output_type": "stream",
          "text": [
            "\n",
            "Batch 30 was inserted.\n"
          ]
        },
        {
          "metadata": {
            "tags": null
          },
          "name": "stderr",
          "output_type": "stream",
          "text": [
            "71092146it [12:14, 78683.55it/s]"
          ]
        },
        {
          "metadata": {
            "tags": null
          },
          "name": "stdout",
          "output_type": "stream",
          "text": [
            "\n",
            "Batch 31 was inserted.\n"
          ]
        },
        {
          "metadata": {
            "tags": null
          },
          "name": "stderr",
          "output_type": "stream",
          "text": [
            "73462885it [12:35, 131821.08it/s]"
          ]
        },
        {
          "metadata": {
            "tags": null
          },
          "name": "stdout",
          "output_type": "stream",
          "text": [
            "\n",
            "Batch 32 was inserted.\n"
          ]
        },
        {
          "metadata": {
            "tags": null
          },
          "name": "stderr",
          "output_type": "stream",
          "text": [
            "75729733it [12:57, 79632.49it/s]"
          ]
        },
        {
          "metadata": {
            "tags": null
          },
          "name": "stdout",
          "output_type": "stream",
          "text": [
            "\n",
            "Batch 33 was inserted.\n"
          ]
        },
        {
          "metadata": {
            "tags": null
          },
          "name": "stderr",
          "output_type": "stream",
          "text": [
            "77999341it [13:21, 107905.66it/s]"
          ]
        },
        {
          "metadata": {
            "tags": null
          },
          "name": "stdout",
          "output_type": "stream",
          "text": [
            "\n",
            "Batch 34 was inserted.\n"
          ]
        },
        {
          "metadata": {
            "tags": null
          },
          "name": "stderr",
          "output_type": "stream",
          "text": [
            "80334712it [13:38, 76980.07it/s]"
          ]
        },
        {
          "metadata": {
            "tags": null
          },
          "name": "stdout",
          "output_type": "stream",
          "text": [
            "\n",
            "Batch 35 was inserted.\n"
          ]
        },
        {
          "metadata": {
            "tags": null
          },
          "name": "stderr",
          "output_type": "stream",
          "text": [
            "82274465it [13:59, 57136.93it/s]"
          ]
        },
        {
          "metadata": {
            "tags": null
          },
          "name": "stdout",
          "output_type": "stream",
          "text": [
            "\n",
            "Batch 36 was inserted.\n"
          ]
        },
        {
          "metadata": {
            "tags": null
          },
          "name": "stderr",
          "output_type": "stream",
          "text": [
            "82908647it [14:08, 59222.08it/s]"
          ]
        },
        {
          "metadata": {
            "tags": null
          },
          "name": "stdout",
          "output_type": "stream",
          "text": [
            "\n",
            "Batch 37 was inserted.\n"
          ]
        },
        {
          "metadata": {
            "tags": null
          },
          "name": "stderr",
          "output_type": "stream",
          "text": [
            "83542987it [14:18, 63425.28it/s]"
          ]
        },
        {
          "metadata": {
            "tags": null
          },
          "name": "stdout",
          "output_type": "stream",
          "text": [
            "\n",
            "Batch 38 was inserted.\n"
          ]
        },
        {
          "metadata": {
            "tags": null
          },
          "name": "stderr",
          "output_type": "stream",
          "text": [
            "84192791it [14:28, 44604.30it/s]"
          ]
        },
        {
          "metadata": {
            "tags": null
          },
          "name": "stdout",
          "output_type": "stream",
          "text": [
            "\n",
            "Batch 39 was inserted.\n"
          ]
        },
        {
          "metadata": {
            "tags": null
          },
          "name": "stderr",
          "output_type": "stream",
          "text": [
            "84822872it [14:38, 53419.01it/s]"
          ]
        },
        {
          "metadata": {
            "tags": null
          },
          "name": "stdout",
          "output_type": "stream",
          "text": [
            "\n",
            "Batch 40 was inserted.\n"
          ]
        },
        {
          "metadata": {
            "tags": null
          },
          "name": "stderr",
          "output_type": "stream",
          "text": [
            "85462368it [14:49, 53463.67it/s]"
          ]
        },
        {
          "metadata": {
            "tags": null
          },
          "name": "stdout",
          "output_type": "stream",
          "text": [
            "\n",
            "Batch 41 was inserted.\n"
          ]
        },
        {
          "metadata": {
            "tags": null
          },
          "name": "stderr",
          "output_type": "stream",
          "text": [
            "86112602it [15:00, 47348.52it/s]"
          ]
        },
        {
          "metadata": {
            "tags": null
          },
          "name": "stdout",
          "output_type": "stream",
          "text": [
            "\n",
            "Batch 42 was inserted.\n"
          ]
        },
        {
          "metadata": {
            "tags": null
          },
          "name": "stderr",
          "output_type": "stream",
          "text": [
            "86749459it [15:09, 57389.62it/s]"
          ]
        },
        {
          "metadata": {
            "tags": null
          },
          "name": "stdout",
          "output_type": "stream",
          "text": [
            "\n",
            "Batch 43 was inserted.\n"
          ]
        },
        {
          "metadata": {
            "tags": null
          },
          "name": "stderr",
          "output_type": "stream",
          "text": [
            "87406735it [15:19, 50755.16it/s]"
          ]
        },
        {
          "metadata": {
            "tags": null
          },
          "name": "stdout",
          "output_type": "stream",
          "text": [
            "\n",
            "Batch 44 was inserted.\n"
          ]
        },
        {
          "metadata": {
            "tags": null
          },
          "name": "stderr",
          "output_type": "stream",
          "text": [
            "88054527it [15:29, 57875.23it/s]"
          ]
        },
        {
          "metadata": {
            "tags": null
          },
          "name": "stdout",
          "output_type": "stream",
          "text": [
            "\n",
            "Batch 45 was inserted.\n"
          ]
        },
        {
          "metadata": {
            "tags": null
          },
          "name": "stderr",
          "output_type": "stream",
          "text": [
            "88709198it [15:39, 87217.79it/s]"
          ]
        },
        {
          "metadata": {
            "tags": null
          },
          "name": "stdout",
          "output_type": "stream",
          "text": [
            "\n",
            "Batch 46 was inserted.\n"
          ]
        },
        {
          "metadata": {
            "tags": null
          },
          "name": "stderr",
          "output_type": "stream",
          "text": [
            "89350890it [15:45, 102815.23it/s]"
          ]
        },
        {
          "metadata": {
            "tags": null
          },
          "name": "stdout",
          "output_type": "stream",
          "text": [
            "\n",
            "Batch 47 was inserted.\n"
          ]
        },
        {
          "metadata": {
            "tags": null
          },
          "name": "stderr",
          "output_type": "stream",
          "text": [
            "89980560it [15:52, 66830.36it/s]"
          ]
        },
        {
          "metadata": {
            "tags": null
          },
          "name": "stdout",
          "output_type": "stream",
          "text": [
            "\n",
            "Batch 48 was inserted.\n"
          ]
        },
        {
          "metadata": {
            "tags": null
          },
          "name": "stderr",
          "output_type": "stream",
          "text": [
            "90611764it [16:01, 62731.34it/s]"
          ]
        },
        {
          "metadata": {
            "tags": null
          },
          "name": "stdout",
          "output_type": "stream",
          "text": [
            "\n",
            "Batch 49 was inserted.\n"
          ]
        },
        {
          "metadata": {
            "tags": null
          },
          "name": "stderr",
          "output_type": "stream",
          "text": [
            "91234591it [16:10, 57113.67it/s]"
          ]
        },
        {
          "metadata": {
            "tags": null
          },
          "name": "stdout",
          "output_type": "stream",
          "text": [
            "\n",
            "Batch 50 was inserted.\n"
          ]
        },
        {
          "metadata": {
            "tags": null
          },
          "name": "stderr",
          "output_type": "stream",
          "text": [
            "91876468it [16:20, 61321.42it/s]"
          ]
        },
        {
          "metadata": {
            "tags": null
          },
          "name": "stdout",
          "output_type": "stream",
          "text": [
            "\n",
            "Batch 51 was inserted.\n"
          ]
        },
        {
          "metadata": {
            "tags": null
          },
          "name": "stderr",
          "output_type": "stream",
          "text": [
            "92511442it [16:29, 61773.26it/s]"
          ]
        },
        {
          "metadata": {
            "tags": null
          },
          "name": "stdout",
          "output_type": "stream",
          "text": [
            "\n",
            "Batch 52 was inserted.\n"
          ]
        },
        {
          "metadata": {
            "tags": null
          },
          "name": "stderr",
          "output_type": "stream",
          "text": [
            "93152692it [16:36, 108624.03it/s]"
          ]
        },
        {
          "metadata": {
            "tags": null
          },
          "name": "stdout",
          "output_type": "stream",
          "text": [
            "\n",
            "Batch 53 was inserted.\n"
          ]
        },
        {
          "metadata": {
            "tags": null
          },
          "name": "stderr",
          "output_type": "stream",
          "text": [
            "93799657it [16:42, 109317.84it/s]"
          ]
        },
        {
          "metadata": {
            "tags": null
          },
          "name": "stdout",
          "output_type": "stream",
          "text": [
            "\n",
            "Batch 54 was inserted.\n"
          ]
        },
        {
          "metadata": {
            "tags": null
          },
          "name": "stderr",
          "output_type": "stream",
          "text": [
            "94448460it [16:51, 58649.84it/s]"
          ]
        },
        {
          "metadata": {
            "tags": null
          },
          "name": "stdout",
          "output_type": "stream",
          "text": [
            "\n",
            "Batch 55 was inserted.\n"
          ]
        },
        {
          "metadata": {
            "tags": null
          },
          "name": "stderr",
          "output_type": "stream",
          "text": [
            "95086935it [17:01, 59315.70it/s]"
          ]
        },
        {
          "metadata": {
            "tags": null
          },
          "name": "stdout",
          "output_type": "stream",
          "text": [
            "\n",
            "Batch 56 was inserted.\n"
          ]
        },
        {
          "metadata": {
            "tags": null
          },
          "name": "stderr",
          "output_type": "stream",
          "text": [
            "95751323it [17:11, 59593.34it/s]"
          ]
        },
        {
          "metadata": {
            "tags": null
          },
          "name": "stdout",
          "output_type": "stream",
          "text": [
            "\n",
            "Batch 57 was inserted.\n"
          ]
        },
        {
          "metadata": {
            "tags": null
          },
          "name": "stderr",
          "output_type": "stream",
          "text": [
            "96375795it [17:20, 59659.32it/s]"
          ]
        },
        {
          "metadata": {
            "tags": null
          },
          "name": "stdout",
          "output_type": "stream",
          "text": [
            "\n",
            "Batch 58 was inserted.\n"
          ]
        },
        {
          "metadata": {
            "tags": null
          },
          "name": "stderr",
          "output_type": "stream",
          "text": [
            "96999917it [17:29, 63971.96it/s]"
          ]
        },
        {
          "metadata": {
            "tags": null
          },
          "name": "stdout",
          "output_type": "stream",
          "text": [
            "\n",
            "Batch 59 was inserted.\n"
          ]
        },
        {
          "metadata": {
            "tags": null
          },
          "name": "stderr",
          "output_type": "stream",
          "text": [
            "97660711it [17:39, 56785.72it/s]"
          ]
        },
        {
          "metadata": {
            "tags": null
          },
          "name": "stdout",
          "output_type": "stream",
          "text": [
            "\n",
            "Batch 60 was inserted.\n"
          ]
        },
        {
          "metadata": {
            "tags": null
          },
          "name": "stderr",
          "output_type": "stream",
          "text": [
            "98313654it [17:49, 60844.19it/s]"
          ]
        },
        {
          "metadata": {
            "tags": null
          },
          "name": "stdout",
          "output_type": "stream",
          "text": [
            "\n",
            "Batch 61 was inserted.\n"
          ]
        },
        {
          "metadata": {
            "tags": null
          },
          "name": "stderr",
          "output_type": "stream",
          "text": [
            "98949302it [18:00, 49473.05it/s]"
          ]
        },
        {
          "metadata": {
            "tags": null
          },
          "name": "stdout",
          "output_type": "stream",
          "text": [
            "\n",
            "Batch 62 was inserted.\n"
          ]
        },
        {
          "metadata": {
            "tags": null
          },
          "name": "stderr",
          "output_type": "stream",
          "text": [
            "99581221it [18:09, 52549.39it/s]"
          ]
        },
        {
          "metadata": {
            "tags": null
          },
          "name": "stdout",
          "output_type": "stream",
          "text": [
            "\n",
            "Batch 63 was inserted.\n"
          ]
        },
        {
          "metadata": {
            "tags": null
          },
          "name": "stderr",
          "output_type": "stream",
          "text": [
            "100222479it [18:20, 47090.48it/s]"
          ]
        },
        {
          "metadata": {
            "tags": null
          },
          "name": "stdout",
          "output_type": "stream",
          "text": [
            "\n",
            "Batch 64 was inserted.\n"
          ]
        },
        {
          "metadata": {
            "tags": null
          },
          "name": "stderr",
          "output_type": "stream",
          "text": [
            "100848170it [18:29, 63730.53it/s]"
          ]
        },
        {
          "metadata": {
            "tags": null
          },
          "name": "stdout",
          "output_type": "stream",
          "text": [
            "\n",
            "Batch 65 was inserted.\n"
          ]
        },
        {
          "metadata": {
            "tags": null
          },
          "name": "stderr",
          "output_type": "stream",
          "text": [
            "101485659it [18:39, 56915.81it/s]"
          ]
        },
        {
          "metadata": {
            "tags": null
          },
          "name": "stdout",
          "output_type": "stream",
          "text": [
            "\n",
            "Batch 66 was inserted.\n"
          ]
        },
        {
          "metadata": {
            "tags": null
          },
          "name": "stderr",
          "output_type": "stream",
          "text": [
            "102146067it [18:49, 61798.43it/s]"
          ]
        },
        {
          "metadata": {
            "tags": null
          },
          "name": "stdout",
          "output_type": "stream",
          "text": [
            "\n",
            "Batch 67 was inserted.\n"
          ]
        },
        {
          "metadata": {
            "tags": null
          },
          "name": "stderr",
          "output_type": "stream",
          "text": [
            "102783855it [18:56, 108992.63it/s]"
          ]
        },
        {
          "metadata": {
            "tags": null
          },
          "name": "stdout",
          "output_type": "stream",
          "text": [
            "\n",
            "Batch 68 was inserted.\n"
          ]
        },
        {
          "metadata": {
            "tags": null
          },
          "name": "stderr",
          "output_type": "stream",
          "text": [
            "103426070it [19:01, 105066.83it/s]"
          ]
        },
        {
          "metadata": {
            "tags": null
          },
          "name": "stdout",
          "output_type": "stream",
          "text": [
            "\n",
            "Batch 69 was inserted.\n"
          ]
        },
        {
          "metadata": {
            "tags": null
          },
          "name": "stderr",
          "output_type": "stream",
          "text": [
            "104072292it [19:10, 61616.44it/s]"
          ]
        },
        {
          "metadata": {
            "tags": null
          },
          "name": "stdout",
          "output_type": "stream",
          "text": [
            "\n",
            "Batch 70 was inserted.\n"
          ]
        },
        {
          "metadata": {
            "tags": null
          },
          "name": "stderr",
          "output_type": "stream",
          "text": [
            "104711113it [19:20, 59028.34it/s]"
          ]
        },
        {
          "metadata": {
            "tags": null
          },
          "name": "stdout",
          "output_type": "stream",
          "text": [
            "\n",
            "Batch 71 was inserted.\n"
          ]
        },
        {
          "metadata": {
            "tags": null
          },
          "name": "stderr",
          "output_type": "stream",
          "text": [
            "107093757it [19:46, 70561.97it/s]"
          ]
        },
        {
          "metadata": {
            "tags": null
          },
          "name": "stdout",
          "output_type": "stream",
          "text": [
            "\n",
            "Batch 72 was inserted.\n"
          ]
        },
        {
          "metadata": {
            "tags": null
          },
          "name": "stderr",
          "output_type": "stream",
          "text": [
            "109664171it [20:06, 89735.36it/s]"
          ]
        },
        {
          "metadata": {
            "tags": null
          },
          "name": "stdout",
          "output_type": "stream",
          "text": [
            "\n",
            "Batch 73 was inserted.\n"
          ]
        },
        {
          "metadata": {
            "tags": null
          },
          "name": "stderr",
          "output_type": "stream",
          "text": [
            "112099837it [20:31, 79025.35it/s]"
          ]
        },
        {
          "metadata": {
            "tags": null
          },
          "name": "stdout",
          "output_type": "stream",
          "text": [
            "\n",
            "Batch 74 was inserted.\n"
          ]
        },
        {
          "metadata": {
            "tags": null
          },
          "name": "stderr",
          "output_type": "stream",
          "text": [
            "114572841it [20:54, 59907.34it/s]"
          ]
        },
        {
          "metadata": {
            "tags": null
          },
          "name": "stdout",
          "output_type": "stream",
          "text": [
            "\n",
            "Batch 75 was inserted.\n"
          ]
        },
        {
          "metadata": {
            "tags": null
          },
          "name": "stderr",
          "output_type": "stream",
          "text": [
            "116978817it [21:20, 61726.66it/s]"
          ]
        },
        {
          "metadata": {
            "tags": null
          },
          "name": "stdout",
          "output_type": "stream",
          "text": [
            "\n",
            "Batch 76 was inserted.\n"
          ]
        },
        {
          "metadata": {
            "tags": null
          },
          "name": "stderr",
          "output_type": "stream",
          "text": [
            "119400065it [21:52, 67086.33it/s]"
          ]
        },
        {
          "metadata": {
            "tags": null
          },
          "name": "stdout",
          "output_type": "stream",
          "text": [
            "\n",
            "Batch 77 was inserted.\n"
          ]
        },
        {
          "metadata": {
            "tags": null
          },
          "name": "stderr",
          "output_type": "stream",
          "text": [
            "121861955it [22:20, 166589.63it/s]"
          ]
        },
        {
          "metadata": {
            "tags": null
          },
          "name": "stdout",
          "output_type": "stream",
          "text": [
            "\n",
            "Batch 78 was inserted.\n"
          ]
        },
        {
          "metadata": {
            "tags": null
          },
          "name": "stderr",
          "output_type": "stream",
          "text": [
            "124278184it [22:39, 72528.11it/s]"
          ]
        },
        {
          "metadata": {
            "tags": null
          },
          "name": "stdout",
          "output_type": "stream",
          "text": [
            "\n",
            "Batch 79 was inserted.\n"
          ]
        },
        {
          "metadata": {
            "tags": null
          },
          "name": "stderr",
          "output_type": "stream",
          "text": [
            "126703580it [23:05, 77369.15it/s]"
          ]
        },
        {
          "metadata": {
            "tags": null
          },
          "name": "stdout",
          "output_type": "stream",
          "text": [
            "\n",
            "Batch 80 was inserted.\n"
          ]
        },
        {
          "metadata": {
            "tags": null
          },
          "name": "stderr",
          "output_type": "stream",
          "text": [
            "129128324it [23:23, 100242.63it/s]"
          ]
        },
        {
          "metadata": {
            "tags": null
          },
          "name": "stdout",
          "output_type": "stream",
          "text": [
            "\n",
            "Batch 81 was inserted.\n"
          ]
        },
        {
          "metadata": {
            "tags": null
          },
          "name": "stderr",
          "output_type": "stream",
          "text": [
            "131557503it [23:49, 70517.53it/s]"
          ]
        },
        {
          "metadata": {
            "tags": null
          },
          "name": "stdout",
          "output_type": "stream",
          "text": [
            "\n",
            "Batch 82 was inserted.\n"
          ]
        },
        {
          "metadata": {
            "tags": null
          },
          "name": "stderr",
          "output_type": "stream",
          "text": [
            "134246837it [24:19, 75976.68it/s]"
          ]
        },
        {
          "metadata": {
            "tags": null
          },
          "name": "stdout",
          "output_type": "stream",
          "text": [
            "\n",
            "Batch 83 was inserted.\n"
          ]
        },
        {
          "metadata": {
            "tags": null
          },
          "name": "stderr",
          "output_type": "stream",
          "text": [
            "136730971it [24:46, 55705.89it/s]"
          ]
        },
        {
          "metadata": {
            "tags": null
          },
          "name": "stdout",
          "output_type": "stream",
          "text": [
            "\n",
            "Batch 84 was inserted.\n"
          ]
        },
        {
          "metadata": {
            "tags": null
          },
          "name": "stderr",
          "output_type": "stream",
          "text": [
            "139160305it [25:14, 99522.09it/s]"
          ]
        },
        {
          "metadata": {
            "tags": null
          },
          "name": "stdout",
          "output_type": "stream",
          "text": [
            "\n",
            "Batch 85 was inserted.\n"
          ]
        },
        {
          "metadata": {
            "tags": null
          },
          "name": "stderr",
          "output_type": "stream",
          "text": [
            "141571959it [25:37, 140746.36it/s]"
          ]
        },
        {
          "metadata": {
            "tags": null
          },
          "name": "stdout",
          "output_type": "stream",
          "text": [
            "\n",
            "Batch 86 was inserted.\n"
          ]
        },
        {
          "metadata": {
            "tags": null
          },
          "name": "stderr",
          "output_type": "stream",
          "text": [
            "144022046it [25:59, 90868.86it/s]"
          ]
        },
        {
          "metadata": {
            "tags": null
          },
          "name": "stdout",
          "output_type": "stream",
          "text": [
            "\n",
            "Batch 87 was inserted.\n"
          ]
        },
        {
          "metadata": {
            "tags": null
          },
          "name": "stderr",
          "output_type": "stream",
          "text": [
            "146502727it [26:25, 73110.66it/s]"
          ]
        },
        {
          "metadata": {
            "tags": null
          },
          "name": "stdout",
          "output_type": "stream",
          "text": [
            "\n",
            "Batch 88 was inserted.\n"
          ]
        },
        {
          "metadata": {
            "tags": null
          },
          "name": "stderr",
          "output_type": "stream",
          "text": [
            "149062711it [26:43, 78283.08it/s]"
          ]
        },
        {
          "metadata": {
            "tags": null
          },
          "name": "stdout",
          "output_type": "stream",
          "text": [
            "\n",
            "Batch 89 was inserted.\n"
          ]
        },
        {
          "metadata": {
            "tags": null
          },
          "name": "stderr",
          "output_type": "stream",
          "text": [
            "151607333it [27:10, 75629.29it/s]"
          ]
        },
        {
          "metadata": {
            "tags": null
          },
          "name": "stdout",
          "output_type": "stream",
          "text": [
            "\n",
            "Batch 90 was inserted.\n"
          ]
        },
        {
          "metadata": {
            "tags": null
          },
          "name": "stderr",
          "output_type": "stream",
          "text": [
            "153997362it [27:40, 74995.78it/s]"
          ]
        },
        {
          "metadata": {
            "tags": null
          },
          "name": "stdout",
          "output_type": "stream",
          "text": [
            "\n",
            "Batch 91 was inserted.\n"
          ]
        },
        {
          "metadata": {
            "tags": null
          },
          "name": "stderr",
          "output_type": "stream",
          "text": [
            "156457878it [28:08, 71630.88it/s]"
          ]
        },
        {
          "metadata": {
            "tags": null
          },
          "name": "stdout",
          "output_type": "stream",
          "text": [
            "\n",
            "Batch 92 was inserted.\n"
          ]
        },
        {
          "metadata": {
            "tags": null
          },
          "name": "stderr",
          "output_type": "stream",
          "text": [
            "158946327it [28:36, 90155.02it/s]"
          ]
        },
        {
          "metadata": {
            "tags": null
          },
          "name": "stdout",
          "output_type": "stream",
          "text": [
            "\n",
            "Batch 93 was inserted.\n"
          ]
        },
        {
          "metadata": {
            "tags": null
          },
          "name": "stderr",
          "output_type": "stream",
          "text": [
            "161410945it [28:55, 127270.64it/s]"
          ]
        },
        {
          "metadata": {
            "tags": null
          },
          "name": "stdout",
          "output_type": "stream",
          "text": [
            "\n",
            "Batch 94 was inserted.\n"
          ]
        },
        {
          "metadata": {
            "tags": null
          },
          "name": "stderr",
          "output_type": "stream",
          "text": [
            "163868729it [29:20, 81268.39it/s]"
          ]
        },
        {
          "metadata": {
            "tags": null
          },
          "name": "stdout",
          "output_type": "stream",
          "text": [
            "\n",
            "Batch 95 was inserted.\n"
          ]
        },
        {
          "metadata": {
            "tags": null
          },
          "name": "stderr",
          "output_type": "stream",
          "text": [
            "166273703it [29:44, 154150.23it/s]"
          ]
        },
        {
          "metadata": {
            "tags": null
          },
          "name": "stdout",
          "output_type": "stream",
          "text": [
            "\n",
            "Batch 96 was inserted.\n"
          ]
        },
        {
          "metadata": {
            "tags": null
          },
          "name": "stderr",
          "output_type": "stream",
          "text": [
            "168733248it [30:04, 75366.06it/s]"
          ]
        },
        {
          "metadata": {
            "tags": null
          },
          "name": "stdout",
          "output_type": "stream",
          "text": [
            "\n",
            "Batch 97 was inserted.\n"
          ]
        },
        {
          "metadata": {
            "tags": null
          },
          "name": "stderr",
          "output_type": "stream",
          "text": [
            "171111956it [30:30, 75312.20it/s]"
          ]
        },
        {
          "metadata": {
            "tags": null
          },
          "name": "stdout",
          "output_type": "stream",
          "text": [
            "\n",
            "Batch 98 was inserted.\n"
          ]
        },
        {
          "metadata": {
            "tags": null
          },
          "name": "stderr",
          "output_type": "stream",
          "text": [
            "173537308it [30:49, 81097.50it/s]"
          ]
        },
        {
          "metadata": {
            "tags": null
          },
          "name": "stdout",
          "output_type": "stream",
          "text": [
            "\n",
            "Batch 99 was inserted.\n"
          ]
        },
        {
          "metadata": {
            "tags": null
          },
          "name": "stderr",
          "output_type": "stream",
          "text": [
            "175912289it [31:14, 84740.05it/s]"
          ]
        },
        {
          "metadata": {
            "tags": null
          },
          "name": "stdout",
          "output_type": "stream",
          "text": [
            "\n",
            "Batch 100 was inserted.\n"
          ]
        },
        {
          "metadata": {
            "tags": null
          },
          "name": "stderr",
          "output_type": "stream",
          "text": [
            "178083727it [31:33, 131308.93it/s]"
          ]
        },
        {
          "metadata": {
            "tags": null
          },
          "name": "stdout",
          "output_type": "stream",
          "text": [
            "\n",
            "Batch 101 was inserted.\n"
          ]
        },
        {
          "output_type": "stream",
          "name": "stderr",
          "text": [
            "180232605it [31:55, 53124.05it/s]"
          ]
        },
        {
          "output_type": "stream",
          "name": "stdout",
          "text": [
            "\n",
            "Batch 102 was inserted.\n"
          ]
        },
        {
          "output_type": "stream",
          "name": "stderr",
          "text": [
            "182403519it [32:23, 74042.07it/s]"
          ]
        },
        {
          "output_type": "stream",
          "name": "stdout",
          "text": [
            "\n",
            "Batch 103 was inserted.\n"
          ]
        },
        {
          "output_type": "stream",
          "name": "stderr",
          "text": [
            "184556358it [32:38, 135469.49it/s]"
          ]
        },
        {
          "output_type": "stream",
          "name": "stdout",
          "text": [
            "\n",
            "Batch 104 was inserted.\n"
          ]
        },
        {
          "output_type": "stream",
          "name": "stderr",
          "text": [
            "186720470it [33:01, 75141.20it/s]"
          ]
        },
        {
          "output_type": "stream",
          "name": "stdout",
          "text": [
            "\n",
            "Batch 105 was inserted.\n"
          ]
        },
        {
          "output_type": "stream",
          "name": "stderr",
          "text": [
            "188910111it [33:24, 142531.23it/s]"
          ]
        },
        {
          "output_type": "stream",
          "name": "stdout",
          "text": [
            "\n",
            "Batch 106 was inserted.\n"
          ]
        },
        {
          "output_type": "stream",
          "name": "stderr",
          "text": [
            "190708094it [33:43, 50505.78it/s]"
          ]
        },
        {
          "output_type": "stream",
          "name": "stdout",
          "text": [
            "\n",
            "Batch 107 was inserted.\n"
          ]
        },
        {
          "output_type": "stream",
          "name": "stderr",
          "text": [
            "192255186it [34:04, 94034.89it/s]"
          ]
        },
        {
          "output_type": "stream",
          "name": "stdout",
          "text": [
            "\n",
            "Final commit.\n",
            "\n",
            "Total of 10799754 elements was inserted.\n"
          ]
        },
        {
          "output_type": "stream",
          "name": "stderr",
          "text": [
            "\n"
          ]
        }
      ]
    },
    {
      "cell_type": "markdown",
      "source": [
        "Подключимся к диску и считаем файл оттуда. Проверим, что в базе действиельно 10799754 записей."
      ],
      "metadata": {
        "id": "fEq7V5ds7Uti"
      }
    },
    {
      "cell_type": "code",
      "source": [
        "from google.colab import drive\n",
        "drive.mount('/content/drive/')"
      ],
      "metadata": {
        "colab": {
          "base_uri": "https://localhost:8080/"
        },
        "id": "1KNAz2y5m8XO",
        "outputId": "85ad5651-67d1-4f00-ee43-b5bf7a8cace5"
      },
      "execution_count": 1,
      "outputs": [
        {
          "output_type": "stream",
          "name": "stdout",
          "text": [
            "Mounted at /content/drive/\n"
          ]
        }
      ]
    },
    {
      "cell_type": "code",
      "source": [
        "path_to_db = \"/content/drive/MyDrive/Colab Notebooks/dblp.db\""
      ],
      "metadata": {
        "id": "E9mH-2xs6tQX"
      },
      "execution_count": 2,
      "outputs": []
    },
    {
      "cell_type": "code",
      "source": [
        "from lxml import etree as ET\n",
        "import sqlite3\n",
        "from tqdm import tqdm\n",
        "import re\n",
        "import numpy as np\n",
        "import pandas as pd\n",
        "\n",
        "with sqlite3.connect(path_to_db) as conn:\n",
        "    display(pd.read_sql(sql=\"SELECT count(*) FROM dblp;\", con=conn))"
      ],
      "metadata": {
        "colab": {
          "base_uri": "https://localhost:8080/",
          "height": 81
        },
        "id": "UjfyLGfi6mcC",
        "outputId": "c6cab10f-bcda-4f82-9ddb-869c7d39a9c8"
      },
      "execution_count": 3,
      "outputs": [
        {
          "output_type": "display_data",
          "data": {
            "text/plain": [
              "   count(*)\n",
              "0  10799754"
            ],
            "text/html": [
              "\n",
              "  <div id=\"df-7fd61b2e-ee8c-4056-93b2-853858d3575f\" class=\"colab-df-container\">\n",
              "    <div>\n",
              "<style scoped>\n",
              "    .dataframe tbody tr th:only-of-type {\n",
              "        vertical-align: middle;\n",
              "    }\n",
              "\n",
              "    .dataframe tbody tr th {\n",
              "        vertical-align: top;\n",
              "    }\n",
              "\n",
              "    .dataframe thead th {\n",
              "        text-align: right;\n",
              "    }\n",
              "</style>\n",
              "<table border=\"1\" class=\"dataframe\">\n",
              "  <thead>\n",
              "    <tr style=\"text-align: right;\">\n",
              "      <th></th>\n",
              "      <th>count(*)</th>\n",
              "    </tr>\n",
              "  </thead>\n",
              "  <tbody>\n",
              "    <tr>\n",
              "      <th>0</th>\n",
              "      <td>10799754</td>\n",
              "    </tr>\n",
              "  </tbody>\n",
              "</table>\n",
              "</div>\n",
              "    <div class=\"colab-df-buttons\">\n",
              "\n",
              "  <div class=\"colab-df-container\">\n",
              "    <button class=\"colab-df-convert\" onclick=\"convertToInteractive('df-7fd61b2e-ee8c-4056-93b2-853858d3575f')\"\n",
              "            title=\"Convert this dataframe to an interactive table.\"\n",
              "            style=\"display:none;\">\n",
              "\n",
              "  <svg xmlns=\"http://www.w3.org/2000/svg\" height=\"24px\" viewBox=\"0 -960 960 960\">\n",
              "    <path d=\"M120-120v-720h720v720H120Zm60-500h600v-160H180v160Zm220 220h160v-160H400v160Zm0 220h160v-160H400v160ZM180-400h160v-160H180v160Zm440 0h160v-160H620v160ZM180-180h160v-160H180v160Zm440 0h160v-160H620v160Z\"/>\n",
              "  </svg>\n",
              "    </button>\n",
              "\n",
              "  <style>\n",
              "    .colab-df-container {\n",
              "      display:flex;\n",
              "      gap: 12px;\n",
              "    }\n",
              "\n",
              "    .colab-df-convert {\n",
              "      background-color: #E8F0FE;\n",
              "      border: none;\n",
              "      border-radius: 50%;\n",
              "      cursor: pointer;\n",
              "      display: none;\n",
              "      fill: #1967D2;\n",
              "      height: 32px;\n",
              "      padding: 0 0 0 0;\n",
              "      width: 32px;\n",
              "    }\n",
              "\n",
              "    .colab-df-convert:hover {\n",
              "      background-color: #E2EBFA;\n",
              "      box-shadow: 0px 1px 2px rgba(60, 64, 67, 0.3), 0px 1px 3px 1px rgba(60, 64, 67, 0.15);\n",
              "      fill: #174EA6;\n",
              "    }\n",
              "\n",
              "    .colab-df-buttons div {\n",
              "      margin-bottom: 4px;\n",
              "    }\n",
              "\n",
              "    [theme=dark] .colab-df-convert {\n",
              "      background-color: #3B4455;\n",
              "      fill: #D2E3FC;\n",
              "    }\n",
              "\n",
              "    [theme=dark] .colab-df-convert:hover {\n",
              "      background-color: #434B5C;\n",
              "      box-shadow: 0px 1px 3px 1px rgba(0, 0, 0, 0.15);\n",
              "      filter: drop-shadow(0px 1px 2px rgba(0, 0, 0, 0.3));\n",
              "      fill: #FFFFFF;\n",
              "    }\n",
              "  </style>\n",
              "\n",
              "    <script>\n",
              "      const buttonEl =\n",
              "        document.querySelector('#df-7fd61b2e-ee8c-4056-93b2-853858d3575f button.colab-df-convert');\n",
              "      buttonEl.style.display =\n",
              "        google.colab.kernel.accessAllowed ? 'block' : 'none';\n",
              "\n",
              "      async function convertToInteractive(key) {\n",
              "        const element = document.querySelector('#df-7fd61b2e-ee8c-4056-93b2-853858d3575f');\n",
              "        const dataTable =\n",
              "          await google.colab.kernel.invokeFunction('convertToInteractive',\n",
              "                                                    [key], {});\n",
              "        if (!dataTable) return;\n",
              "\n",
              "        const docLinkHtml = 'Like what you see? Visit the ' +\n",
              "          '<a target=\"_blank\" href=https://colab.research.google.com/notebooks/data_table.ipynb>data table notebook</a>'\n",
              "          + ' to learn more about interactive tables.';\n",
              "        element.innerHTML = '';\n",
              "        dataTable['output_type'] = 'display_data';\n",
              "        await google.colab.output.renderOutput(dataTable, element);\n",
              "        const docLink = document.createElement('div');\n",
              "        docLink.innerHTML = docLinkHtml;\n",
              "        element.appendChild(docLink);\n",
              "      }\n",
              "    </script>\n",
              "  </div>\n",
              "\n",
              "    </div>\n",
              "  </div>\n"
            ],
            "application/vnd.google.colaboratory.intrinsic+json": {
              "type": "dataframe",
              "summary": "{\n  \"name\": \"    display(pd\",\n  \"rows\": 1,\n  \"fields\": [\n    {\n      \"column\": \"count(*)\",\n      \"properties\": {\n        \"dtype\": \"number\",\n        \"std\": null,\n        \"min\": 10799754,\n        \"max\": 10799754,\n        \"num_unique_values\": 1,\n        \"samples\": [\n          10799754\n        ],\n        \"semantic_type\": \"\",\n        \"description\": \"\"\n      }\n    }\n  ]\n}"
            }
          },
          "metadata": {}
        }
      ]
    },
    {
      "cell_type": "markdown",
      "source": [
        "Также посмотрим на выборку из таблицы."
      ],
      "metadata": {
        "id": "IF8wD4TzFdkY"
      }
    },
    {
      "cell_type": "code",
      "source": [
        "pd.set_option('display.max_columns', None)\n",
        "with sqlite3.connect(path_to_db) as conn:\n",
        "    display(pd.read_sql(sql=\"SELECT * FROM dblp LIMIT 10 OFFSET 8008569;\", con=conn))"
      ],
      "metadata": {
        "colab": {
          "base_uri": "https://localhost:8080/",
          "height": 921
        },
        "id": "o6wqcynRFbtG",
        "outputId": "a7f9f393-e501-4e98-a1a1-687924043232"
      },
      "execution_count": 67,
      "outputs": [
        {
          "output_type": "display_data",
          "data": {
            "text/plain": [
              "      type                           key       mdate                 author  \\\n",
              "0  article         journals/twc/HanXMH21  2021-08-25            Lei He 0001   \n",
              "1  article      journals/twc/CaleffiAP12  2020-09-06            Luigi Paura   \n",
              "2  article        journals/twc/WuSZDLW20  2020-09-06         Jiangzhou Wang   \n",
              "3  article        journals/twc/HwangCK09  2020-09-06                Gil Kim   \n",
              "4  article           journals/twc/HoYS14  2021-04-09              Sumei Sun   \n",
              "5  article       journals/twc/ShinPJLL17  2020-09-06              Inkyu Lee   \n",
              "6  article      journals/twc/MullerPPS16  2024-02-12  Gonzalo Seco-Granados   \n",
              "7  article         journals/twc/KadanY22  2022-05-18       Ali Özgür Yilmaz   \n",
              "8  article         journals/twc/ChenC08a  2020-09-06          Kai-Wen Cheng   \n",
              "9  article  journals/twc/VenturinoGLJW23  2024-03-08     Xiaodong Wang 0001   \n",
              "\n",
              "  editor                                              title booktitle  \\\n",
              "0   None  Channel-Correlation-Enabled Transmission Optim...      None   \n",
              "1   None  OPERA: Optimal Routing Metric for Cognitive Ra...      None   \n",
              "2   None  Receiver Algorithms for Single-Carrier OSM Bas...      None   \n",
              "3   None  Regularized channel inversion with quantized f...      None   \n",
              "4   None  Data Offloading in Load Coupled Networks: A Ut...      None   \n",
              "5   None  Maximization of Total Throughput and Device Li...      None   \n",
              "6   None  Statistical Trilateration With Skew-t Distribu...      None   \n",
              "7   None  A Theoretical Performance Bound for Joint Beam...      None   \n",
              "8   None  EDCA/CA: Enhancement of IEEE 802.11e EDCA by C...      None   \n",
              "9   None  Radar-Enabled Ambient Backscatter Communications.      None   \n",
              "\n",
              "       pages  year address                     journal volume number  \\\n",
              "0    858-870  2021    None  IEEE Trans. Wirel. Commun.     20      2   \n",
              "1  2884-2894  2012    None  IEEE Trans. Wirel. Commun.     11      8   \n",
              "2  1113-1126  2020    None  IEEE Trans. Wirel. Commun.     19      2   \n",
              "3  5785-5789  2009    None  IEEE Trans. Wirel. Commun.      8     12   \n",
              "4  1921-1931  2014    None  IEEE Trans. Wirel. Commun.     13      4   \n",
              "5  7774-7784  2017    None  IEEE Trans. Wirel. Commun.     16     12   \n",
              "6  7114-7127  2016    None  IEEE Trans. Wirel. Commun.     15     10   \n",
              "7  2177-2192  2022    None  IEEE Trans. Wirel. Commun.     21      4   \n",
              "8  2866-2870  2008    None  IEEE Trans. Wirel. Commun.      7      8   \n",
              "9  8666-8680  2023    None  IEEE Trans. Wirel. Commun.     22     12   \n",
              "\n",
              "      month                                         url  \\\n",
              "0      None         db/journals/twc/twc20.html#HanXMH21   \n",
              "1      None      db/journals/twc/twc11.html#CaleffiAP12   \n",
              "2      None        db/journals/twc/twc19.html#WuSZDLW20   \n",
              "3      None         db/journals/twc/twc8.html#HwangCK09   \n",
              "4      None           db/journals/twc/twc13.html#HoYS14   \n",
              "5      None       db/journals/twc/twc16.html#ShinPJLL17   \n",
              "6      None      db/journals/twc/twc15.html#MullerPPS16   \n",
              "7      None         db/journals/twc/twc21.html#KadanY22   \n",
              "8      None          db/journals/twc/twc7.html#ChenC08a   \n",
              "9  December  db/journals/twc/twc22.html#VenturinoGLJW23   \n",
              "\n",
              "                                               ee cdrom  cite publisher  note  \\\n",
              "0        https://doi.org/10.1109/TWC.2020.3028857  None  None      None  None   \n",
              "1  https://doi.org/10.1109/TWC.2012.061912.111479  None  None      None  None   \n",
              "2        https://doi.org/10.1109/TWC.2019.2951148  None  None      None  None   \n",
              "3      https://doi.org/10.1109/TWC.2009.12.090117  None  None      None  None   \n",
              "4  https://doi.org/10.1109/TWC.2014.021214.130809  None  None      None  None   \n",
              "5        https://doi.org/10.1109/TWC.2017.2753783  None  None      None  None   \n",
              "6        https://doi.org/10.1109/TWC.2016.2597836  None  None      None  None   \n",
              "7        https://doi.org/10.1109/TWC.2021.3109837  None  None      None  None   \n",
              "8         https://doi.org/10.1109/TWC.2008.070168  None  None      None  None   \n",
              "9        https://doi.org/10.1109/TWC.2023.3264726  None  None      None  None   \n",
              "\n",
              "  crossref  isbn series school chapter publnr stream   rel   ref   sup   sub  \\\n",
              "0     None  None   None   None    None   None   None  None  None  None  None   \n",
              "1     None  None   None   None    None   None   None  None  None  None  None   \n",
              "2     None  None   None   None    None   None   None  None  None  None  None   \n",
              "3     None  None   None   None    None   None   None  None  None  None  None   \n",
              "4     None  None   None   None    None   None   None  None  None  None  None   \n",
              "5     None  None   None   None    None   None   None  None  None  None  None   \n",
              "6     None  None   None   None    None   None   None  None  None  None  None   \n",
              "7     None  None   None   None    None   None   None  None  None  None  None   \n",
              "8     None  None   None   None    None   None   None  None  None  None  None   \n",
              "9     None  None   None   None    None   None   None  None  None  None  None   \n",
              "\n",
              "      i    tt  \n",
              "0  None  None  \n",
              "1  None  None  \n",
              "2  None  None  \n",
              "3  None  None  \n",
              "4  None  None  \n",
              "5  None  None  \n",
              "6  None  None  \n",
              "7  None  None  \n",
              "8  None  None  \n",
              "9  None  None  "
            ],
            "text/html": [
              "\n",
              "  <div id=\"df-5801f1d3-1d71-45c4-b244-ad68db1b7c98\" class=\"colab-df-container\">\n",
              "    <div>\n",
              "<style scoped>\n",
              "    .dataframe tbody tr th:only-of-type {\n",
              "        vertical-align: middle;\n",
              "    }\n",
              "\n",
              "    .dataframe tbody tr th {\n",
              "        vertical-align: top;\n",
              "    }\n",
              "\n",
              "    .dataframe thead th {\n",
              "        text-align: right;\n",
              "    }\n",
              "</style>\n",
              "<table border=\"1\" class=\"dataframe\">\n",
              "  <thead>\n",
              "    <tr style=\"text-align: right;\">\n",
              "      <th></th>\n",
              "      <th>type</th>\n",
              "      <th>key</th>\n",
              "      <th>mdate</th>\n",
              "      <th>author</th>\n",
              "      <th>editor</th>\n",
              "      <th>title</th>\n",
              "      <th>booktitle</th>\n",
              "      <th>pages</th>\n",
              "      <th>year</th>\n",
              "      <th>address</th>\n",
              "      <th>journal</th>\n",
              "      <th>volume</th>\n",
              "      <th>number</th>\n",
              "      <th>month</th>\n",
              "      <th>url</th>\n",
              "      <th>ee</th>\n",
              "      <th>cdrom</th>\n",
              "      <th>cite</th>\n",
              "      <th>publisher</th>\n",
              "      <th>note</th>\n",
              "      <th>crossref</th>\n",
              "      <th>isbn</th>\n",
              "      <th>series</th>\n",
              "      <th>school</th>\n",
              "      <th>chapter</th>\n",
              "      <th>publnr</th>\n",
              "      <th>stream</th>\n",
              "      <th>rel</th>\n",
              "      <th>ref</th>\n",
              "      <th>sup</th>\n",
              "      <th>sub</th>\n",
              "      <th>i</th>\n",
              "      <th>tt</th>\n",
              "    </tr>\n",
              "  </thead>\n",
              "  <tbody>\n",
              "    <tr>\n",
              "      <th>0</th>\n",
              "      <td>article</td>\n",
              "      <td>journals/twc/HanXMH21</td>\n",
              "      <td>2021-08-25</td>\n",
              "      <td>Lei He 0001</td>\n",
              "      <td>None</td>\n",
              "      <td>Channel-Correlation-Enabled Transmission Optim...</td>\n",
              "      <td>None</td>\n",
              "      <td>858-870</td>\n",
              "      <td>2021</td>\n",
              "      <td>None</td>\n",
              "      <td>IEEE Trans. Wirel. Commun.</td>\n",
              "      <td>20</td>\n",
              "      <td>2</td>\n",
              "      <td>None</td>\n",
              "      <td>db/journals/twc/twc20.html#HanXMH21</td>\n",
              "      <td>https://doi.org/10.1109/TWC.2020.3028857</td>\n",
              "      <td>None</td>\n",
              "      <td>None</td>\n",
              "      <td>None</td>\n",
              "      <td>None</td>\n",
              "      <td>None</td>\n",
              "      <td>None</td>\n",
              "      <td>None</td>\n",
              "      <td>None</td>\n",
              "      <td>None</td>\n",
              "      <td>None</td>\n",
              "      <td>None</td>\n",
              "      <td>None</td>\n",
              "      <td>None</td>\n",
              "      <td>None</td>\n",
              "      <td>None</td>\n",
              "      <td>None</td>\n",
              "      <td>None</td>\n",
              "    </tr>\n",
              "    <tr>\n",
              "      <th>1</th>\n",
              "      <td>article</td>\n",
              "      <td>journals/twc/CaleffiAP12</td>\n",
              "      <td>2020-09-06</td>\n",
              "      <td>Luigi Paura</td>\n",
              "      <td>None</td>\n",
              "      <td>OPERA: Optimal Routing Metric for Cognitive Ra...</td>\n",
              "      <td>None</td>\n",
              "      <td>2884-2894</td>\n",
              "      <td>2012</td>\n",
              "      <td>None</td>\n",
              "      <td>IEEE Trans. Wirel. Commun.</td>\n",
              "      <td>11</td>\n",
              "      <td>8</td>\n",
              "      <td>None</td>\n",
              "      <td>db/journals/twc/twc11.html#CaleffiAP12</td>\n",
              "      <td>https://doi.org/10.1109/TWC.2012.061912.111479</td>\n",
              "      <td>None</td>\n",
              "      <td>None</td>\n",
              "      <td>None</td>\n",
              "      <td>None</td>\n",
              "      <td>None</td>\n",
              "      <td>None</td>\n",
              "      <td>None</td>\n",
              "      <td>None</td>\n",
              "      <td>None</td>\n",
              "      <td>None</td>\n",
              "      <td>None</td>\n",
              "      <td>None</td>\n",
              "      <td>None</td>\n",
              "      <td>None</td>\n",
              "      <td>None</td>\n",
              "      <td>None</td>\n",
              "      <td>None</td>\n",
              "    </tr>\n",
              "    <tr>\n",
              "      <th>2</th>\n",
              "      <td>article</td>\n",
              "      <td>journals/twc/WuSZDLW20</td>\n",
              "      <td>2020-09-06</td>\n",
              "      <td>Jiangzhou Wang</td>\n",
              "      <td>None</td>\n",
              "      <td>Receiver Algorithms for Single-Carrier OSM Bas...</td>\n",
              "      <td>None</td>\n",
              "      <td>1113-1126</td>\n",
              "      <td>2020</td>\n",
              "      <td>None</td>\n",
              "      <td>IEEE Trans. Wirel. Commun.</td>\n",
              "      <td>19</td>\n",
              "      <td>2</td>\n",
              "      <td>None</td>\n",
              "      <td>db/journals/twc/twc19.html#WuSZDLW20</td>\n",
              "      <td>https://doi.org/10.1109/TWC.2019.2951148</td>\n",
              "      <td>None</td>\n",
              "      <td>None</td>\n",
              "      <td>None</td>\n",
              "      <td>None</td>\n",
              "      <td>None</td>\n",
              "      <td>None</td>\n",
              "      <td>None</td>\n",
              "      <td>None</td>\n",
              "      <td>None</td>\n",
              "      <td>None</td>\n",
              "      <td>None</td>\n",
              "      <td>None</td>\n",
              "      <td>None</td>\n",
              "      <td>None</td>\n",
              "      <td>None</td>\n",
              "      <td>None</td>\n",
              "      <td>None</td>\n",
              "    </tr>\n",
              "    <tr>\n",
              "      <th>3</th>\n",
              "      <td>article</td>\n",
              "      <td>journals/twc/HwangCK09</td>\n",
              "      <td>2020-09-06</td>\n",
              "      <td>Gil Kim</td>\n",
              "      <td>None</td>\n",
              "      <td>Regularized channel inversion with quantized f...</td>\n",
              "      <td>None</td>\n",
              "      <td>5785-5789</td>\n",
              "      <td>2009</td>\n",
              "      <td>None</td>\n",
              "      <td>IEEE Trans. Wirel. Commun.</td>\n",
              "      <td>8</td>\n",
              "      <td>12</td>\n",
              "      <td>None</td>\n",
              "      <td>db/journals/twc/twc8.html#HwangCK09</td>\n",
              "      <td>https://doi.org/10.1109/TWC.2009.12.090117</td>\n",
              "      <td>None</td>\n",
              "      <td>None</td>\n",
              "      <td>None</td>\n",
              "      <td>None</td>\n",
              "      <td>None</td>\n",
              "      <td>None</td>\n",
              "      <td>None</td>\n",
              "      <td>None</td>\n",
              "      <td>None</td>\n",
              "      <td>None</td>\n",
              "      <td>None</td>\n",
              "      <td>None</td>\n",
              "      <td>None</td>\n",
              "      <td>None</td>\n",
              "      <td>None</td>\n",
              "      <td>None</td>\n",
              "      <td>None</td>\n",
              "    </tr>\n",
              "    <tr>\n",
              "      <th>4</th>\n",
              "      <td>article</td>\n",
              "      <td>journals/twc/HoYS14</td>\n",
              "      <td>2021-04-09</td>\n",
              "      <td>Sumei Sun</td>\n",
              "      <td>None</td>\n",
              "      <td>Data Offloading in Load Coupled Networks: A Ut...</td>\n",
              "      <td>None</td>\n",
              "      <td>1921-1931</td>\n",
              "      <td>2014</td>\n",
              "      <td>None</td>\n",
              "      <td>IEEE Trans. Wirel. Commun.</td>\n",
              "      <td>13</td>\n",
              "      <td>4</td>\n",
              "      <td>None</td>\n",
              "      <td>db/journals/twc/twc13.html#HoYS14</td>\n",
              "      <td>https://doi.org/10.1109/TWC.2014.021214.130809</td>\n",
              "      <td>None</td>\n",
              "      <td>None</td>\n",
              "      <td>None</td>\n",
              "      <td>None</td>\n",
              "      <td>None</td>\n",
              "      <td>None</td>\n",
              "      <td>None</td>\n",
              "      <td>None</td>\n",
              "      <td>None</td>\n",
              "      <td>None</td>\n",
              "      <td>None</td>\n",
              "      <td>None</td>\n",
              "      <td>None</td>\n",
              "      <td>None</td>\n",
              "      <td>None</td>\n",
              "      <td>None</td>\n",
              "      <td>None</td>\n",
              "    </tr>\n",
              "    <tr>\n",
              "      <th>5</th>\n",
              "      <td>article</td>\n",
              "      <td>journals/twc/ShinPJLL17</td>\n",
              "      <td>2020-09-06</td>\n",
              "      <td>Inkyu Lee</td>\n",
              "      <td>None</td>\n",
              "      <td>Maximization of Total Throughput and Device Li...</td>\n",
              "      <td>None</td>\n",
              "      <td>7774-7784</td>\n",
              "      <td>2017</td>\n",
              "      <td>None</td>\n",
              "      <td>IEEE Trans. Wirel. Commun.</td>\n",
              "      <td>16</td>\n",
              "      <td>12</td>\n",
              "      <td>None</td>\n",
              "      <td>db/journals/twc/twc16.html#ShinPJLL17</td>\n",
              "      <td>https://doi.org/10.1109/TWC.2017.2753783</td>\n",
              "      <td>None</td>\n",
              "      <td>None</td>\n",
              "      <td>None</td>\n",
              "      <td>None</td>\n",
              "      <td>None</td>\n",
              "      <td>None</td>\n",
              "      <td>None</td>\n",
              "      <td>None</td>\n",
              "      <td>None</td>\n",
              "      <td>None</td>\n",
              "      <td>None</td>\n",
              "      <td>None</td>\n",
              "      <td>None</td>\n",
              "      <td>None</td>\n",
              "      <td>None</td>\n",
              "      <td>None</td>\n",
              "      <td>None</td>\n",
              "    </tr>\n",
              "    <tr>\n",
              "      <th>6</th>\n",
              "      <td>article</td>\n",
              "      <td>journals/twc/MullerPPS16</td>\n",
              "      <td>2024-02-12</td>\n",
              "      <td>Gonzalo Seco-Granados</td>\n",
              "      <td>None</td>\n",
              "      <td>Statistical Trilateration With Skew-t Distribu...</td>\n",
              "      <td>None</td>\n",
              "      <td>7114-7127</td>\n",
              "      <td>2016</td>\n",
              "      <td>None</td>\n",
              "      <td>IEEE Trans. Wirel. Commun.</td>\n",
              "      <td>15</td>\n",
              "      <td>10</td>\n",
              "      <td>None</td>\n",
              "      <td>db/journals/twc/twc15.html#MullerPPS16</td>\n",
              "      <td>https://doi.org/10.1109/TWC.2016.2597836</td>\n",
              "      <td>None</td>\n",
              "      <td>None</td>\n",
              "      <td>None</td>\n",
              "      <td>None</td>\n",
              "      <td>None</td>\n",
              "      <td>None</td>\n",
              "      <td>None</td>\n",
              "      <td>None</td>\n",
              "      <td>None</td>\n",
              "      <td>None</td>\n",
              "      <td>None</td>\n",
              "      <td>None</td>\n",
              "      <td>None</td>\n",
              "      <td>None</td>\n",
              "      <td>None</td>\n",
              "      <td>None</td>\n",
              "      <td>None</td>\n",
              "    </tr>\n",
              "    <tr>\n",
              "      <th>7</th>\n",
              "      <td>article</td>\n",
              "      <td>journals/twc/KadanY22</td>\n",
              "      <td>2022-05-18</td>\n",
              "      <td>Ali Özgür Yilmaz</td>\n",
              "      <td>None</td>\n",
              "      <td>A Theoretical Performance Bound for Joint Beam...</td>\n",
              "      <td>None</td>\n",
              "      <td>2177-2192</td>\n",
              "      <td>2022</td>\n",
              "      <td>None</td>\n",
              "      <td>IEEE Trans. Wirel. Commun.</td>\n",
              "      <td>21</td>\n",
              "      <td>4</td>\n",
              "      <td>None</td>\n",
              "      <td>db/journals/twc/twc21.html#KadanY22</td>\n",
              "      <td>https://doi.org/10.1109/TWC.2021.3109837</td>\n",
              "      <td>None</td>\n",
              "      <td>None</td>\n",
              "      <td>None</td>\n",
              "      <td>None</td>\n",
              "      <td>None</td>\n",
              "      <td>None</td>\n",
              "      <td>None</td>\n",
              "      <td>None</td>\n",
              "      <td>None</td>\n",
              "      <td>None</td>\n",
              "      <td>None</td>\n",
              "      <td>None</td>\n",
              "      <td>None</td>\n",
              "      <td>None</td>\n",
              "      <td>None</td>\n",
              "      <td>None</td>\n",
              "      <td>None</td>\n",
              "    </tr>\n",
              "    <tr>\n",
              "      <th>8</th>\n",
              "      <td>article</td>\n",
              "      <td>journals/twc/ChenC08a</td>\n",
              "      <td>2020-09-06</td>\n",
              "      <td>Kai-Wen Cheng</td>\n",
              "      <td>None</td>\n",
              "      <td>EDCA/CA: Enhancement of IEEE 802.11e EDCA by C...</td>\n",
              "      <td>None</td>\n",
              "      <td>2866-2870</td>\n",
              "      <td>2008</td>\n",
              "      <td>None</td>\n",
              "      <td>IEEE Trans. Wirel. Commun.</td>\n",
              "      <td>7</td>\n",
              "      <td>8</td>\n",
              "      <td>None</td>\n",
              "      <td>db/journals/twc/twc7.html#ChenC08a</td>\n",
              "      <td>https://doi.org/10.1109/TWC.2008.070168</td>\n",
              "      <td>None</td>\n",
              "      <td>None</td>\n",
              "      <td>None</td>\n",
              "      <td>None</td>\n",
              "      <td>None</td>\n",
              "      <td>None</td>\n",
              "      <td>None</td>\n",
              "      <td>None</td>\n",
              "      <td>None</td>\n",
              "      <td>None</td>\n",
              "      <td>None</td>\n",
              "      <td>None</td>\n",
              "      <td>None</td>\n",
              "      <td>None</td>\n",
              "      <td>None</td>\n",
              "      <td>None</td>\n",
              "      <td>None</td>\n",
              "    </tr>\n",
              "    <tr>\n",
              "      <th>9</th>\n",
              "      <td>article</td>\n",
              "      <td>journals/twc/VenturinoGLJW23</td>\n",
              "      <td>2024-03-08</td>\n",
              "      <td>Xiaodong Wang 0001</td>\n",
              "      <td>None</td>\n",
              "      <td>Radar-Enabled Ambient Backscatter Communications.</td>\n",
              "      <td>None</td>\n",
              "      <td>8666-8680</td>\n",
              "      <td>2023</td>\n",
              "      <td>None</td>\n",
              "      <td>IEEE Trans. Wirel. Commun.</td>\n",
              "      <td>22</td>\n",
              "      <td>12</td>\n",
              "      <td>December</td>\n",
              "      <td>db/journals/twc/twc22.html#VenturinoGLJW23</td>\n",
              "      <td>https://doi.org/10.1109/TWC.2023.3264726</td>\n",
              "      <td>None</td>\n",
              "      <td>None</td>\n",
              "      <td>None</td>\n",
              "      <td>None</td>\n",
              "      <td>None</td>\n",
              "      <td>None</td>\n",
              "      <td>None</td>\n",
              "      <td>None</td>\n",
              "      <td>None</td>\n",
              "      <td>None</td>\n",
              "      <td>None</td>\n",
              "      <td>None</td>\n",
              "      <td>None</td>\n",
              "      <td>None</td>\n",
              "      <td>None</td>\n",
              "      <td>None</td>\n",
              "      <td>None</td>\n",
              "    </tr>\n",
              "  </tbody>\n",
              "</table>\n",
              "</div>\n",
              "    <div class=\"colab-df-buttons\">\n",
              "\n",
              "  <div class=\"colab-df-container\">\n",
              "    <button class=\"colab-df-convert\" onclick=\"convertToInteractive('df-5801f1d3-1d71-45c4-b244-ad68db1b7c98')\"\n",
              "            title=\"Convert this dataframe to an interactive table.\"\n",
              "            style=\"display:none;\">\n",
              "\n",
              "  <svg xmlns=\"http://www.w3.org/2000/svg\" height=\"24px\" viewBox=\"0 -960 960 960\">\n",
              "    <path d=\"M120-120v-720h720v720H120Zm60-500h600v-160H180v160Zm220 220h160v-160H400v160Zm0 220h160v-160H400v160ZM180-400h160v-160H180v160Zm440 0h160v-160H620v160ZM180-180h160v-160H180v160Zm440 0h160v-160H620v160Z\"/>\n",
              "  </svg>\n",
              "    </button>\n",
              "\n",
              "  <style>\n",
              "    .colab-df-container {\n",
              "      display:flex;\n",
              "      gap: 12px;\n",
              "    }\n",
              "\n",
              "    .colab-df-convert {\n",
              "      background-color: #E8F0FE;\n",
              "      border: none;\n",
              "      border-radius: 50%;\n",
              "      cursor: pointer;\n",
              "      display: none;\n",
              "      fill: #1967D2;\n",
              "      height: 32px;\n",
              "      padding: 0 0 0 0;\n",
              "      width: 32px;\n",
              "    }\n",
              "\n",
              "    .colab-df-convert:hover {\n",
              "      background-color: #E2EBFA;\n",
              "      box-shadow: 0px 1px 2px rgba(60, 64, 67, 0.3), 0px 1px 3px 1px rgba(60, 64, 67, 0.15);\n",
              "      fill: #174EA6;\n",
              "    }\n",
              "\n",
              "    .colab-df-buttons div {\n",
              "      margin-bottom: 4px;\n",
              "    }\n",
              "\n",
              "    [theme=dark] .colab-df-convert {\n",
              "      background-color: #3B4455;\n",
              "      fill: #D2E3FC;\n",
              "    }\n",
              "\n",
              "    [theme=dark] .colab-df-convert:hover {\n",
              "      background-color: #434B5C;\n",
              "      box-shadow: 0px 1px 3px 1px rgba(0, 0, 0, 0.15);\n",
              "      filter: drop-shadow(0px 1px 2px rgba(0, 0, 0, 0.3));\n",
              "      fill: #FFFFFF;\n",
              "    }\n",
              "  </style>\n",
              "\n",
              "    <script>\n",
              "      const buttonEl =\n",
              "        document.querySelector('#df-5801f1d3-1d71-45c4-b244-ad68db1b7c98 button.colab-df-convert');\n",
              "      buttonEl.style.display =\n",
              "        google.colab.kernel.accessAllowed ? 'block' : 'none';\n",
              "\n",
              "      async function convertToInteractive(key) {\n",
              "        const element = document.querySelector('#df-5801f1d3-1d71-45c4-b244-ad68db1b7c98');\n",
              "        const dataTable =\n",
              "          await google.colab.kernel.invokeFunction('convertToInteractive',\n",
              "                                                    [key], {});\n",
              "        if (!dataTable) return;\n",
              "\n",
              "        const docLinkHtml = 'Like what you see? Visit the ' +\n",
              "          '<a target=\"_blank\" href=https://colab.research.google.com/notebooks/data_table.ipynb>data table notebook</a>'\n",
              "          + ' to learn more about interactive tables.';\n",
              "        element.innerHTML = '';\n",
              "        dataTable['output_type'] = 'display_data';\n",
              "        await google.colab.output.renderOutput(dataTable, element);\n",
              "        const docLink = document.createElement('div');\n",
              "        docLink.innerHTML = docLinkHtml;\n",
              "        element.appendChild(docLink);\n",
              "      }\n",
              "    </script>\n",
              "  </div>\n",
              "\n",
              "\n",
              "<div id=\"df-ec676c5d-9e61-4df5-a1a6-51250966d038\">\n",
              "  <button class=\"colab-df-quickchart\" onclick=\"quickchart('df-ec676c5d-9e61-4df5-a1a6-51250966d038')\"\n",
              "            title=\"Suggest charts\"\n",
              "            style=\"display:none;\">\n",
              "\n",
              "<svg xmlns=\"http://www.w3.org/2000/svg\" height=\"24px\"viewBox=\"0 0 24 24\"\n",
              "     width=\"24px\">\n",
              "    <g>\n",
              "        <path d=\"M19 3H5c-1.1 0-2 .9-2 2v14c0 1.1.9 2 2 2h14c1.1 0 2-.9 2-2V5c0-1.1-.9-2-2-2zM9 17H7v-7h2v7zm4 0h-2V7h2v10zm4 0h-2v-4h2v4z\"/>\n",
              "    </g>\n",
              "</svg>\n",
              "  </button>\n",
              "\n",
              "<style>\n",
              "  .colab-df-quickchart {\n",
              "      --bg-color: #E8F0FE;\n",
              "      --fill-color: #1967D2;\n",
              "      --hover-bg-color: #E2EBFA;\n",
              "      --hover-fill-color: #174EA6;\n",
              "      --disabled-fill-color: #AAA;\n",
              "      --disabled-bg-color: #DDD;\n",
              "  }\n",
              "\n",
              "  [theme=dark] .colab-df-quickchart {\n",
              "      --bg-color: #3B4455;\n",
              "      --fill-color: #D2E3FC;\n",
              "      --hover-bg-color: #434B5C;\n",
              "      --hover-fill-color: #FFFFFF;\n",
              "      --disabled-bg-color: #3B4455;\n",
              "      --disabled-fill-color: #666;\n",
              "  }\n",
              "\n",
              "  .colab-df-quickchart {\n",
              "    background-color: var(--bg-color);\n",
              "    border: none;\n",
              "    border-radius: 50%;\n",
              "    cursor: pointer;\n",
              "    display: none;\n",
              "    fill: var(--fill-color);\n",
              "    height: 32px;\n",
              "    padding: 0;\n",
              "    width: 32px;\n",
              "  }\n",
              "\n",
              "  .colab-df-quickchart:hover {\n",
              "    background-color: var(--hover-bg-color);\n",
              "    box-shadow: 0 1px 2px rgba(60, 64, 67, 0.3), 0 1px 3px 1px rgba(60, 64, 67, 0.15);\n",
              "    fill: var(--button-hover-fill-color);\n",
              "  }\n",
              "\n",
              "  .colab-df-quickchart-complete:disabled,\n",
              "  .colab-df-quickchart-complete:disabled:hover {\n",
              "    background-color: var(--disabled-bg-color);\n",
              "    fill: var(--disabled-fill-color);\n",
              "    box-shadow: none;\n",
              "  }\n",
              "\n",
              "  .colab-df-spinner {\n",
              "    border: 2px solid var(--fill-color);\n",
              "    border-color: transparent;\n",
              "    border-bottom-color: var(--fill-color);\n",
              "    animation:\n",
              "      spin 1s steps(1) infinite;\n",
              "  }\n",
              "\n",
              "  @keyframes spin {\n",
              "    0% {\n",
              "      border-color: transparent;\n",
              "      border-bottom-color: var(--fill-color);\n",
              "      border-left-color: var(--fill-color);\n",
              "    }\n",
              "    20% {\n",
              "      border-color: transparent;\n",
              "      border-left-color: var(--fill-color);\n",
              "      border-top-color: var(--fill-color);\n",
              "    }\n",
              "    30% {\n",
              "      border-color: transparent;\n",
              "      border-left-color: var(--fill-color);\n",
              "      border-top-color: var(--fill-color);\n",
              "      border-right-color: var(--fill-color);\n",
              "    }\n",
              "    40% {\n",
              "      border-color: transparent;\n",
              "      border-right-color: var(--fill-color);\n",
              "      border-top-color: var(--fill-color);\n",
              "    }\n",
              "    60% {\n",
              "      border-color: transparent;\n",
              "      border-right-color: var(--fill-color);\n",
              "    }\n",
              "    80% {\n",
              "      border-color: transparent;\n",
              "      border-right-color: var(--fill-color);\n",
              "      border-bottom-color: var(--fill-color);\n",
              "    }\n",
              "    90% {\n",
              "      border-color: transparent;\n",
              "      border-bottom-color: var(--fill-color);\n",
              "    }\n",
              "  }\n",
              "</style>\n",
              "\n",
              "  <script>\n",
              "    async function quickchart(key) {\n",
              "      const quickchartButtonEl =\n",
              "        document.querySelector('#' + key + ' button');\n",
              "      quickchartButtonEl.disabled = true;  // To prevent multiple clicks.\n",
              "      quickchartButtonEl.classList.add('colab-df-spinner');\n",
              "      try {\n",
              "        const charts = await google.colab.kernel.invokeFunction(\n",
              "            'suggestCharts', [key], {});\n",
              "      } catch (error) {\n",
              "        console.error('Error during call to suggestCharts:', error);\n",
              "      }\n",
              "      quickchartButtonEl.classList.remove('colab-df-spinner');\n",
              "      quickchartButtonEl.classList.add('colab-df-quickchart-complete');\n",
              "    }\n",
              "    (() => {\n",
              "      let quickchartButtonEl =\n",
              "        document.querySelector('#df-ec676c5d-9e61-4df5-a1a6-51250966d038 button');\n",
              "      quickchartButtonEl.style.display =\n",
              "        google.colab.kernel.accessAllowed ? 'block' : 'none';\n",
              "    })();\n",
              "  </script>\n",
              "</div>\n",
              "    </div>\n",
              "  </div>\n"
            ],
            "application/vnd.google.colaboratory.intrinsic+json": {
              "type": "dataframe"
            }
          },
          "metadata": {}
        }
      ]
    },
    {
      "cell_type": "markdown",
      "source": [
        "### 2. Верхнеуровневый анализ"
      ],
      "metadata": {
        "id": "l1ubN6V3AMDo"
      }
    },
    {
      "cell_type": "markdown",
      "source": [
        "Работать со всей базой сразу трудно, так как она не влезает в оперативную память. Нам необходимо как-то сократить выборку и выбрать релевантные объекты для анализа."
      ],
      "metadata": {
        "id": "9-wBPFntVKt6"
      }
    },
    {
      "cell_type": "markdown",
      "source": [
        "#### 2.1 Найдем распределение публикаций по типу."
      ],
      "metadata": {
        "id": "WLpugJYeAaVq"
      }
    },
    {
      "cell_type": "markdown",
      "source": [
        "Для справки:\n",
        "- article – An article from a journal or magazine.\n",
        "- inproceedings – A paper in a conference or workshop proceedings.\n",
        "- proceedings – The proceedings volume of a conference or workshop.\n",
        "- book – An authored monograph or an edited collection of articles.\n",
        "- incollection – A part or chapter in a monograph.\n",
        "- phdthesis – A PhD thesis.\n",
        "- mastersthesis – A Master's thesis. There are only very few Master's theses in dblp.\n",
        "- www – A web page. There are only very few web pages in dblp. See also the notes on person records.\n",
        "\n",
        "(https://dblp.uni-trier.de/faq/16154937.html)"
      ],
      "metadata": {
        "id": "NDp9P7KiE5Re"
      }
    },
    {
      "cell_type": "code",
      "source": [
        "import matplotlib.pyplot as plt\n",
        "\n",
        "\n",
        "with sqlite3.connect(path_to_db) as conn:\n",
        "    df = pd.read_sql(sql=\"SELECT type, COUNT(*) as cnt FROM dblp GROUP BY type;\", con=conn)\n",
        "    df.sort_values(\"cnt\", inplace=True, ascending=True)\n",
        "    display(df)\n",
        "    plt.barh(df[\"type\"], df[\"cnt\"])"
      ],
      "metadata": {
        "colab": {
          "base_uri": "https://localhost:8080/",
          "height": 763
        },
        "id": "JTE2eVbob9fO",
        "outputId": "f29e2af9-8fd8-4ebe-8d01-f4dc3a0542b1"
      },
      "execution_count": 5,
      "outputs": [
        {
          "output_type": "display_data",
          "data": {
            "text/plain": [
              "            type      cnt\n",
              "5  mastersthesis       23\n",
              "2           data     4873\n",
              "1           book    20667\n",
              "7    proceedings    58534\n",
              "3   incollection    70400\n",
              "6      phdthesis   131032\n",
              "4  inproceedings  3479569\n",
              "0        article  3508072\n",
              "8            www  3526584"
            ],
            "text/html": [
              "\n",
              "  <div id=\"df-ca8690ed-6ccf-427b-8467-b3019f798759\" class=\"colab-df-container\">\n",
              "    <div>\n",
              "<style scoped>\n",
              "    .dataframe tbody tr th:only-of-type {\n",
              "        vertical-align: middle;\n",
              "    }\n",
              "\n",
              "    .dataframe tbody tr th {\n",
              "        vertical-align: top;\n",
              "    }\n",
              "\n",
              "    .dataframe thead th {\n",
              "        text-align: right;\n",
              "    }\n",
              "</style>\n",
              "<table border=\"1\" class=\"dataframe\">\n",
              "  <thead>\n",
              "    <tr style=\"text-align: right;\">\n",
              "      <th></th>\n",
              "      <th>type</th>\n",
              "      <th>cnt</th>\n",
              "    </tr>\n",
              "  </thead>\n",
              "  <tbody>\n",
              "    <tr>\n",
              "      <th>5</th>\n",
              "      <td>mastersthesis</td>\n",
              "      <td>23</td>\n",
              "    </tr>\n",
              "    <tr>\n",
              "      <th>2</th>\n",
              "      <td>data</td>\n",
              "      <td>4873</td>\n",
              "    </tr>\n",
              "    <tr>\n",
              "      <th>1</th>\n",
              "      <td>book</td>\n",
              "      <td>20667</td>\n",
              "    </tr>\n",
              "    <tr>\n",
              "      <th>7</th>\n",
              "      <td>proceedings</td>\n",
              "      <td>58534</td>\n",
              "    </tr>\n",
              "    <tr>\n",
              "      <th>3</th>\n",
              "      <td>incollection</td>\n",
              "      <td>70400</td>\n",
              "    </tr>\n",
              "    <tr>\n",
              "      <th>6</th>\n",
              "      <td>phdthesis</td>\n",
              "      <td>131032</td>\n",
              "    </tr>\n",
              "    <tr>\n",
              "      <th>4</th>\n",
              "      <td>inproceedings</td>\n",
              "      <td>3479569</td>\n",
              "    </tr>\n",
              "    <tr>\n",
              "      <th>0</th>\n",
              "      <td>article</td>\n",
              "      <td>3508072</td>\n",
              "    </tr>\n",
              "    <tr>\n",
              "      <th>8</th>\n",
              "      <td>www</td>\n",
              "      <td>3526584</td>\n",
              "    </tr>\n",
              "  </tbody>\n",
              "</table>\n",
              "</div>\n",
              "    <div class=\"colab-df-buttons\">\n",
              "\n",
              "  <div class=\"colab-df-container\">\n",
              "    <button class=\"colab-df-convert\" onclick=\"convertToInteractive('df-ca8690ed-6ccf-427b-8467-b3019f798759')\"\n",
              "            title=\"Convert this dataframe to an interactive table.\"\n",
              "            style=\"display:none;\">\n",
              "\n",
              "  <svg xmlns=\"http://www.w3.org/2000/svg\" height=\"24px\" viewBox=\"0 -960 960 960\">\n",
              "    <path d=\"M120-120v-720h720v720H120Zm60-500h600v-160H180v160Zm220 220h160v-160H400v160Zm0 220h160v-160H400v160ZM180-400h160v-160H180v160Zm440 0h160v-160H620v160ZM180-180h160v-160H180v160Zm440 0h160v-160H620v160Z\"/>\n",
              "  </svg>\n",
              "    </button>\n",
              "\n",
              "  <style>\n",
              "    .colab-df-container {\n",
              "      display:flex;\n",
              "      gap: 12px;\n",
              "    }\n",
              "\n",
              "    .colab-df-convert {\n",
              "      background-color: #E8F0FE;\n",
              "      border: none;\n",
              "      border-radius: 50%;\n",
              "      cursor: pointer;\n",
              "      display: none;\n",
              "      fill: #1967D2;\n",
              "      height: 32px;\n",
              "      padding: 0 0 0 0;\n",
              "      width: 32px;\n",
              "    }\n",
              "\n",
              "    .colab-df-convert:hover {\n",
              "      background-color: #E2EBFA;\n",
              "      box-shadow: 0px 1px 2px rgba(60, 64, 67, 0.3), 0px 1px 3px 1px rgba(60, 64, 67, 0.15);\n",
              "      fill: #174EA6;\n",
              "    }\n",
              "\n",
              "    .colab-df-buttons div {\n",
              "      margin-bottom: 4px;\n",
              "    }\n",
              "\n",
              "    [theme=dark] .colab-df-convert {\n",
              "      background-color: #3B4455;\n",
              "      fill: #D2E3FC;\n",
              "    }\n",
              "\n",
              "    [theme=dark] .colab-df-convert:hover {\n",
              "      background-color: #434B5C;\n",
              "      box-shadow: 0px 1px 3px 1px rgba(0, 0, 0, 0.15);\n",
              "      filter: drop-shadow(0px 1px 2px rgba(0, 0, 0, 0.3));\n",
              "      fill: #FFFFFF;\n",
              "    }\n",
              "  </style>\n",
              "\n",
              "    <script>\n",
              "      const buttonEl =\n",
              "        document.querySelector('#df-ca8690ed-6ccf-427b-8467-b3019f798759 button.colab-df-convert');\n",
              "      buttonEl.style.display =\n",
              "        google.colab.kernel.accessAllowed ? 'block' : 'none';\n",
              "\n",
              "      async function convertToInteractive(key) {\n",
              "        const element = document.querySelector('#df-ca8690ed-6ccf-427b-8467-b3019f798759');\n",
              "        const dataTable =\n",
              "          await google.colab.kernel.invokeFunction('convertToInteractive',\n",
              "                                                    [key], {});\n",
              "        if (!dataTable) return;\n",
              "\n",
              "        const docLinkHtml = 'Like what you see? Visit the ' +\n",
              "          '<a target=\"_blank\" href=https://colab.research.google.com/notebooks/data_table.ipynb>data table notebook</a>'\n",
              "          + ' to learn more about interactive tables.';\n",
              "        element.innerHTML = '';\n",
              "        dataTable['output_type'] = 'display_data';\n",
              "        await google.colab.output.renderOutput(dataTable, element);\n",
              "        const docLink = document.createElement('div');\n",
              "        docLink.innerHTML = docLinkHtml;\n",
              "        element.appendChild(docLink);\n",
              "      }\n",
              "    </script>\n",
              "  </div>\n",
              "\n",
              "\n",
              "<div id=\"df-7102a48e-6d68-4a12-b51e-3d729b785253\">\n",
              "  <button class=\"colab-df-quickchart\" onclick=\"quickchart('df-7102a48e-6d68-4a12-b51e-3d729b785253')\"\n",
              "            title=\"Suggest charts\"\n",
              "            style=\"display:none;\">\n",
              "\n",
              "<svg xmlns=\"http://www.w3.org/2000/svg\" height=\"24px\"viewBox=\"0 0 24 24\"\n",
              "     width=\"24px\">\n",
              "    <g>\n",
              "        <path d=\"M19 3H5c-1.1 0-2 .9-2 2v14c0 1.1.9 2 2 2h14c1.1 0 2-.9 2-2V5c0-1.1-.9-2-2-2zM9 17H7v-7h2v7zm4 0h-2V7h2v10zm4 0h-2v-4h2v4z\"/>\n",
              "    </g>\n",
              "</svg>\n",
              "  </button>\n",
              "\n",
              "<style>\n",
              "  .colab-df-quickchart {\n",
              "      --bg-color: #E8F0FE;\n",
              "      --fill-color: #1967D2;\n",
              "      --hover-bg-color: #E2EBFA;\n",
              "      --hover-fill-color: #174EA6;\n",
              "      --disabled-fill-color: #AAA;\n",
              "      --disabled-bg-color: #DDD;\n",
              "  }\n",
              "\n",
              "  [theme=dark] .colab-df-quickchart {\n",
              "      --bg-color: #3B4455;\n",
              "      --fill-color: #D2E3FC;\n",
              "      --hover-bg-color: #434B5C;\n",
              "      --hover-fill-color: #FFFFFF;\n",
              "      --disabled-bg-color: #3B4455;\n",
              "      --disabled-fill-color: #666;\n",
              "  }\n",
              "\n",
              "  .colab-df-quickchart {\n",
              "    background-color: var(--bg-color);\n",
              "    border: none;\n",
              "    border-radius: 50%;\n",
              "    cursor: pointer;\n",
              "    display: none;\n",
              "    fill: var(--fill-color);\n",
              "    height: 32px;\n",
              "    padding: 0;\n",
              "    width: 32px;\n",
              "  }\n",
              "\n",
              "  .colab-df-quickchart:hover {\n",
              "    background-color: var(--hover-bg-color);\n",
              "    box-shadow: 0 1px 2px rgba(60, 64, 67, 0.3), 0 1px 3px 1px rgba(60, 64, 67, 0.15);\n",
              "    fill: var(--button-hover-fill-color);\n",
              "  }\n",
              "\n",
              "  .colab-df-quickchart-complete:disabled,\n",
              "  .colab-df-quickchart-complete:disabled:hover {\n",
              "    background-color: var(--disabled-bg-color);\n",
              "    fill: var(--disabled-fill-color);\n",
              "    box-shadow: none;\n",
              "  }\n",
              "\n",
              "  .colab-df-spinner {\n",
              "    border: 2px solid var(--fill-color);\n",
              "    border-color: transparent;\n",
              "    border-bottom-color: var(--fill-color);\n",
              "    animation:\n",
              "      spin 1s steps(1) infinite;\n",
              "  }\n",
              "\n",
              "  @keyframes spin {\n",
              "    0% {\n",
              "      border-color: transparent;\n",
              "      border-bottom-color: var(--fill-color);\n",
              "      border-left-color: var(--fill-color);\n",
              "    }\n",
              "    20% {\n",
              "      border-color: transparent;\n",
              "      border-left-color: var(--fill-color);\n",
              "      border-top-color: var(--fill-color);\n",
              "    }\n",
              "    30% {\n",
              "      border-color: transparent;\n",
              "      border-left-color: var(--fill-color);\n",
              "      border-top-color: var(--fill-color);\n",
              "      border-right-color: var(--fill-color);\n",
              "    }\n",
              "    40% {\n",
              "      border-color: transparent;\n",
              "      border-right-color: var(--fill-color);\n",
              "      border-top-color: var(--fill-color);\n",
              "    }\n",
              "    60% {\n",
              "      border-color: transparent;\n",
              "      border-right-color: var(--fill-color);\n",
              "    }\n",
              "    80% {\n",
              "      border-color: transparent;\n",
              "      border-right-color: var(--fill-color);\n",
              "      border-bottom-color: var(--fill-color);\n",
              "    }\n",
              "    90% {\n",
              "      border-color: transparent;\n",
              "      border-bottom-color: var(--fill-color);\n",
              "    }\n",
              "  }\n",
              "</style>\n",
              "\n",
              "  <script>\n",
              "    async function quickchart(key) {\n",
              "      const quickchartButtonEl =\n",
              "        document.querySelector('#' + key + ' button');\n",
              "      quickchartButtonEl.disabled = true;  // To prevent multiple clicks.\n",
              "      quickchartButtonEl.classList.add('colab-df-spinner');\n",
              "      try {\n",
              "        const charts = await google.colab.kernel.invokeFunction(\n",
              "            'suggestCharts', [key], {});\n",
              "      } catch (error) {\n",
              "        console.error('Error during call to suggestCharts:', error);\n",
              "      }\n",
              "      quickchartButtonEl.classList.remove('colab-df-spinner');\n",
              "      quickchartButtonEl.classList.add('colab-df-quickchart-complete');\n",
              "    }\n",
              "    (() => {\n",
              "      let quickchartButtonEl =\n",
              "        document.querySelector('#df-7102a48e-6d68-4a12-b51e-3d729b785253 button');\n",
              "      quickchartButtonEl.style.display =\n",
              "        google.colab.kernel.accessAllowed ? 'block' : 'none';\n",
              "    })();\n",
              "  </script>\n",
              "</div>\n",
              "    </div>\n",
              "  </div>\n"
            ],
            "application/vnd.google.colaboratory.intrinsic+json": {
              "type": "dataframe",
              "variable_name": "df",
              "summary": "{\n  \"name\": \"df\",\n  \"rows\": 9,\n  \"fields\": [\n    {\n      \"column\": \"type\",\n      \"properties\": {\n        \"dtype\": \"string\",\n        \"num_unique_values\": 9,\n        \"samples\": [\n          \"article\",\n          \"data\",\n          \"phdthesis\"\n        ],\n        \"semantic_type\": \"\",\n        \"description\": \"\"\n      }\n    },\n    {\n      \"column\": \"cnt\",\n      \"properties\": {\n        \"dtype\": \"number\",\n        \"std\": 1729066,\n        \"min\": 23,\n        \"max\": 3526584,\n        \"num_unique_values\": 9,\n        \"samples\": [\n          3508072,\n          4873,\n          131032\n        ],\n        \"semantic_type\": \"\",\n        \"description\": \"\"\n      }\n    }\n  ]\n}"
            }
          },
          "metadata": {}
        },
        {
          "output_type": "display_data",
          "data": {
            "text/plain": [
              "<Figure size 640x480 with 1 Axes>"
            ],
            "image/png": "[encoded data removed]"
          },
          "metadata": {}
        }
      ]
    },
    {
      "cell_type": "markdown",
      "source": [
        "Видим, что больше всего в базе статей из журналов и с конференций, а также веб-страниц."
      ],
      "metadata": {
        "id": "ZthXby7CD3OZ"
      }
    },
    {
      "cell_type": "markdown",
      "source": [
        "#### 2.2 Найдем сколько представлено различных университетов и сколько работ относятся к каждому."
      ],
      "metadata": {
        "id": "QxpecgqOFRkX"
      }
    },
    {
      "cell_type": "code",
      "source": [
        "with sqlite3.connect(path_to_db) as conn:\n",
        "    df = pd.read_sql(sql=\"\"\"\n",
        "        SELECT COUNT(*) as cnt\n",
        "        FROM dblp\n",
        "        WHERE school IS NOT NULL\n",
        "      ;\"\"\", con=conn)\n",
        "    display(df)"
      ],
      "metadata": {
        "colab": {
          "base_uri": "https://localhost:8080/",
          "height": 81
        },
        "id": "54SGDmr7unIz",
        "outputId": "585e024d-15d0-42cb-c4a9-5329ca3966a8"
      },
      "execution_count": 77,
      "outputs": [
        {
          "output_type": "display_data",
          "data": {
            "text/plain": [
              "      cnt\n",
              "0  133141"
            ],
            "text/html": [
              "\n",
              "  <div id=\"df-73fbd906-11aa-4adb-8187-d8f2ffe78584\" class=\"colab-df-container\">\n",
              "    <div>\n",
              "<style scoped>\n",
              "    .dataframe tbody tr th:only-of-type {\n",
              "        vertical-align: middle;\n",
              "    }\n",
              "\n",
              "    .dataframe tbody tr th {\n",
              "        vertical-align: top;\n",
              "    }\n",
              "\n",
              "    .dataframe thead th {\n",
              "        text-align: right;\n",
              "    }\n",
              "</style>\n",
              "<table border=\"1\" class=\"dataframe\">\n",
              "  <thead>\n",
              "    <tr style=\"text-align: right;\">\n",
              "      <th></th>\n",
              "      <th>cnt</th>\n",
              "    </tr>\n",
              "  </thead>\n",
              "  <tbody>\n",
              "    <tr>\n",
              "      <th>0</th>\n",
              "      <td>133141</td>\n",
              "    </tr>\n",
              "  </tbody>\n",
              "</table>\n",
              "</div>\n",
              "    <div class=\"colab-df-buttons\">\n",
              "\n",
              "  <div class=\"colab-df-container\">\n",
              "    <button class=\"colab-df-convert\" onclick=\"convertToInteractive('df-73fbd906-11aa-4adb-8187-d8f2ffe78584')\"\n",
              "            title=\"Convert this dataframe to an interactive table.\"\n",
              "            style=\"display:none;\">\n",
              "\n",
              "  <svg xmlns=\"http://www.w3.org/2000/svg\" height=\"24px\" viewBox=\"0 -960 960 960\">\n",
              "    <path d=\"M120-120v-720h720v720H120Zm60-500h600v-160H180v160Zm220 220h160v-160H400v160Zm0 220h160v-160H400v160ZM180-400h160v-160H180v160Zm440 0h160v-160H620v160ZM180-180h160v-160H180v160Zm440 0h160v-160H620v160Z\"/>\n",
              "  </svg>\n",
              "    </button>\n",
              "\n",
              "  <style>\n",
              "    .colab-df-container {\n",
              "      display:flex;\n",
              "      gap: 12px;\n",
              "    }\n",
              "\n",
              "    .colab-df-convert {\n",
              "      background-color: #E8F0FE;\n",
              "      border: none;\n",
              "      border-radius: 50%;\n",
              "      cursor: pointer;\n",
              "      display: none;\n",
              "      fill: #1967D2;\n",
              "      height: 32px;\n",
              "      padding: 0 0 0 0;\n",
              "      width: 32px;\n",
              "    }\n",
              "\n",
              "    .colab-df-convert:hover {\n",
              "      background-color: #E2EBFA;\n",
              "      box-shadow: 0px 1px 2px rgba(60, 64, 67, 0.3), 0px 1px 3px 1px rgba(60, 64, 67, 0.15);\n",
              "      fill: #174EA6;\n",
              "    }\n",
              "\n",
              "    .colab-df-buttons div {\n",
              "      margin-bottom: 4px;\n",
              "    }\n",
              "\n",
              "    [theme=dark] .colab-df-convert {\n",
              "      background-color: #3B4455;\n",
              "      fill: #D2E3FC;\n",
              "    }\n",
              "\n",
              "    [theme=dark] .colab-df-convert:hover {\n",
              "      background-color: #434B5C;\n",
              "      box-shadow: 0px 1px 3px 1px rgba(0, 0, 0, 0.15);\n",
              "      filter: drop-shadow(0px 1px 2px rgba(0, 0, 0, 0.3));\n",
              "      fill: #FFFFFF;\n",
              "    }\n",
              "  </style>\n",
              "\n",
              "    <script>\n",
              "      const buttonEl =\n",
              "        document.querySelector('#df-73fbd906-11aa-4adb-8187-d8f2ffe78584 button.colab-df-convert');\n",
              "      buttonEl.style.display =\n",
              "        google.colab.kernel.accessAllowed ? 'block' : 'none';\n",
              "\n",
              "      async function convertToInteractive(key) {\n",
              "        const element = document.querySelector('#df-73fbd906-11aa-4adb-8187-d8f2ffe78584');\n",
              "        const dataTable =\n",
              "          await google.colab.kernel.invokeFunction('convertToInteractive',\n",
              "                                                    [key], {});\n",
              "        if (!dataTable) return;\n",
              "\n",
              "        const docLinkHtml = 'Like what you see? Visit the ' +\n",
              "          '<a target=\"_blank\" href=https://colab.research.google.com/notebooks/data_table.ipynb>data table notebook</a>'\n",
              "          + ' to learn more about interactive tables.';\n",
              "        element.innerHTML = '';\n",
              "        dataTable['output_type'] = 'display_data';\n",
              "        await google.colab.output.renderOutput(dataTable, element);\n",
              "        const docLink = document.createElement('div');\n",
              "        docLink.innerHTML = docLinkHtml;\n",
              "        element.appendChild(docLink);\n",
              "      }\n",
              "    </script>\n",
              "  </div>\n",
              "\n",
              "    </div>\n",
              "  </div>\n"
            ],
            "application/vnd.google.colaboratory.intrinsic+json": {
              "type": "dataframe",
              "variable_name": "df",
              "summary": "{\n  \"name\": \"df\",\n  \"rows\": 1,\n  \"fields\": [\n    {\n      \"column\": \"cnt\",\n      \"properties\": {\n        \"dtype\": \"number\",\n        \"std\": null,\n        \"min\": 133141,\n        \"max\": 133141,\n        \"num_unique_values\": 1,\n        \"samples\": [\n          133141\n        ],\n        \"semantic_type\": \"\",\n        \"description\": \"\"\n      }\n    }\n  ]\n}"
            }
          },
          "metadata": {}
        }
      ]
    },
    {
      "cell_type": "code",
      "source": [
        "with sqlite3.connect(path_to_db) as conn:\n",
        "    df = pd.read_sql(sql=\"\"\"\n",
        "        SELECT school, COUNT(*) as cnt\n",
        "        FROM dblp\n",
        "        GROUP BY school\n",
        "        ORDER BY cnt DESC\n",
        "      ;\"\"\", con=conn)\n",
        "    display(df)"
      ],
      "metadata": {
        "colab": {
          "base_uri": "https://localhost:8080/",
          "height": 424
        },
        "id": "6jMlFFOOFXhs",
        "outputId": "c0002bfd-9342-42b6-ce66-3d9a5c454602"
      },
      "execution_count": 76,
      "outputs": [
        {
          "output_type": "display_data",
          "data": {
            "text/plain": [
              "                                                 school       cnt\n",
              "0                                                  None  10666613\n",
              "1          University of Illinois Urbana-Champaign, USA      3429\n",
              "2     Massachusetts Institute of Technology, Cambrid...      2155\n",
              "3     Georgia Institute of Technology, Atlanta, GA, USA      1400\n",
              "4                       ETH Zurich, Zürich, Switzerland      1236\n",
              "...                                                 ...       ...\n",
              "2665                   Abat Oliba CEU University, Spain         1\n",
              "2666                                  Aarhus University         1\n",
              "2667   Aalborg University, Esbjerg, Copenhagen, Denmark         1\n",
              "2668                        Aalborg University, Denmark         1\n",
              "2669           AGH University of Science and Technology         1\n",
              "\n",
              "[2670 rows x 2 columns]"
            ],
            "text/html": [
              "\n",
              "  <div id=\"df-5fb4844d-80fe-471c-8740-43ed5b7165e4\" class=\"colab-df-container\">\n",
              "    <div>\n",
              "<style scoped>\n",
              "    .dataframe tbody tr th:only-of-type {\n",
              "        vertical-align: middle;\n",
              "    }\n",
              "\n",
              "    .dataframe tbody tr th {\n",
              "        vertical-align: top;\n",
              "    }\n",
              "\n",
              "    .dataframe thead th {\n",
              "        text-align: right;\n",
              "    }\n",
              "</style>\n",
              "<table border=\"1\" class=\"dataframe\">\n",
              "  <thead>\n",
              "    <tr style=\"text-align: right;\">\n",
              "      <th></th>\n",
              "      <th>school</th>\n",
              "      <th>cnt</th>\n",
              "    </tr>\n",
              "  </thead>\n",
              "  <tbody>\n",
              "    <tr>\n",
              "      <th>0</th>\n",
              "      <td>None</td>\n",
              "      <td>10666613</td>\n",
              "    </tr>\n",
              "    <tr>\n",
              "      <th>1</th>\n",
              "      <td>University of Illinois Urbana-Champaign, USA</td>\n",
              "      <td>3429</td>\n",
              "    </tr>\n",
              "    <tr>\n",
              "      <th>2</th>\n",
              "      <td>Massachusetts Institute of Technology, Cambrid...</td>\n",
              "      <td>2155</td>\n",
              "    </tr>\n",
              "    <tr>\n",
              "      <th>3</th>\n",
              "      <td>Georgia Institute of Technology, Atlanta, GA, USA</td>\n",
              "      <td>1400</td>\n",
              "    </tr>\n",
              "    <tr>\n",
              "      <th>4</th>\n",
              "      <td>ETH Zurich, Zürich, Switzerland</td>\n",
              "      <td>1236</td>\n",
              "    </tr>\n",
              "    <tr>\n",
              "      <th>...</th>\n",
              "      <td>...</td>\n",
              "      <td>...</td>\n",
              "    </tr>\n",
              "    <tr>\n",
              "      <th>2665</th>\n",
              "      <td>Abat Oliba CEU University, Spain</td>\n",
              "      <td>1</td>\n",
              "    </tr>\n",
              "    <tr>\n",
              "      <th>2666</th>\n",
              "      <td>Aarhus University</td>\n",
              "      <td>1</td>\n",
              "    </tr>\n",
              "    <tr>\n",
              "      <th>2667</th>\n",
              "      <td>Aalborg University, Esbjerg, Copenhagen, Denmark</td>\n",
              "      <td>1</td>\n",
              "    </tr>\n",
              "    <tr>\n",
              "      <th>2668</th>\n",
              "      <td>Aalborg University, Denmark</td>\n",
              "      <td>1</td>\n",
              "    </tr>\n",
              "    <tr>\n",
              "      <th>2669</th>\n",
              "      <td>AGH University of Science and Technology</td>\n",
              "      <td>1</td>\n",
              "    </tr>\n",
              "  </tbody>\n",
              "</table>\n",
              "<p>2670 rows × 2 columns</p>\n",
              "</div>\n",
              "    <div class=\"colab-df-buttons\">\n",
              "\n",
              "  <div class=\"colab-df-container\">\n",
              "    <button class=\"colab-df-convert\" onclick=\"convertToInteractive('df-5fb4844d-80fe-471c-8740-43ed5b7165e4')\"\n",
              "            title=\"Convert this dataframe to an interactive table.\"\n",
              "            style=\"display:none;\">\n",
              "\n",
              "  <svg xmlns=\"http://www.w3.org/2000/svg\" height=\"24px\" viewBox=\"0 -960 960 960\">\n",
              "    <path d=\"M120-120v-720h720v720H120Zm60-500h600v-160H180v160Zm220 220h160v-160H400v160Zm0 220h160v-160H400v160ZM180-400h160v-160H180v160Zm440 0h160v-160H620v160ZM180-180h160v-160H180v160Zm440 0h160v-160H620v160Z\"/>\n",
              "  </svg>\n",
              "    </button>\n",
              "\n",
              "  <style>\n",
              "    .colab-df-container {\n",
              "      display:flex;\n",
              "      gap: 12px;\n",
              "    }\n",
              "\n",
              "    .colab-df-convert {\n",
              "      background-color: #E8F0FE;\n",
              "      border: none;\n",
              "      border-radius: 50%;\n",
              "      cursor: pointer;\n",
              "      display: none;\n",
              "      fill: #1967D2;\n",
              "      height: 32px;\n",
              "      padding: 0 0 0 0;\n",
              "      width: 32px;\n",
              "    }\n",
              "\n",
              "    .colab-df-convert:hover {\n",
              "      background-color: #E2EBFA;\n",
              "      box-shadow: 0px 1px 2px rgba(60, 64, 67, 0.3), 0px 1px 3px 1px rgba(60, 64, 67, 0.15);\n",
              "      fill: #174EA6;\n",
              "    }\n",
              "\n",
              "    .colab-df-buttons div {\n",
              "      margin-bottom: 4px;\n",
              "    }\n",
              "\n",
              "    [theme=dark] .colab-df-convert {\n",
              "      background-color: #3B4455;\n",
              "      fill: #D2E3FC;\n",
              "    }\n",
              "\n",
              "    [theme=dark] .colab-df-convert:hover {\n",
              "      background-color: #434B5C;\n",
              "      box-shadow: 0px 1px 3px 1px rgba(0, 0, 0, 0.15);\n",
              "      filter: drop-shadow(0px 1px 2px rgba(0, 0, 0, 0.3));\n",
              "      fill: #FFFFFF;\n",
              "    }\n",
              "  </style>\n",
              "\n",
              "    <script>\n",
              "      const buttonEl =\n",
              "        document.querySelector('#df-5fb4844d-80fe-471c-8740-43ed5b7165e4 button.colab-df-convert');\n",
              "      buttonEl.style.display =\n",
              "        google.colab.kernel.accessAllowed ? 'block' : 'none';\n",
              "\n",
              "      async function convertToInteractive(key) {\n",
              "        const element = document.querySelector('#df-5fb4844d-80fe-471c-8740-43ed5b7165e4');\n",
              "        const dataTable =\n",
              "          await google.colab.kernel.invokeFunction('convertToInteractive',\n",
              "                                                    [key], {});\n",
              "        if (!dataTable) return;\n",
              "\n",
              "        const docLinkHtml = 'Like what you see? Visit the ' +\n",
              "          '<a target=\"_blank\" href=https://colab.research.google.com/notebooks/data_table.ipynb>data table notebook</a>'\n",
              "          + ' to learn more about interactive tables.';\n",
              "        element.innerHTML = '';\n",
              "        dataTable['output_type'] = 'display_data';\n",
              "        await google.colab.output.renderOutput(dataTable, element);\n",
              "        const docLink = document.createElement('div');\n",
              "        docLink.innerHTML = docLinkHtml;\n",
              "        element.appendChild(docLink);\n",
              "      }\n",
              "    </script>\n",
              "  </div>\n",
              "\n",
              "\n",
              "<div id=\"df-4e07e097-fd26-48b0-90c5-3342dc18fc58\">\n",
              "  <button class=\"colab-df-quickchart\" onclick=\"quickchart('df-4e07e097-fd26-48b0-90c5-3342dc18fc58')\"\n",
              "            title=\"Suggest charts\"\n",
              "            style=\"display:none;\">\n",
              "\n",
              "<svg xmlns=\"http://www.w3.org/2000/svg\" height=\"24px\"viewBox=\"0 0 24 24\"\n",
              "     width=\"24px\">\n",
              "    <g>\n",
              "        <path d=\"M19 3H5c-1.1 0-2 .9-2 2v14c0 1.1.9 2 2 2h14c1.1 0 2-.9 2-2V5c0-1.1-.9-2-2-2zM9 17H7v-7h2v7zm4 0h-2V7h2v10zm4 0h-2v-4h2v4z\"/>\n",
              "    </g>\n",
              "</svg>\n",
              "  </button>\n",
              "\n",
              "<style>\n",
              "  .colab-df-quickchart {\n",
              "      --bg-color: #E8F0FE;\n",
              "      --fill-color: #1967D2;\n",
              "      --hover-bg-color: #E2EBFA;\n",
              "      --hover-fill-color: #174EA6;\n",
              "      --disabled-fill-color: #AAA;\n",
              "      --disabled-bg-color: #DDD;\n",
              "  }\n",
              "\n",
              "  [theme=dark] .colab-df-quickchart {\n",
              "      --bg-color: #3B4455;\n",
              "      --fill-color: #D2E3FC;\n",
              "      --hover-bg-color: #434B5C;\n",
              "      --hover-fill-color: #FFFFFF;\n",
              "      --disabled-bg-color: #3B4455;\n",
              "      --disabled-fill-color: #666;\n",
              "  }\n",
              "\n",
              "  .colab-df-quickchart {\n",
              "    background-color: var(--bg-color);\n",
              "    border: none;\n",
              "    border-radius: 50%;\n",
              "    cursor: pointer;\n",
              "    display: none;\n",
              "    fill: var(--fill-color);\n",
              "    height: 32px;\n",
              "    padding: 0;\n",
              "    width: 32px;\n",
              "  }\n",
              "\n",
              "  .colab-df-quickchart:hover {\n",
              "    background-color: var(--hover-bg-color);\n",
              "    box-shadow: 0 1px 2px rgba(60, 64, 67, 0.3), 0 1px 3px 1px rgba(60, 64, 67, 0.15);\n",
              "    fill: var(--button-hover-fill-color);\n",
              "  }\n",
              "\n",
              "  .colab-df-quickchart-complete:disabled,\n",
              "  .colab-df-quickchart-complete:disabled:hover {\n",
              "    background-color: var(--disabled-bg-color);\n",
              "    fill: var(--disabled-fill-color);\n",
              "    box-shadow: none;\n",
              "  }\n",
              "\n",
              "  .colab-df-spinner {\n",
              "    border: 2px solid var(--fill-color);\n",
              "    border-color: transparent;\n",
              "    border-bottom-color: var(--fill-color);\n",
              "    animation:\n",
              "      spin 1s steps(1) infinite;\n",
              "  }\n",
              "\n",
              "  @keyframes spin {\n",
              "    0% {\n",
              "      border-color: transparent;\n",
              "      border-bottom-color: var(--fill-color);\n",
              "      border-left-color: var(--fill-color);\n",
              "    }\n",
              "    20% {\n",
              "      border-color: transparent;\n",
              "      border-left-color: var(--fill-color);\n",
              "      border-top-color: var(--fill-color);\n",
              "    }\n",
              "    30% {\n",
              "      border-color: transparent;\n",
              "      border-left-color: var(--fill-color);\n",
              "      border-top-color: var(--fill-color);\n",
              "      border-right-color: var(--fill-color);\n",
              "    }\n",
              "    40% {\n",
              "      border-color: transparent;\n",
              "      border-right-color: var(--fill-color);\n",
              "      border-top-color: var(--fill-color);\n",
              "    }\n",
              "    60% {\n",
              "      border-color: transparent;\n",
              "      border-right-color: var(--fill-color);\n",
              "    }\n",
              "    80% {\n",
              "      border-color: transparent;\n",
              "      border-right-color: var(--fill-color);\n",
              "      border-bottom-color: var(--fill-color);\n",
              "    }\n",
              "    90% {\n",
              "      border-color: transparent;\n",
              "      border-bottom-color: var(--fill-color);\n",
              "    }\n",
              "  }\n",
              "</style>\n",
              "\n",
              "  <script>\n",
              "    async function quickchart(key) {\n",
              "      const quickchartButtonEl =\n",
              "        document.querySelector('#' + key + ' button');\n",
              "      quickchartButtonEl.disabled = true;  // To prevent multiple clicks.\n",
              "      quickchartButtonEl.classList.add('colab-df-spinner');\n",
              "      try {\n",
              "        const charts = await google.colab.kernel.invokeFunction(\n",
              "            'suggestCharts', [key], {});\n",
              "      } catch (error) {\n",
              "        console.error('Error during call to suggestCharts:', error);\n",
              "      }\n",
              "      quickchartButtonEl.classList.remove('colab-df-spinner');\n",
              "      quickchartButtonEl.classList.add('colab-df-quickchart-complete');\n",
              "    }\n",
              "    (() => {\n",
              "      let quickchartButtonEl =\n",
              "        document.querySelector('#df-4e07e097-fd26-48b0-90c5-3342dc18fc58 button');\n",
              "      quickchartButtonEl.style.display =\n",
              "        google.colab.kernel.accessAllowed ? 'block' : 'none';\n",
              "    })();\n",
              "  </script>\n",
              "</div>\n",
              "    </div>\n",
              "  </div>\n"
            ],
            "application/vnd.google.colaboratory.intrinsic+json": {
              "type": "dataframe",
              "variable_name": "df",
              "summary": "{\n  \"name\": \"df\",\n  \"rows\": 2670,\n  \"fields\": [\n    {\n      \"column\": \"school\",\n      \"properties\": {\n        \"dtype\": \"string\",\n        \"num_unique_values\": 2669,\n        \"samples\": [\n          \"University of Huddersfield, UK\",\n          \"University of Georgia, GA, USA\",\n          \"University of Corsica, France\"\n        ],\n        \"semantic_type\": \"\",\n        \"description\": \"\"\n      }\n    },\n    {\n      \"column\": \"cnt\",\n      \"properties\": {\n        \"dtype\": \"number\",\n        \"std\": 206428,\n        \"min\": 1,\n        \"max\": 10666613,\n        \"num_unique_values\": 330,\n        \"samples\": [\n          1126,\n          185,\n          219\n        ],\n        \"semantic_type\": \"\",\n        \"description\": \"\"\n      }\n    }\n  ]\n}"
            }
          },
          "metadata": {}
        }
      ]
    },
    {
      "cell_type": "markdown",
      "source": [
        "Видим, что у подавляющего большинства записей нет данных об университете."
      ],
      "metadata": {
        "id": "AKvMxIZfug-F"
      }
    },
    {
      "cell_type": "markdown",
      "source": [
        "#### 2.3 Найдем распределение работ по годам"
      ],
      "metadata": {
        "id": "_-QzrcgDWBM0"
      }
    },
    {
      "cell_type": "code",
      "source": [
        "with sqlite3.connect(path_to_db) as conn:\n",
        "    df = pd.read_sql(sql=\"\"\"\n",
        "        SELECT year, COUNT(*) as cnt\n",
        "        FROM dblp\n",
        "        GROUP BY year\n",
        "      ;\"\"\", con=conn)\n",
        "    display(df)\n",
        "\n",
        "    df.dropna(inplace=True)\n",
        "    plt.bar(df[\"year\"].astype(int), height=df[\"cnt\"], width=0.6)"
      ],
      "metadata": {
        "colab": {
          "base_uri": "https://localhost:8080/",
          "height": 837
        },
        "id": "nFdS3GBaWALb",
        "outputId": "f8cb9a63-e813-4398-b92e-9c7ab02f73b1"
      },
      "execution_count": 7,
      "outputs": [
        {
          "output_type": "display_data",
          "data": {
            "text/plain": [
              "    year      cnt\n",
              "0   None  3527793\n",
              "1   1936       12\n",
              "2   1937       16\n",
              "3   1938       11\n",
              "4   1939       18\n",
              "..   ...      ...\n",
              "86  2021   462950\n",
              "87  2022   480564\n",
              "88  2023   506430\n",
              "89  2024   155958\n",
              "90  2025        1\n",
              "\n",
              "[91 rows x 2 columns]"
            ],
            "text/html": [
              "\n",
              "  <div id=\"df-be7cd53b-3661-4cd1-a2c2-616c914eb72c\" class=\"colab-df-container\">\n",
              "    <div>\n",
              "<style scoped>\n",
              "    .dataframe tbody tr th:only-of-type {\n",
              "        vertical-align: middle;\n",
              "    }\n",
              "\n",
              "    .dataframe tbody tr th {\n",
              "        vertical-align: top;\n",
              "    }\n",
              "\n",
              "    .dataframe thead th {\n",
              "        text-align: right;\n",
              "    }\n",
              "</style>\n",
              "<table border=\"1\" class=\"dataframe\">\n",
              "  <thead>\n",
              "    <tr style=\"text-align: right;\">\n",
              "      <th></th>\n",
              "      <th>year</th>\n",
              "      <th>cnt</th>\n",
              "    </tr>\n",
              "  </thead>\n",
              "  <tbody>\n",
              "    <tr>\n",
              "      <th>0</th>\n",
              "      <td>None</td>\n",
              "      <td>3527793</td>\n",
              "    </tr>\n",
              "    <tr>\n",
              "      <th>1</th>\n",
              "      <td>1936</td>\n",
              "      <td>12</td>\n",
              "    </tr>\n",
              "    <tr>\n",
              "      <th>2</th>\n",
              "      <td>1937</td>\n",
              "      <td>16</td>\n",
              "    </tr>\n",
              "    <tr>\n",
              "      <th>3</th>\n",
              "      <td>1938</td>\n",
              "      <td>11</td>\n",
              "    </tr>\n",
              "    <tr>\n",
              "      <th>4</th>\n",
              "      <td>1939</td>\n",
              "      <td>18</td>\n",
              "    </tr>\n",
              "    <tr>\n",
              "      <th>...</th>\n",
              "      <td>...</td>\n",
              "      <td>...</td>\n",
              "    </tr>\n",
              "    <tr>\n",
              "      <th>86</th>\n",
              "      <td>2021</td>\n",
              "      <td>462950</td>\n",
              "    </tr>\n",
              "    <tr>\n",
              "      <th>87</th>\n",
              "      <td>2022</td>\n",
              "      <td>480564</td>\n",
              "    </tr>\n",
              "    <tr>\n",
              "      <th>88</th>\n",
              "      <td>2023</td>\n",
              "      <td>506430</td>\n",
              "    </tr>\n",
              "    <tr>\n",
              "      <th>89</th>\n",
              "      <td>2024</td>\n",
              "      <td>155958</td>\n",
              "    </tr>\n",
              "    <tr>\n",
              "      <th>90</th>\n",
              "      <td>2025</td>\n",
              "      <td>1</td>\n",
              "    </tr>\n",
              "  </tbody>\n",
              "</table>\n",
              "<p>91 rows × 2 columns</p>\n",
              "</div>\n",
              "    <div class=\"colab-df-buttons\">\n",
              "\n",
              "  <div class=\"colab-df-container\">\n",
              "    <button class=\"colab-df-convert\" onclick=\"convertToInteractive('df-be7cd53b-3661-4cd1-a2c2-616c914eb72c')\"\n",
              "            title=\"Convert this dataframe to an interactive table.\"\n",
              "            style=\"display:none;\">\n",
              "\n",
              "  <svg xmlns=\"http://www.w3.org/2000/svg\" height=\"24px\" viewBox=\"0 -960 960 960\">\n",
              "    <path d=\"M120-120v-720h720v720H120Zm60-500h600v-160H180v160Zm220 220h160v-160H400v160Zm0 220h160v-160H400v160ZM180-400h160v-160H180v160Zm440 0h160v-160H620v160ZM180-180h160v-160H180v160Zm440 0h160v-160H620v160Z\"/>\n",
              "  </svg>\n",
              "    </button>\n",
              "\n",
              "  <style>\n",
              "    .colab-df-container {\n",
              "      display:flex;\n",
              "      gap: 12px;\n",
              "    }\n",
              "\n",
              "    .colab-df-convert {\n",
              "      background-color: #E8F0FE;\n",
              "      border: none;\n",
              "      border-radius: 50%;\n",
              "      cursor: pointer;\n",
              "      display: none;\n",
              "      fill: #1967D2;\n",
              "      height: 32px;\n",
              "      padding: 0 0 0 0;\n",
              "      width: 32px;\n",
              "    }\n",
              "\n",
              "    .colab-df-convert:hover {\n",
              "      background-color: #E2EBFA;\n",
              "      box-shadow: 0px 1px 2px rgba(60, 64, 67, 0.3), 0px 1px 3px 1px rgba(60, 64, 67, 0.15);\n",
              "      fill: #174EA6;\n",
              "    }\n",
              "\n",
              "    .colab-df-buttons div {\n",
              "      margin-bottom: 4px;\n",
              "    }\n",
              "\n",
              "    [theme=dark] .colab-df-convert {\n",
              "      background-color: #3B4455;\n",
              "      fill: #D2E3FC;\n",
              "    }\n",
              "\n",
              "    [theme=dark] .colab-df-convert:hover {\n",
              "      background-color: #434B5C;\n",
              "      box-shadow: 0px 1px 3px 1px rgba(0, 0, 0, 0.15);\n",
              "      filter: drop-shadow(0px 1px 2px rgba(0, 0, 0, 0.3));\n",
              "      fill: #FFFFFF;\n",
              "    }\n",
              "  </style>\n",
              "\n",
              "    <script>\n",
              "      const buttonEl =\n",
              "        document.querySelector('#df-be7cd53b-3661-4cd1-a2c2-616c914eb72c button.colab-df-convert');\n",
              "      buttonEl.style.display =\n",
              "        google.colab.kernel.accessAllowed ? 'block' : 'none';\n",
              "\n",
              "      async function convertToInteractive(key) {\n",
              "        const element = document.querySelector('#df-be7cd53b-3661-4cd1-a2c2-616c914eb72c');\n",
              "        const dataTable =\n",
              "          await google.colab.kernel.invokeFunction('convertToInteractive',\n",
              "                                                    [key], {});\n",
              "        if (!dataTable) return;\n",
              "\n",
              "        const docLinkHtml = 'Like what you see? Visit the ' +\n",
              "          '<a target=\"_blank\" href=https://colab.research.google.com/notebooks/data_table.ipynb>data table notebook</a>'\n",
              "          + ' to learn more about interactive tables.';\n",
              "        element.innerHTML = '';\n",
              "        dataTable['output_type'] = 'display_data';\n",
              "        await google.colab.output.renderOutput(dataTable, element);\n",
              "        const docLink = document.createElement('div');\n",
              "        docLink.innerHTML = docLinkHtml;\n",
              "        element.appendChild(docLink);\n",
              "      }\n",
              "    </script>\n",
              "  </div>\n",
              "\n",
              "\n",
              "<div id=\"df-bd6429ca-b5ac-4920-a43d-cf6442708cac\">\n",
              "  <button class=\"colab-df-quickchart\" onclick=\"quickchart('df-bd6429ca-b5ac-4920-a43d-cf6442708cac')\"\n",
              "            title=\"Suggest charts\"\n",
              "            style=\"display:none;\">\n",
              "\n",
              "<svg xmlns=\"http://www.w3.org/2000/svg\" height=\"24px\"viewBox=\"0 0 24 24\"\n",
              "     width=\"24px\">\n",
              "    <g>\n",
              "        <path d=\"M19 3H5c-1.1 0-2 .9-2 2v14c0 1.1.9 2 2 2h14c1.1 0 2-.9 2-2V5c0-1.1-.9-2-2-2zM9 17H7v-7h2v7zm4 0h-2V7h2v10zm4 0h-2v-4h2v4z\"/>\n",
              "    </g>\n",
              "</svg>\n",
              "  </button>\n",
              "\n",
              "<style>\n",
              "  .colab-df-quickchart {\n",
              "      --bg-color: #E8F0FE;\n",
              "      --fill-color: #1967D2;\n",
              "      --hover-bg-color: #E2EBFA;\n",
              "      --hover-fill-color: #174EA6;\n",
              "      --disabled-fill-color: #AAA;\n",
              "      --disabled-bg-color: #DDD;\n",
              "  }\n",
              "\n",
              "  [theme=dark] .colab-df-quickchart {\n",
              "      --bg-color: #3B4455;\n",
              "      --fill-color: #D2E3FC;\n",
              "      --hover-bg-color: #434B5C;\n",
              "      --hover-fill-color: #FFFFFF;\n",
              "      --disabled-bg-color: #3B4455;\n",
              "      --disabled-fill-color: #666;\n",
              "  }\n",
              "\n",
              "  .colab-df-quickchart {\n",
              "    background-color: var(--bg-color);\n",
              "    border: none;\n",
              "    border-radius: 50%;\n",
              "    cursor: pointer;\n",
              "    display: none;\n",
              "    fill: var(--fill-color);\n",
              "    height: 32px;\n",
              "    padding: 0;\n",
              "    width: 32px;\n",
              "  }\n",
              "\n",
              "  .colab-df-quickchart:hover {\n",
              "    background-color: var(--hover-bg-color);\n",
              "    box-shadow: 0 1px 2px rgba(60, 64, 67, 0.3), 0 1px 3px 1px rgba(60, 64, 67, 0.15);\n",
              "    fill: var(--button-hover-fill-color);\n",
              "  }\n",
              "\n",
              "  .colab-df-quickchart-complete:disabled,\n",
              "  .colab-df-quickchart-complete:disabled:hover {\n",
              "    background-color: var(--disabled-bg-color);\n",
              "    fill: var(--disabled-fill-color);\n",
              "    box-shadow: none;\n",
              "  }\n",
              "\n",
              "  .colab-df-spinner {\n",
              "    border: 2px solid var(--fill-color);\n",
              "    border-color: transparent;\n",
              "    border-bottom-color: var(--fill-color);\n",
              "    animation:\n",
              "      spin 1s steps(1) infinite;\n",
              "  }\n",
              "\n",
              "  @keyframes spin {\n",
              "    0% {\n",
              "      border-color: transparent;\n",
              "      border-bottom-color: var(--fill-color);\n",
              "      border-left-color: var(--fill-color);\n",
              "    }\n",
              "    20% {\n",
              "      border-color: transparent;\n",
              "      border-left-color: var(--fill-color);\n",
              "      border-top-color: var(--fill-color);\n",
              "    }\n",
              "    30% {\n",
              "      border-color: transparent;\n",
              "      border-left-color: var(--fill-color);\n",
              "      border-top-color: var(--fill-color);\n",
              "      border-right-color: var(--fill-color);\n",
              "    }\n",
              "    40% {\n",
              "      border-color: transparent;\n",
              "      border-right-color: var(--fill-color);\n",
              "      border-top-color: var(--fill-color);\n",
              "    }\n",
              "    60% {\n",
              "      border-color: transparent;\n",
              "      border-right-color: var(--fill-color);\n",
              "    }\n",
              "    80% {\n",
              "      border-color: transparent;\n",
              "      border-right-color: var(--fill-color);\n",
              "      border-bottom-color: var(--fill-color);\n",
              "    }\n",
              "    90% {\n",
              "      border-color: transparent;\n",
              "      border-bottom-color: var(--fill-color);\n",
              "    }\n",
              "  }\n",
              "</style>\n",
              "\n",
              "  <script>\n",
              "    async function quickchart(key) {\n",
              "      const quickchartButtonEl =\n",
              "        document.querySelector('#' + key + ' button');\n",
              "      quickchartButtonEl.disabled = true;  // To prevent multiple clicks.\n",
              "      quickchartButtonEl.classList.add('colab-df-spinner');\n",
              "      try {\n",
              "        const charts = await google.colab.kernel.invokeFunction(\n",
              "            'suggestCharts', [key], {});\n",
              "      } catch (error) {\n",
              "        console.error('Error during call to suggestCharts:', error);\n",
              "      }\n",
              "      quickchartButtonEl.classList.remove('colab-df-spinner');\n",
              "      quickchartButtonEl.classList.add('colab-df-quickchart-complete');\n",
              "    }\n",
              "    (() => {\n",
              "      let quickchartButtonEl =\n",
              "        document.querySelector('#df-bd6429ca-b5ac-4920-a43d-cf6442708cac button');\n",
              "      quickchartButtonEl.style.display =\n",
              "        google.colab.kernel.accessAllowed ? 'block' : 'none';\n",
              "    })();\n",
              "  </script>\n",
              "</div>\n",
              "    </div>\n",
              "  </div>\n"
            ],
            "application/vnd.google.colaboratory.intrinsic+json": {
              "type": "dataframe",
              "variable_name": "df",
              "summary": "{\n  \"name\": \"df\",\n  \"rows\": 91,\n  \"fields\": [\n    {\n      \"column\": \"year\",\n      \"properties\": {\n        \"dtype\": \"date\",\n        \"min\": \"1936-01-01 00:00:00\",\n        \"max\": \"2025-01-01 00:00:00\",\n        \"num_unique_values\": 90,\n        \"samples\": [\n          \"1976\",\n          \"1958\",\n          \"1991\"\n        ],\n        \"semantic_type\": \"\",\n        \"description\": \"\"\n      }\n    },\n    {\n      \"column\": \"cnt\",\n      \"properties\": {\n        \"dtype\": \"number\",\n        \"std\": 384745,\n        \"min\": 1,\n        \"max\": 3527793,\n        \"num_unique_values\": 89,\n        \"samples\": [\n          8665,\n          28328,\n          1763\n        ],\n        \"semantic_type\": \"\",\n        \"description\": \"\"\n      }\n    }\n  ]\n}"
            }
          },
          "metadata": {}
        },
        {
          "output_type": "display_data",
          "data": {
            "text/plain": [
              "<Figure size 640x480 with 1 Axes>"
            ],
            "image/png": "[encoded data removed]"
          },
          "metadata": {}
        }
      ]
    },
    {
      "cell_type": "markdown",
      "source": [
        "Итого, выберем работы, соответствующие следующим критериям: это статья в журнале или с конференции, или докторская диссертация, написана не раньше 2015 и есть данные об университете."
      ],
      "metadata": {
        "id": "CMkJJE1DySIy"
      }
    },
    {
      "cell_type": "code",
      "source": [
        "with sqlite3.connect(path_to_db) as conn:\n",
        "    df = pd.read_sql(sql=\"\"\"\n",
        "      SELECT type, key, author, title, year, school\n",
        "      FROM dblp\n",
        "      WHERE\n",
        "        school IS NOT NULL\n",
        "        AND year >= 2015\n",
        "        AND type IN ('article', 'inproceedings', 'phdthesis')\n",
        "      ;\"\"\", con=conn)\n",
        "    display(df)"
      ],
      "metadata": {
        "colab": {
          "base_uri": "https://localhost:8080/",
          "height": 597
        },
        "id": "WTdjvBYgLih9",
        "outputId": "e3cc4742-8bdf-4547-c1bb-36a81214d7e1"
      },
      "execution_count": 78,
      "outputs": [
        {
          "output_type": "display_data",
          "data": {
            "text/plain": [
              "            type                       key              author  \\\n",
              "0      phdthesis  series/ssw/Vougiouklis20  Pavlos Vougiouklis   \n",
              "1      phdthesis       books/sp/Golyanik20  Vladislav Golyanik   \n",
              "2      phdthesis          books/sp/Rajab20      Mohammed Rajab   \n",
              "3      phdthesis        books/sp/Schmidt20   Elisabeth Schmidt   \n",
              "4      phdthesis           books/sp/Lenz20         Annika Lenz   \n",
              "...          ...                       ...                 ...   \n",
              "51622  phdthesis           phd/it/Rahman21    Mohsin Ur Rahman   \n",
              "51623  phdthesis            phd/it/Rossi16         Elena Rossi   \n",
              "51624  phdthesis        phd/it/Massaglia17    Giulia Massaglia   \n",
              "51625  phdthesis         phd/it/Frontini19       Luca Frontini   \n",
              "51626  phdthesis           phd/it/Cutolo15     Fabrizio Cutolo   \n",
              "\n",
              "                                                   title  year  \\\n",
              "0      Neural Generation of Textual Summaries from Kn...  2020   \n",
              "1      Robust Methods for Dense Monocular Non-Rigid 3...  2020   \n",
              "2      Channel and Source Coding for Non-Volatile Fla...  2020   \n",
              "3      Effects of Thermal Stimulation during Passive ...  2020   \n",
              "4      Dynamic Decision Support for Electronic Requir...  2020   \n",
              "...                                                  ...   ...   \n",
              "51622  Blockchain-based Approaches for Access Control...  2021   \n",
              "51623  Integrating the home and the professional care...  2016   \n",
              "51624  Development of new nanostructured electrodes i...  2017   \n",
              "51625  Design and synthesis of high density integrate...  2019   \n",
              "51626  Wearable Stereoscopic Augmented Reality System...  2015   \n",
              "\n",
              "                                                 school  \n",
              "0                         University of Southampton, UK  \n",
              "1      Kaiserslautern University of Technology, Germany  \n",
              "2                            University of Ulm, Germany  \n",
              "3            Chemnitz University of Technology, Germany  \n",
              "4           University of Hohenheim, Stuttgart, Germany  \n",
              "...                                                 ...  \n",
              "51622                         University of Pisa, Italy  \n",
              "51623            Polytechnic University of Milan, Italy  \n",
              "51624            Polytechnic University of Turin, Italy  \n",
              "51625                        University of Milan, Italy  \n",
              "51626                         University of Pisa, Italy  \n",
              "\n",
              "[51627 rows x 6 columns]"
            ],
            "text/html": [
              "\n",
              "  <div id=\"df-8961f191-9d2f-4fbe-a7ed-09a23ebd7bfb\" class=\"colab-df-container\">\n",
              "    <div>\n",
              "<style scoped>\n",
              "    .dataframe tbody tr th:only-of-type {\n",
              "        vertical-align: middle;\n",
              "    }\n",
              "\n",
              "    .dataframe tbody tr th {\n",
              "        vertical-align: top;\n",
              "    }\n",
              "\n",
              "    .dataframe thead th {\n",
              "        text-align: right;\n",
              "    }\n",
              "</style>\n",
              "<table border=\"1\" class=\"dataframe\">\n",
              "  <thead>\n",
              "    <tr style=\"text-align: right;\">\n",
              "      <th></th>\n",
              "      <th>type</th>\n",
              "      <th>key</th>\n",
              "      <th>author</th>\n",
              "      <th>title</th>\n",
              "      <th>year</th>\n",
              "      <th>school</th>\n",
              "    </tr>\n",
              "  </thead>\n",
              "  <tbody>\n",
              "    <tr>\n",
              "      <th>0</th>\n",
              "      <td>phdthesis</td>\n",
              "      <td>series/ssw/Vougiouklis20</td>\n",
              "      <td>Pavlos Vougiouklis</td>\n",
              "      <td>Neural Generation of Textual Summaries from Kn...</td>\n",
              "      <td>2020</td>\n",
              "      <td>University of Southampton, UK</td>\n",
              "    </tr>\n",
              "    <tr>\n",
              "      <th>1</th>\n",
              "      <td>phdthesis</td>\n",
              "      <td>books/sp/Golyanik20</td>\n",
              "      <td>Vladislav Golyanik</td>\n",
              "      <td>Robust Methods for Dense Monocular Non-Rigid 3...</td>\n",
              "      <td>2020</td>\n",
              "      <td>Kaiserslautern University of Technology, Germany</td>\n",
              "    </tr>\n",
              "    <tr>\n",
              "      <th>2</th>\n",
              "      <td>phdthesis</td>\n",
              "      <td>books/sp/Rajab20</td>\n",
              "      <td>Mohammed Rajab</td>\n",
              "      <td>Channel and Source Coding for Non-Volatile Fla...</td>\n",
              "      <td>2020</td>\n",
              "      <td>University of Ulm, Germany</td>\n",
              "    </tr>\n",
              "    <tr>\n",
              "      <th>3</th>\n",
              "      <td>phdthesis</td>\n",
              "      <td>books/sp/Schmidt20</td>\n",
              "      <td>Elisabeth Schmidt</td>\n",
              "      <td>Effects of Thermal Stimulation during Passive ...</td>\n",
              "      <td>2020</td>\n",
              "      <td>Chemnitz University of Technology, Germany</td>\n",
              "    </tr>\n",
              "    <tr>\n",
              "      <th>4</th>\n",
              "      <td>phdthesis</td>\n",
              "      <td>books/sp/Lenz20</td>\n",
              "      <td>Annika Lenz</td>\n",
              "      <td>Dynamic Decision Support for Electronic Requir...</td>\n",
              "      <td>2020</td>\n",
              "      <td>University of Hohenheim, Stuttgart, Germany</td>\n",
              "    </tr>\n",
              "    <tr>\n",
              "      <th>...</th>\n",
              "      <td>...</td>\n",
              "      <td>...</td>\n",
              "      <td>...</td>\n",
              "      <td>...</td>\n",
              "      <td>...</td>\n",
              "      <td>...</td>\n",
              "    </tr>\n",
              "    <tr>\n",
              "      <th>51622</th>\n",
              "      <td>phdthesis</td>\n",
              "      <td>phd/it/Rahman21</td>\n",
              "      <td>Mohsin Ur Rahman</td>\n",
              "      <td>Blockchain-based Approaches for Access Control...</td>\n",
              "      <td>2021</td>\n",
              "      <td>University of Pisa, Italy</td>\n",
              "    </tr>\n",
              "    <tr>\n",
              "      <th>51623</th>\n",
              "      <td>phdthesis</td>\n",
              "      <td>phd/it/Rossi16</td>\n",
              "      <td>Elena Rossi</td>\n",
              "      <td>Integrating the home and the professional care...</td>\n",
              "      <td>2016</td>\n",
              "      <td>Polytechnic University of Milan, Italy</td>\n",
              "    </tr>\n",
              "    <tr>\n",
              "      <th>51624</th>\n",
              "      <td>phdthesis</td>\n",
              "      <td>phd/it/Massaglia17</td>\n",
              "      <td>Giulia Massaglia</td>\n",
              "      <td>Development of new nanostructured electrodes i...</td>\n",
              "      <td>2017</td>\n",
              "      <td>Polytechnic University of Turin, Italy</td>\n",
              "    </tr>\n",
              "    <tr>\n",
              "      <th>51625</th>\n",
              "      <td>phdthesis</td>\n",
              "      <td>phd/it/Frontini19</td>\n",
              "      <td>Luca Frontini</td>\n",
              "      <td>Design and synthesis of high density integrate...</td>\n",
              "      <td>2019</td>\n",
              "      <td>University of Milan, Italy</td>\n",
              "    </tr>\n",
              "    <tr>\n",
              "      <th>51626</th>\n",
              "      <td>phdthesis</td>\n",
              "      <td>phd/it/Cutolo15</td>\n",
              "      <td>Fabrizio Cutolo</td>\n",
              "      <td>Wearable Stereoscopic Augmented Reality System...</td>\n",
              "      <td>2015</td>\n",
              "      <td>University of Pisa, Italy</td>\n",
              "    </tr>\n",
              "  </tbody>\n",
              "</table>\n",
              "<p>51627 rows × 6 columns</p>\n",
              "</div>\n",
              "    <div class=\"colab-df-buttons\">\n",
              "\n",
              "  <div class=\"colab-df-container\">\n",
              "    <button class=\"colab-df-convert\" onclick=\"convertToInteractive('df-8961f191-9d2f-4fbe-a7ed-09a23ebd7bfb')\"\n",
              "            title=\"Convert this dataframe to an interactive table.\"\n",
              "            style=\"display:none;\">\n",
              "\n",
              "  <svg xmlns=\"http://www.w3.org/2000/svg\" height=\"24px\" viewBox=\"0 -960 960 960\">\n",
              "    <path d=\"M120-120v-720h720v720H120Zm60-500h600v-160H180v160Zm220 220h160v-160H400v160Zm0 220h160v-160H400v160ZM180-400h160v-160H180v160Zm440 0h160v-160H620v160ZM180-180h160v-160H180v160Zm440 0h160v-160H620v160Z\"/>\n",
              "  </svg>\n",
              "    </button>\n",
              "\n",
              "  <style>\n",
              "    .colab-df-container {\n",
              "      display:flex;\n",
              "      gap: 12px;\n",
              "    }\n",
              "\n",
              "    .colab-df-convert {\n",
              "      background-color: #E8F0FE;\n",
              "      border: none;\n",
              "      border-radius: 50%;\n",
              "      cursor: pointer;\n",
              "      display: none;\n",
              "      fill: #1967D2;\n",
              "      height: 32px;\n",
              "      padding: 0 0 0 0;\n",
              "      width: 32px;\n",
              "    }\n",
              "\n",
              "    .colab-df-convert:hover {\n",
              "      background-color: #E2EBFA;\n",
              "      box-shadow: 0px 1px 2px rgba(60, 64, 67, 0.3), 0px 1px 3px 1px rgba(60, 64, 67, 0.15);\n",
              "      fill: #174EA6;\n",
              "    }\n",
              "\n",
              "    .colab-df-buttons div {\n",
              "      margin-bottom: 4px;\n",
              "    }\n",
              "\n",
              "    [theme=dark] .colab-df-convert {\n",
              "      background-color: #3B4455;\n",
              "      fill: #D2E3FC;\n",
              "    }\n",
              "\n",
              "    [theme=dark] .colab-df-convert:hover {\n",
              "      background-color: #434B5C;\n",
              "      box-shadow: 0px 1px 3px 1px rgba(0, 0, 0, 0.15);\n",
              "      filter: drop-shadow(0px 1px 2px rgba(0, 0, 0, 0.3));\n",
              "      fill: #FFFFFF;\n",
              "    }\n",
              "  </style>\n",
              "\n",
              "    <script>\n",
              "      const buttonEl =\n",
              "        document.querySelector('#df-8961f191-9d2f-4fbe-a7ed-09a23ebd7bfb button.colab-df-convert');\n",
              "      buttonEl.style.display =\n",
              "        google.colab.kernel.accessAllowed ? 'block' : 'none';\n",
              "\n",
              "      async function convertToInteractive(key) {\n",
              "        const element = document.querySelector('#df-8961f191-9d2f-4fbe-a7ed-09a23ebd7bfb');\n",
              "        const dataTable =\n",
              "          await google.colab.kernel.invokeFunction('convertToInteractive',\n",
              "                                                    [key], {});\n",
              "        if (!dataTable) return;\n",
              "\n",
              "        const docLinkHtml = 'Like what you see? Visit the ' +\n",
              "          '<a target=\"_blank\" href=https://colab.research.google.com/notebooks/data_table.ipynb>data table notebook</a>'\n",
              "          + ' to learn more about interactive tables.';\n",
              "        element.innerHTML = '';\n",
              "        dataTable['output_type'] = 'display_data';\n",
              "        await google.colab.output.renderOutput(dataTable, element);\n",
              "        const docLink = document.createElement('div');\n",
              "        docLink.innerHTML = docLinkHtml;\n",
              "        element.appendChild(docLink);\n",
              "      }\n",
              "    </script>\n",
              "  </div>\n",
              "\n",
              "\n",
              "<div id=\"df-5468b9e0-1205-4574-9488-bbb70e0f2fca\">\n",
              "  <button class=\"colab-df-quickchart\" onclick=\"quickchart('df-5468b9e0-1205-4574-9488-bbb70e0f2fca')\"\n",
              "            title=\"Suggest charts\"\n",
              "            style=\"display:none;\">\n",
              "\n",
              "<svg xmlns=\"http://www.w3.org/2000/svg\" height=\"24px\"viewBox=\"0 0 24 24\"\n",
              "     width=\"24px\">\n",
              "    <g>\n",
              "        <path d=\"M19 3H5c-1.1 0-2 .9-2 2v14c0 1.1.9 2 2 2h14c1.1 0 2-.9 2-2V5c0-1.1-.9-2-2-2zM9 17H7v-7h2v7zm4 0h-2V7h2v10zm4 0h-2v-4h2v4z\"/>\n",
              "    </g>\n",
              "</svg>\n",
              "  </button>\n",
              "\n",
              "<style>\n",
              "  .colab-df-quickchart {\n",
              "      --bg-color: #E8F0FE;\n",
              "      --fill-color: #1967D2;\n",
              "      --hover-bg-color: #E2EBFA;\n",
              "      --hover-fill-color: #174EA6;\n",
              "      --disabled-fill-color: #AAA;\n",
              "      --disabled-bg-color: #DDD;\n",
              "  }\n",
              "\n",
              "  [theme=dark] .colab-df-quickchart {\n",
              "      --bg-color: #3B4455;\n",
              "      --fill-color: #D2E3FC;\n",
              "      --hover-bg-color: #434B5C;\n",
              "      --hover-fill-color: #FFFFFF;\n",
              "      --disabled-bg-color: #3B4455;\n",
              "      --disabled-fill-color: #666;\n",
              "  }\n",
              "\n",
              "  .colab-df-quickchart {\n",
              "    background-color: var(--bg-color);\n",
              "    border: none;\n",
              "    border-radius: 50%;\n",
              "    cursor: pointer;\n",
              "    display: none;\n",
              "    fill: var(--fill-color);\n",
              "    height: 32px;\n",
              "    padding: 0;\n",
              "    width: 32px;\n",
              "  }\n",
              "\n",
              "  .colab-df-quickchart:hover {\n",
              "    background-color: var(--hover-bg-color);\n",
              "    box-shadow: 0 1px 2px rgba(60, 64, 67, 0.3), 0 1px 3px 1px rgba(60, 64, 67, 0.15);\n",
              "    fill: var(--button-hover-fill-color);\n",
              "  }\n",
              "\n",
              "  .colab-df-quickchart-complete:disabled,\n",
              "  .colab-df-quickchart-complete:disabled:hover {\n",
              "    background-color: var(--disabled-bg-color);\n",
              "    fill: var(--disabled-fill-color);\n",
              "    box-shadow: none;\n",
              "  }\n",
              "\n",
              "  .colab-df-spinner {\n",
              "    border: 2px solid var(--fill-color);\n",
              "    border-color: transparent;\n",
              "    border-bottom-color: var(--fill-color);\n",
              "    animation:\n",
              "      spin 1s steps(1) infinite;\n",
              "  }\n",
              "\n",
              "  @keyframes spin {\n",
              "    0% {\n",
              "      border-color: transparent;\n",
              "      border-bottom-color: var(--fill-color);\n",
              "      border-left-color: var(--fill-color);\n",
              "    }\n",
              "    20% {\n",
              "      border-color: transparent;\n",
              "      border-left-color: var(--fill-color);\n",
              "      border-top-color: var(--fill-color);\n",
              "    }\n",
              "    30% {\n",
              "      border-color: transparent;\n",
              "      border-left-color: var(--fill-color);\n",
              "      border-top-color: var(--fill-color);\n",
              "      border-right-color: var(--fill-color);\n",
              "    }\n",
              "    40% {\n",
              "      border-color: transparent;\n",
              "      border-right-color: var(--fill-color);\n",
              "      border-top-color: var(--fill-color);\n",
              "    }\n",
              "    60% {\n",
              "      border-color: transparent;\n",
              "      border-right-color: var(--fill-color);\n",
              "    }\n",
              "    80% {\n",
              "      border-color: transparent;\n",
              "      border-right-color: var(--fill-color);\n",
              "      border-bottom-color: var(--fill-color);\n",
              "    }\n",
              "    90% {\n",
              "      border-color: transparent;\n",
              "      border-bottom-color: var(--fill-color);\n",
              "    }\n",
              "  }\n",
              "</style>\n",
              "\n",
              "  <script>\n",
              "    async function quickchart(key) {\n",
              "      const quickchartButtonEl =\n",
              "        document.querySelector('#' + key + ' button');\n",
              "      quickchartButtonEl.disabled = true;  // To prevent multiple clicks.\n",
              "      quickchartButtonEl.classList.add('colab-df-spinner');\n",
              "      try {\n",
              "        const charts = await google.colab.kernel.invokeFunction(\n",
              "            'suggestCharts', [key], {});\n",
              "      } catch (error) {\n",
              "        console.error('Error during call to suggestCharts:', error);\n",
              "      }\n",
              "      quickchartButtonEl.classList.remove('colab-df-spinner');\n",
              "      quickchartButtonEl.classList.add('colab-df-quickchart-complete');\n",
              "    }\n",
              "    (() => {\n",
              "      let quickchartButtonEl =\n",
              "        document.querySelector('#df-5468b9e0-1205-4574-9488-bbb70e0f2fca button');\n",
              "      quickchartButtonEl.style.display =\n",
              "        google.colab.kernel.accessAllowed ? 'block' : 'none';\n",
              "    })();\n",
              "  </script>\n",
              "</div>\n",
              "    </div>\n",
              "  </div>\n"
            ],
            "application/vnd.google.colaboratory.intrinsic+json": {
              "type": "dataframe",
              "variable_name": "df",
              "summary": "{\n  \"name\": \"df\",\n  \"rows\": 51627,\n  \"fields\": [\n    {\n      \"column\": \"type\",\n      \"properties\": {\n        \"dtype\": \"category\",\n        \"num_unique_values\": 1,\n        \"samples\": [\n          \"phdthesis\"\n        ],\n        \"semantic_type\": \"\",\n        \"description\": \"\"\n      }\n    },\n    {\n      \"column\": \"key\",\n      \"properties\": {\n        \"dtype\": \"string\",\n        \"num_unique_values\": 51627,\n        \"samples\": [\n          \"phd/hu/Laszlo17a\"\n        ],\n        \"semantic_type\": \"\",\n        \"description\": \"\"\n      }\n    },\n    {\n      \"column\": \"author\",\n      \"properties\": {\n        \"dtype\": \"string\",\n        \"num_unique_values\": 51570,\n        \"samples\": [\n          \"Stuart Lee\"\n        ],\n        \"semantic_type\": \"\",\n        \"description\": \"\"\n      }\n    },\n    {\n      \"column\": \"title\",\n      \"properties\": {\n        \"dtype\": \"string\",\n        \"num_unique_values\": 51425,\n        \"samples\": [\n          \"It's About Time: User-centered Evaluation of Visual Representations for Temporal Data.\"\n        ],\n        \"semantic_type\": \"\",\n        \"description\": \"\"\n      }\n    },\n    {\n      \"column\": \"year\",\n      \"properties\": {\n        \"dtype\": \"object\",\n        \"num_unique_values\": 10,\n        \"samples\": [\n          \"2023\"\n        ],\n        \"semantic_type\": \"\",\n        \"description\": \"\"\n      }\n    },\n    {\n      \"column\": \"school\",\n      \"properties\": {\n        \"dtype\": \"category\",\n        \"num_unique_values\": 1712,\n        \"samples\": [\n          \"University Mohamed Khider Biskra, Algeria\"\n        ],\n        \"semantic_type\": \"\",\n        \"description\": \"\"\n      }\n    }\n  ]\n}"
            }
          },
          "metadata": {}
        }
      ]
    },
    {
      "cell_type": "markdown",
      "source": [
        "### 3. Извлечение дополнительных данных"
      ],
      "metadata": {
        "id": "YzqUWMDL0DGv"
      }
    },
    {
      "cell_type": "markdown",
      "source": [
        "#### 3.1 Получение данных о стране"
      ],
      "metadata": {
        "id": "Y5EZSgOh0SuD"
      }
    },
    {
      "cell_type": "markdown",
      "source": [
        "В названии университета после запятой часто указана страна, данные о ней можно получить с помощью регулярного выражения. Далее можно проверить, является ли полученная строка страной с помощью"
      ],
      "metadata": {
        "id": "vzIh8s5ewYL2"
      }
    },
    {
      "cell_type": "code",
      "source": [
        "!pip install pycountry"
      ],
      "metadata": {
        "colab": {
          "base_uri": "https://localhost:8080/"
        },
        "id": "X3hzvNXwyIE_",
        "outputId": "231af58e-985b-4100-cf8b-c1d1237f35fd"
      },
      "execution_count": 102,
      "outputs": [
        {
          "output_type": "stream",
          "name": "stdout",
          "text": [
            "Collecting pycountry\n",
            "  Downloading pycountry-24.6.1-py3-none-any.whl (6.3 MB)\n",
            "\u001b[2K     \u001b[90m━━━━━━━━━━━━━━━━━━━━━━━━━━━━━━━━━━━━━━━━\u001b[0m \u001b[32m6.3/6.3 MB\u001b[0m \u001b[31m14.5 MB/s\u001b[0m eta \u001b[36m0:00:00\u001b[0m\n",
            "\u001b[?25hInstalling collected packages: pycountry\n",
            "Successfully installed pycountry-24.6.1\n"
          ]
        }
      ]
    },
    {
      "cell_type": "code",
      "source": [
        "!pip install universities"
      ],
      "metadata": {
        "colab": {
          "base_uri": "https://localhost:8080/"
        },
        "id": "pM6ShoFg5IJm",
        "outputId": "93553b5d-41a7-402f-a92d-fd8ab4b29c98"
      },
      "execution_count": 127,
      "outputs": [
        {
          "output_type": "stream",
          "name": "stdout",
          "text": [
            "Collecting universities\n",
            "  Downloading universities-1.1.0-py2.py3-none-any.whl (5.8 kB)\n",
            "Requirement already satisfied: requests in /usr/local/lib/python3.10/dist-packages (from universities) (2.31.0)\n",
            "Requirement already satisfied: charset-normalizer<4,>=2 in /usr/local/lib/python3.10/dist-packages (from requests->universities) (3.3.2)\n",
            "Requirement already satisfied: idna<4,>=2.5 in /usr/local/lib/python3.10/dist-packages (from requests->universities) (3.7)\n",
            "Requirement already satisfied: urllib3<3,>=1.21.1 in /usr/local/lib/python3.10/dist-packages (from requests->universities) (2.0.7)\n",
            "Requirement already satisfied: certifi>=2017.4.17 in /usr/local/lib/python3.10/dist-packages (from requests->universities) (2024.6.2)\n",
            "Installing collected packages: universities\n",
            "Successfully installed universities-1.1.0\n"
          ]
        }
      ]
    },
    {
      "cell_type": "code",
      "source": [
        "import universities\n",
        "\n",
        "uni = universities.API()\n",
        "uni.lucky(name = \"University of Burgundy - Franche-Comté\")"
      ],
      "metadata": {
        "id": "AAYeDL8Q5Ep2"
      },
      "execution_count": 134,
      "outputs": []
    },
    {
      "cell_type": "code",
      "source": [],
      "metadata": {
        "id": "Fr5_8Vy96XEc"
      },
      "execution_count": null,
      "outputs": []
    },
    {
      "cell_type": "code",
      "source": [
        "import re\n",
        "import pycountry\n",
        "from iso3166 import countries\n",
        "from tqdm.auto import tqdm\n",
        "tqdm.pandas()\n",
        "\n",
        "def parse_country(s: str):\n",
        "    matches = re.findall(r\"[^,]+$\", s)\n",
        "    if not matches:\n",
        "        return None\n",
        "    country = matches[-1].strip()\n",
        "    if country == \"UK\":\n",
        "        return \"GB\"\n",
        "    if country == \"Turkey\":\n",
        "        return \"TR\"\n",
        "    country = countries.get(country, \"Unknown\")\n",
        "    if country == \"Unknown\":\n",
        "        print(matches[-1].strip())\n",
        "        return country\n",
        "    return country.alpha2\n",
        "\n",
        "df[\"country\"] = df[\"school\"].progress_apply(parse_country)\n",
        "df[df[\"country\"] == \"Unknown\"][\"school\"]"
      ],
      "metadata": {
        "colab": {
          "base_uri": "https://localhost:8080/",
          "height": 1000,
          "referenced_widgets": [
            "7ec35fccabae4adbbacbaf68fe8c8ea7",
            "cf0e777c106c4001b45569b11cd2bbaf",
            "c7b98eba01ce4ed4812e25d1f599ed40",
            "75f384c28dc240dc811670e25253137e",
            "57bfd1e355e548779b6d6d248c4a0163",
            "b9f2e77330a347a3a313ab99eeca4b75",
            "1ee3242abce143fcb362a55988385f0f",
            "4444f671dfeb4b20829181b512a76d26",
            "cc14f2e2e51f443a9a89882f8432c1ff",
            "ae726f2d1b8e4bfb806574cf6770df63",
            "006e8b0525b34998808b18036d0ac87b"
          ]
        },
        "id": "niFHAQhldVDa",
        "outputId": "0c909a8b-3b54-4a3f-988c-60c447fa115b"
      },
      "execution_count": 126,
      "outputs": [
        {
          "output_type": "display_data",
          "data": {
            "text/plain": [
              "  0%|          | 0/51627 [00:00<?, ?it/s]"
            ],
            "application/vnd.jupyter.widget-view+json": {
              "version_major": 2,
              "version_minor": 0,
              "model_id": "7ec35fccabae4adbbacbaf68fe8c8ea7"
            }
          },
          "metadata": {}
        },
        {
          "output_type": "stream",
          "name": "stdout",
          "text": [
            "Universität Münster\n",
            "Open University\n",
            "Universität Münster\n",
            "Universität Münster\n",
            "Universität Oldenburg\n",
            "Universität Münster\n",
            "Universität Bielefeld\n",
            "Universität Münster\n",
            "Yale University\n",
            "Polytechnic University of Hauts-de-France\n",
            "University of Burgundy - Franche-Comté\n",
            "Marocco\n",
            "Tunis\n",
            "Paris\n",
            "Tunesia\n",
            "Polytechnic University of Hauts-de-France\n",
            "Polytechnic University of Hauts-de-France\n",
            "É\n",
            "Paris\n",
            "Marocco\n",
            "University of Burgundy - Franche-Comté\n",
            "University of Burgundy - Franche-Comté\n",
            "Iran\n",
            "University of Burgundy - Franche-Comté\n",
            "University of Burgundy - Franche-Comté\n",
            "University of Burgundy - Franche-Comté\n",
            "Claude Bernard University Lyon 1\n",
            "People's Republic of China\n",
            "Marocco\n",
            "École centrale de Lille\n",
            "University of Burgundy - Franche-Comté\n",
            "Dresden University of Technology\n",
            "People's Republic of China\n",
            "University of Burgundy - Franche-Comté\n",
            "Ivory Coast\n",
            "Algeria)\n",
            "Ecole nationale supérieure Mines-Télécom Atlantique\n",
            "University of Burgundy - Franche-Comté\n",
            "Ivory Coast\n",
            "Fance\n",
            "University of Burgundy - Franche-Comté\n",
            "Grenoble Alpes University\n",
            "West Africa\n",
            "University of Burgundy - Franche-Comté\n",
            "University of Burgundy - Franche-Comté\n",
            "Normandy University France\n",
            "University of Burgundy - Franche-Comté\n",
            "École centrale de Lille\n",
            "University of Burgundy - Franche-Comté\n",
            "École normale supérieure de Lyon\n",
            "Ffrance\n",
            "University of Burgundy - Franche-Comté\n",
            "École centrale de Marseille\n",
            "IMT Atlantique Bretagne Pays de la Loire\n",
            "Université Grenoble Alpes\n",
            "People's Republic of China\n",
            "University of Lille Nord de France\n",
            "University of Burgundy - Franche-Comté\n",
            "University of Burgundy - Franche-Comté\n",
            "University of Burgundy - Franche-Comté\n",
            "University of Burgundy - Franche-Comté\n",
            "Tunesia\n",
            "Sorbonne University\n",
            "Czech Republic\n",
            "Ivory Coast\n",
            "University of Burgundy - Franche-Comté\n",
            "University of Burgundy - Franche-Comté\n",
            "University of Burgundy - Franche-Comté\n",
            "University of Burgundy - Franche-Comté\n",
            "Tunesien\n",
            "Republic of Ireland\n",
            "University of Burgundy - Franche-Comté\n",
            "University of Burgundy - Franche-Comté\n",
            "Lille University of Science and Technology\n",
            "People's Republic of China\n",
            "University of Lille Nord de France\n",
            "People's Republic of China\n",
            "Ivory Coast\n",
            "People's Republic of China\n",
            "University of Burgundy - Franche-Comté\n",
            "Tunisia Polytechnic School\n",
            "Morroco\n",
            "People's Republic of China\n",
            "University of Burgundy - Franche-Comté\n",
            "University of Bordeaux\n",
            "Federal University of Toulouse Midi-Pyrénées\n",
            "University of Burgundy - Franche-Comté\n",
            "University of Burgundy - Franche-Comté\n",
            "University of Burgundy - Franche-Comté\n",
            "University of Burgundy - Franche-Comté\n",
            "Polytechnic University of Hauts-de-France\n",
            "Democratic Republic of the Congo\n",
            "Sorbonne University. France\n",
            "Marocco\n",
            "University of Burgundy - Franche-Comté\n",
            "Frnace\n",
            "University of Burgundy - Franche-Comté\n",
            "Democratic Republic of the Congo\n",
            "Paris\n",
            "University of Burgundy - Franche-Comté\n",
            "University of Burgundy - Franche-Comté\n",
            "Poitiers\n",
            "People's Republic of China\n",
            "Marocco\n",
            "Polytechnic University of Hauts-de-France\n",
            "University of Burgundy - Franche-Comté\n",
            "Ivory Coast\n",
            "France 2018\n",
            "Sorbonne University. France\n",
            "Alger\n",
            "University of Burgundy - Franche-Comté\n",
            "People's Republic of China\n",
            "University of Burgundy - Franche-Comté\n",
            "People's Republic of China\n",
            "University of Lille Nord de France\n",
            "Polytechnic University of Hauts-de-France\n",
            "Tunesia\n",
            "People's Republic of China\n",
            "Marocco\n",
            "University of Burgundy - Franche-Comté\n",
            "Ivory Coast\n",
            "Polytechnic University of Hauts-de-France\n",
            "IMT Atlantique\n",
            "Columbia\n",
            "Institut supérieur de l'aéronautique et de l'espace\n",
            "University of Burgundy - Franche-Comté\n",
            "University of Burgundy - Franche-Comté\n",
            "Institut Mines-Télécom\n",
            "Polytechnic University of Hauts-de-France\n",
            "Paris 13 University\n",
            "Paris\n",
            "People's Republic of China\n",
            "University of Burgundy - Franche-Comté\n",
            "University of Lille\n",
            "University of Burgundy - Franche-Comté\n",
            "University of Burgundy - Franche-Comté\n",
            "Chinese University of Hong Kong\n",
            "Braszil\n",
            "Chinese University of Hong Kong\n",
            "São Paulo State University\n",
            "University of London\n",
            "Technical University of Denmark\n",
            "Technical University of Denmark\n",
            "Technical University of Denmark\n",
            "Technical University of Denmark\n",
            "Technical University of Denmark\n",
            "Technical University of Denmark\n",
            "Technical University of Denmark\n",
            "Technical University of Denmark\n",
            "Technical University of Denmark\n",
            "Technical University of Denmark\n",
            "Technical University of Denmark\n",
            "Technical University of Denmark\n",
            "Technical University of Denmark\n",
            "Technical University of Denmark\n",
            "Technical University of Denmark\n",
            "Technical University of Denmark\n",
            "Technical University of Denmark\n",
            "Technical University of Denmark\n",
            "Technical University of Denmark\n",
            "Technical University of Denmark\n",
            "Technical University of Denmark\n",
            "Technical University of Denmark\n",
            "Technical University of Denmark\n",
            "Technical University of Denmark\n",
            "Technical University of Denmark\n",
            "Technical University of Denmark\n",
            "Technical University of Denmark\n",
            "Technical University of Denmark\n",
            "Technical University of Denmark\n",
            "Technical University of Denmark\n",
            "Technical University of Denmark\n",
            "Technical University of Denmark\n",
            "Technical University of Denmark\n",
            "Technical University of Denmark\n",
            "Technical University of Denmark\n",
            "Technical University of Denmark\n",
            "Technical University of Denmark\n",
            "Technical University of Denmark\n",
            "Technical University of Denmark\n",
            "Technical University of Denmark\n",
            "Technical University of Denmark\n",
            "Technical University of Denmark\n",
            "Technical University of Denmark\n",
            "Technical University of Denmark\n",
            "Technical University of Denmark\n",
            "Technical University of Denmark\n",
            "Technical University of Denmark\n",
            "Technical University of Denmark\n",
            "Technical University of Denmark\n",
            "Technical University of Denmark\n",
            "Technical University of Denmark\n",
            "Technical University of Denmark\n",
            "Technical University of Denmark\n",
            "Technical University of Denmark\n",
            "Technical University of Denmark\n",
            "Technical University of Denmark\n",
            "Technical University of Denmark\n",
            "Technical University of Denmark\n",
            "Technical University of Denmark\n",
            "Technical University of Denmark\n",
            "Technical University of Denmark\n",
            "Technical University of Denmark\n",
            "Technical University of Denmark\n",
            "Technical University of Denmark\n",
            "Technical University of Denmark\n",
            "Technical University of Denmark\n",
            "Technical University of Denmark\n",
            "Technical University of Denmark\n",
            "Technical University of Denmark\n",
            "Technical University of Denmark\n",
            "Technical University of Denmark\n",
            "Technical University of Denmark\n",
            "Technical University of Denmark\n",
            "Technical University of Denmark\n",
            "Technical University of Denmark\n",
            "Technical University of Denmark\n",
            "Technical University of Denmark\n",
            "Technical University of Denmark\n",
            "Technical University of Denmark\n",
            "Technical University of Denmark\n",
            "Technical University of Denmark\n",
            "Technical University of Denmark\n",
            "Technical University of Denmark\n",
            "Technical University of Denmark\n",
            "Technical University of Denmark\n",
            "Technical University of Denmark\n",
            "Technical University of Denmark\n",
            "Technical University of Denmark\n",
            "Technical University of Denmark\n",
            "Technical University of Denmark\n",
            "Technical University of Denmark\n",
            "Technical University of Denmark\n",
            "Technical University of Denmark\n",
            "Technical University of Denmark\n",
            "Technical University of Denmark\n",
            "Technical University of Denmark\n",
            "Technical University of Denmark\n",
            "Technical University of Denmark\n",
            "Technical University of Denmark\n",
            "Technical University of Denmark\n",
            "Technical University of Denmark\n",
            "Technical University of Denmark\n",
            "Technical University of Denmark\n",
            "Technical University of Denmark\n",
            "Technical University of Denmark\n",
            "Technical University of Denmark\n",
            "Technical University of Denmark\n",
            "Technical University of Denmark\n",
            "Technical University of Denmark\n",
            "Technical University of Denmark\n",
            "Technical University of Denmark\n",
            "Technical University of Denmark\n",
            "Technical University of Denmark\n",
            "Technical University of Denmark\n",
            "Technical University of Denmark\n",
            "Technical University of Denmark\n",
            "Technical University of Denmark\n",
            "Technical University of Denmark\n",
            "Technical University of Denmark\n",
            "Technical University of Denmark\n",
            "Technical University of Denmark\n",
            "Technical University of Denmark\n",
            "Technical University of Denmark\n",
            "Technical University of Denmark\n",
            "Technical University of Denmark\n",
            "Technical University of Denmark\n",
            "Technical University of Denmark\n",
            "Technical University of Denmark\n",
            "Technical University of Denmark\n",
            "Technical University of Denmark\n",
            "Technical University of Denmark\n",
            "Technical University of Denmark\n",
            "Technical University of Denmark\n",
            "Technical University of Denmark\n",
            "Technical University of Denmark\n",
            "Technical University of Denmark\n",
            "Technical University of Denmark\n",
            "Technical University of Denmark\n",
            "Technical University of Denmark\n",
            "Technical University of Denmark\n",
            "Technical University of Denmark\n",
            "Technical University of Denmark\n",
            "Technical University of Denmark\n",
            "ETH Zurich\n",
            "ETH Zurich\n",
            "ETH Zurich\n",
            "Ludwig Maximilians University Munich\n",
            "University of Ulm\n",
            "University of Bayreuth\n",
            "Dresden University of Technology\n",
            "Otto von Guericke University Magdeburg\n",
            "University of Kaiserslautern\n",
            "University of Hanover\n",
            "University of Kaiserslautern\n",
            "Saarland University\n",
            "University of Passau\n",
            "University of Kassel\n",
            "Technical University Munich\n",
            "Berlin Institute of Technology\n",
            "University of Augsburg\n",
            "Bielefeld University\n",
            "Technical University Munich\n",
            "Karlsruhe Institute of Technology\n",
            "University of Passau\n",
            "University of Göttingen\n",
            "University of Lübeck\n",
            "Bielefeld University\n",
            "University of Kaiserslautern\n",
            "Saarland University\n",
            "University of Koblenz-Landau\n",
            "Karlsruhe Institute of Technology\n",
            "Free University of Berlin\n",
            "Berlin Institute of Technology\n",
            "Karlsruhe Institute of Technology\n",
            "University of Hanover\n",
            "Dortmund University of Technology\n",
            "HafenCity University Hamburg\n",
            "Technical University Munich\n",
            "Karlsruhe Institute of Technology\n",
            "University of Duisburg-Essen\n",
            "Dresden University of Technology\n",
            "RWTH Aachen University\n",
            "Humboldt University of Berlin\n",
            "Technical University Munich\n",
            "Humboldt University of Berlin\n",
            "University of Bremen\n",
            "Technical University Munich\n",
            "Berlin Institute of Technology\n",
            "University of Kaiserslautern\n",
            "University of Ulm\n",
            "Ruhr University Bochum\n",
            "University of Cologne\n",
            "University of Kaiserslautern\n",
            "University of Stuttgart\n",
            "Humboldt University of Berlin\n",
            "Saarland University\n",
            "Technical University Munich\n",
            "Humboldt University of Berlin\n",
            "Humboldt University of Berlin\n",
            "Free University of Berlin\n",
            "Ludwig Maximilians University Munich\n",
            "University of Lübeck\n",
            "Technical University Munich\n",
            "University of Stuttgart\n",
            "FernUniversität in Hagen\n",
            "University of Bayreuth\n",
            "Rheinische Friedrich-Wilhelms-Universität\n",
            "University of Kassel\n",
            "University of Lübeck\n",
            "Technical University Munich\n",
            "Technical University Munich\n",
            "University of Cologne\n",
            "RWTH Aachen University\n",
            "University of Konstanz\n",
            "University of Augsburg\n",
            "University of Passau\n",
            "Technical University Munich\n",
            "Saarland University\n",
            "Humboldt University of Berlin\n",
            "Ludwig Maximilians University Munich\n",
            "University of Kaiserslautern\n",
            "Darmstadt University of Technology\n",
            "University of Siegen\n",
            "Hamburg\n",
            "Clausthal University of Technology\n",
            "University of Hamburg\n",
            "Saarland University\n",
            "Saarland University\n",
            "Technical University Munich\n",
            "Berlin Institute of Technology\n",
            "University of Stuttgart\n",
            "Free University of Berlin\n",
            "Hamburg University of Technology\n",
            "University of Ulm\n",
            "University of Bonn\n",
            "University of Hamburg\n",
            "Technical University Munich\n",
            "University of Siegen\n",
            "Dortmund University of Technology\n",
            "University of Koblenz-Landau\n",
            "Technical University Munich\n",
            "University of Bonn\n",
            "Tsinghua University Beijing\n",
            "University of Bonn\n",
            "University of Passau\n",
            "Goethe University Frankfurt am Main\n",
            "Saarland University\n",
            "Johann Wolfgang Goethe-Universitat\n",
            "University of Bonn\n",
            "Technical University Munich\n",
            "University of Ulm\n",
            "Karlsruhe Institute of Technology\n",
            "Bielefeld University\n",
            "University of Koblenz-Landau\n",
            "Dresden University of Technology\n",
            "University of Paderborn\n",
            "Darmstadt University of Technology\n",
            "University of Bayreuth\n",
            "Berlin Institute of Technology\n",
            "University of Hanover\n",
            "Saarland University\n",
            "University of Kassel\n",
            "Clausthal University of Technology\n",
            "University of Kaiserslautern\n",
            "Ludwig Maximilians University Munich\n",
            "University of Bremen\n",
            "Karlsruhe Institute of Technology\n",
            "University of Erlangen-Nuremberg\n",
            "Dresden University of Technology\n",
            "Saarland University\n",
            "Darmstadt University of Technology\n",
            "Technical University Munich\n",
            "University of Passau\n",
            "Humboldt University of Berlin\n",
            "RWTH Aachen University\n",
            "University of Duisburg-Essen\n",
            "Karlsruhe Institute of Technology\n",
            "Technical University Munich\n",
            "University of Bonn\n",
            "University of Ulm\n",
            "Free University of Berlin\n",
            "University of Bayreuth\n",
            "Karlsruhe Institute of Technology\n",
            "University of Stuttgart\n",
            "University of Siegen\n",
            "University of Paderborn\n",
            "Leuphana Universität Lüneburg\n",
            "FernUniversität in Hagen\n",
            "Saarland University\n",
            "University of Göttingen\n",
            "University of Paderborn\n",
            "Carl von Ossietzky University of Oldenburg\n",
            "Technical University Munich\n",
            "University of Stuttgart\n",
            "Berlin Institute of Technology\n",
            "Saarland University\n",
            "University of Cologne\n",
            "University of Stuttgart\n",
            "Saarland University\n",
            "Technical University Munich\n",
            "FernUniversität in Hagen\n",
            "University of Passau\n",
            "University of Kaiserslautern\n",
            "University of Duisburg-Essen\n",
            "Johann Wolfgang Goethe-Universität\n",
            "University of Göttingen\n",
            "Karlsruhe Institute of Technology\n",
            "University of Erlangen-Nuremberg\n",
            "People's Republic of China\n",
            "Heinrich Heine University Düsseldorf\n",
            "University of Hamburg\n",
            "Ludwig Maximilians University Munich\n",
            "Clausthal University of Technology\n",
            "University of Bonn\n",
            "Karlsruhe Institute of Technology\n",
            "Karlsruhe Institute of Technology\n",
            "University of Marburg\n",
            "Darmstadt University of Technology\n",
            "Otto von Guericke University Magdeburg\n",
            "Technical University Munich\n",
            "University of Bremen\n",
            "Humboldt University of Berlin\n",
            "University of Lübeck\n",
            "University of Siegen\n",
            "University of Kaiserslautern\n",
            "University of Ulm\n",
            "Dresden University of Technology\n",
            "University of Marburg\n",
            "Saarland University\n",
            "Technical University Munich\n",
            "University of Stuttgart\n",
            "University of Erlangen-Nuremberg\n",
            "University of Stuttgart\n",
            "University of Kiel\n",
            "Karlsruhe Institute of Technology\n",
            "University of Stuttgart\n",
            "University of Göttingen\n",
            "Technical University Munich\n",
            "University of Bonn\n",
            "University of Göttingen\n",
            "University of Stuttgart\n",
            "University of Hanover\n",
            "University of Duisburg-Essen\n",
            "Berlin Institute of Technology\n",
            "University of Kaiserslautern\n",
            "University of Göttingen\n",
            "Karlsruhe Institute of Technology\n",
            "University of Stuttgart\n",
            "University of Erlangen-Nuremberg\n",
            "University of Hohenheim\n",
            "University of Bremen\n",
            "University of Hanover\n",
            "Halle (Saale)\n",
            "Goethe University Frankfurt am Main\n",
            "Free University of Berlin\n",
            "Karlsruhe Institute of Technology\n",
            "Goethe University Frankfurt am Main\n",
            "University of Passau\n",
            "Technical University Munich\n",
            "University of Hamburg\n",
            "Saarland University\n",
            "Saarland University\n",
            "University of Hamburg\n",
            "RWTH Aachen University\n",
            "University of Erlangen-Nuremberg\n",
            "Heinrich Heine University Düsseldorf\n",
            "University of Lübeck\n",
            "Free University of Berlin\n",
            "University of Regensburg\n",
            "University of Kiel\n",
            "University of Mannheim\n",
            "University of Hamburg\n",
            "Humboldt University of Berlin\n",
            "University of Cologne\n",
            "Saarland University\n",
            "University of Kassel\n",
            "Otto von Guericke University Magdeburg\n",
            "University of Kaiserslautern\n",
            "University of Hanover\n",
            "University of Stuttgart\n",
            "University of Stuttgart\n",
            "Technical University Munich\n",
            "University of Ulm\n",
            "University of Hamburg\n",
            "University of Hamburg\n",
            "Goethe University Frankfurt am Main\n",
            "Karlsruhe Institute of Technology\n",
            "University of Bamberg\n",
            "University of Stuttgart\n",
            "Braunschweig University of Technology\n",
            "University of Marburg\n",
            "Karlsruhe Institute of Technology\n",
            "Heinrich Heine University Düsseldorf\n",
            "University of Hamburg\n",
            "RWTH Aachen University\n",
            "Dresden University of Technology\n",
            "Johann Wolfgang Goethe-Universitat\n",
            "Karlsruhe Institute of Technology\n",
            "Julius Maximilian University of Würzburg\n",
            "University of Konstanz\n",
            "University of Ulm\n",
            "University of Lübeck\n",
            "University of Hanover\n",
            "Frankfurt am Main\n",
            "Technical University Munich\n",
            "Saarland University\n",
            "University of Lübeck\n",
            "RWTH Aachen University\n",
            "Saarland University\n",
            "Otto von Guericke University Magdeburg\n",
            "University of Bonn\n",
            "Republic of Ireland\n",
            "Otto von Guericke University Magdeburg\n",
            "University of Stuttgart\n",
            "Ruhr University Bochum\n",
            "University of Bayreuth\n",
            "Heinrich Heine University Düsseldorf\n",
            "Karlsruhe Institute of Technology\n",
            "University of Passau\n",
            "University of Erlangen-Nuremberg\n",
            "Saarland University\n",
            "Heinrich Heine University Düsseldorf\n",
            "University of Kiel\n",
            "University of Bremen\n",
            "University of Bamberg\n",
            "FernUniversität in Hagen\n",
            "Saarland University\n",
            "University of Paderborn\n",
            "University of Kassel\n",
            "Saarland University\n",
            "Ruhr University Bochum\n",
            "Karlsruhe Institute of Technology\n",
            "Otto von Guericke University Magdeburg\n",
            "Univ.\n",
            "University of Bonn\n",
            "University of Kaiserslautern\n",
            "Dresden University of Technology\n",
            "University of Cologne\n",
            "Bielefeld University\n",
            "University of Siegen\n",
            "Saarland University\n",
            "Dresden University of Technology\n",
            "University of Kaiserslautern\n",
            "Darmstadt University of Technology\n",
            "University of Konstanz\n",
            "University of Erlangen-Nuremberg\n",
            "Techn. Univ.\n",
            "Technical University Munich\n",
            "Saarland University\n",
            "University of Erlangen-Nuremberg\n",
            "Dresden University of Technology\n",
            "University of Ulm\n",
            "University of Marburg\n",
            "University of Paderborn\n",
            "University of Hamburg\n",
            "University of Kaiserslautern\n",
            "University of Kiel\n",
            "FernUniversität in Hagen\n",
            "University of Paderborn\n",
            "University of Kaiserslautern\n",
            "University of Siegen\n",
            "University of Hamburg\n",
            "Saarland University\n",
            "Dresden University of Technology\n",
            "Johannes Gutenberg University Mainz\n",
            "Saarland University\n",
            "Free University of Berlin\n",
            "University of Bamberg\n",
            "University of Stuttgart\n",
            "University of Bonn\n",
            "Dresden University of Technology\n",
            "Heidelberg University\n",
            "University of Bamberg\n",
            "Berlin Institute of Technology\n",
            "University of Erlangen-Nuremberg\n",
            "University of Hamburg\n",
            "University of Paderborn\n",
            "University of Paderborn\n",
            "University of Siegen\n",
            "University of Mannheim\n",
            "Saarland University\n",
            "Karlsruhe Institute of Technology\n",
            "Heidelberg University\n",
            "Karlsruhe Institute of Technology\n",
            "Heinrich Heine University Düsseldorf\n",
            "Saarland University\n",
            "Carl von Ossietzky University of Oldenburg\n",
            "Saarland University\n",
            "University of Hanover\n",
            "University of Göttingen\n",
            "Karlsruhe Institute of Technology\n",
            "University of Bonn\n",
            "Technical University Munich\n",
            "Free University of Berlin\n",
            "Technical University Munich\n",
            "University of Kaiserslautern\n",
            "University of Lübeck\n",
            "Technical University Munich\n",
            "RWTH Aachen University\n",
            "Braunschweig University of Technology\n",
            "North Cyprus\n",
            "University of Kaiserslautern\n",
            "Berlin\n",
            "University of Augsburg\n",
            "Technical University Munich\n",
            "University of Hanover\n",
            "University of Paderborn\n",
            "University of Erlangen-Nuremberg\n",
            "Karlsruhe Institute of Technology\n",
            "University of Mannheim\n",
            "Technical University Munich\n",
            "Saarland University\n",
            "University of Koblenz-Landau\n",
            "Berlin Institute of Technology\n",
            "Dresden University of Technology\n",
            "Saarland University\n",
            "Free University of Berlin\n",
            "Humboldt University of Berlin\n",
            "Karlsruhe Institute of Technology\n",
            "University of Augsburg\n",
            "Saarland University\n",
            "University of Kiel\n",
            "Technical University Munich\n",
            "FernUniversität in Hagen\n",
            "University of Bayreuth\n",
            "Technical University Munich\n",
            "Technical University Munich\n",
            "Ludwig Maximilians University Munich\n",
            "Karlsruhe Institute of Technology\n",
            "University of Hanover\n",
            "Berlin Institute of Technology\n",
            "Leuphana University of Lüneburg\n",
            "University of Passau\n",
            "Hamburg University of Technology\n",
            "University of Duisburg-Essen\n",
            "Berlin Institute of Technology\n",
            "Karlsruhe Institute of Technology\n",
            "University of Osnabrück\n",
            "University of Augsburg\n",
            "Dortmund University of Technology\n",
            "Technical University Munich\n",
            "Technical University Munich\n",
            "Friedrich Schiller University of Jena\n",
            "Ruhr University Bochum\n",
            "Technical University Munich\n",
            "Technical University Munich\n",
            "Karlsruhe Institute of Technology\n",
            "Saarland University\n",
            "Dresden University of Technology\n",
            "Berlin Institute of Technology\n",
            "University of Braunschweig - Institute of Technology\n",
            "Technical University Munich\n",
            "University of Stuttgart\n",
            "Karlsruhe Institute of Technology\n",
            "Karlsruhe Institute of Technology\n",
            "University of Lübeck\n",
            "University of Bayreuth\n",
            "University of Kiel\n",
            "University of Bonn\n",
            "University of Paderborn\n",
            "Karlsruhe Institute of Technology\n",
            "University of Göttingen\n",
            "Frankfurt\n",
            "Darmstadt University of Technology\n",
            "Hamburg University of Technology\n",
            "Clausthal University of Technology\n",
            "University of Hamburg\n",
            "FernUniversität in Hagen\n",
            "Free University of Berlin\n",
            "University of Hamburg\n",
            "Saarland University\n",
            "University of Ulm\n",
            "University of Lübeck\n",
            "Karlsruhe Institute of Technology\n",
            "Saarland University\n",
            "Humboldt University of Berlin\n",
            "Technical University Munich\n",
            "FernUniversität in Hagen\n",
            "University of Stuttgart\n",
            "Technical University Munich\n",
            "University of Potsdam\n",
            "Ludwig Maximilians University Munich\n",
            "Free University of Berlin\n",
            "University of Kaiserslautern\n",
            "Heinrich Heine University Düsseldorf\n",
            "Otto von Guericke University Magdeburg\n",
            "University of Lübeck\n",
            "Dresden University of Technology\n",
            "University of Bonn\n",
            "University of Augsburg\n",
            "University of Passau\n",
            "University of Bonn\n",
            "Rheinische Friedrich-Wilhelms-Universität\n",
            "University of Augsburg\n",
            "Dresden University of Technology\n",
            "Karlsruhe Institute of Technology\n",
            "Johannes Gutenberg University Mainz\n",
            "Goethe University Frankfurt am Main\n",
            "RWTH Aachen University\n",
            "University of Kaiserslautern\n",
            "University of Kaiserslautern\n",
            "Bielefeld University\n",
            "University of Augsburg\n",
            "Berlin Institute of Technology\n",
            "Karlsruhe Institute of Technology\n",
            "University of Mannheim\n",
            "University of Siegen\n",
            "University of Stuttgart\n",
            "Karlsruhe Institute of Technology\n",
            "Dresden University of Technology\n",
            "Saarland University\n",
            "Karlsruhe Institute of Technology\n",
            "Karlsruhe Institute of Technology\n",
            "Free University of Berlin\n",
            "Berlin Institute of Technology\n",
            "University of Göttingen\n",
            "Technical University Munich\n",
            "Otto von Guericke University Magdeburg\n",
            "Technical University Munich\n",
            "Dresden University of Technology\n",
            "University of Paderborn\n",
            "Saarland University\n",
            "Ludwig Maximilians University Munich\n",
            "University of Stuttgart\n",
            "University of Zurich\n",
            "Berlin Institute of Technology\n",
            "FernUniversität in Hagen\n",
            "University of Bonn\n",
            "University of Duisburg-Essen\n",
            "University of Bremen\n",
            "University of Ulm\n",
            "Technical University Munich\n",
            "RWTH Aachen University\n",
            "Saarland University\n",
            "University of Ulm\n",
            "University of Marburg\n",
            "University of Kaiserslautern\n",
            "University of Ulm\n",
            "University of Lübeck\n",
            "Hamburg University of Technology\n",
            "University of Ulm\n",
            "University of Kiel\n",
            "University of Paderborn\n",
            "Humboldt University of Berlin\n",
            "University of Siegen\n",
            "Technical University Munich\n",
            "University of Kaiserslautern\n",
            "Saarland University\n",
            "University of Ulm\n",
            "Humboldt University of Berlin\n",
            "University of Paderborn\n",
            "University of Stuttgart\n",
            "Technical University Munich\n",
            "Saarland University\n",
            "Dresden University of Technology\n",
            "Free University of Berlin\n",
            "Saarland University\n",
            "University of Paderborn\n",
            "Saarland University\n",
            "University of Göttingen\n",
            "University of Stuttgart\n",
            "Dresden University of Technology\n",
            "University of Augsburg\n",
            "RWTH Aachen University\n",
            "University of Siegen\n",
            "University of Stuttgart\n",
            "University of Cologne\n",
            "University of Kaiserslautern\n",
            "University of Wuppertal\n",
            "University of Cologne\n",
            "University of Bamberg\n",
            "Chemnitz University of Technology\n",
            "Carl von Ossietzky University of Oldenburg\n",
            "ESCP Europe Wirtschaftshochschule Berlin\n",
            "Berlin Institute of Technology\n",
            "University of Hamburg\n",
            "RWTH Aachen University\n",
            "University of Hamburg\n",
            "Hamburg University of Technology\n",
            "Dresden University of Technology\n",
            "Dresden University of Technology\n",
            "Technical University Munich\n",
            "Ludwig Maximilians University Munich\n",
            "Karlsruhe Institute of Technology\n",
            "University of Stuttgart\n",
            "University of Göttingen\n",
            "Saarland University\n",
            "University of Kaiserslautern\n",
            "University of Wuppertal\n",
            "University of Bremen\n",
            "Saarland University\n",
            "University of Kassel\n",
            "University of Kiel\n",
            "University of Osnabrück\n",
            "University of Duisburg-Essen\n",
            "University of Erlangen-Nuremberg\n",
            "University of Marburg\n",
            "University of Mannheim\n",
            "Dresden University of Technology\n",
            "Saarland University\n",
            "Ludwig Maximilians University Munich\n",
            "Technical University Munich\n",
            "University of Cologne\n",
            "Bundeswehr University Munich\n",
            "Karlsruhe Institute of Technology\n",
            "University of Stuttgart\n",
            "Technical University Munich\n",
            "Karlsruhe Institute of Technology\n",
            "University of Paderborn\n",
            "Saarland University\n",
            "Karlsruhe Institute of Technology\n",
            "University of Kaiserslautern\n",
            "University of Stuttgart\n",
            "Technical University Munich\n",
            "University of Stuttgart\n",
            "Carl von Ossietzky University of Oldenburg\n",
            "Saarland University\n",
            "Karlsruhe Institute of Technology\n",
            "Technical University Munich\n",
            "University of Erlangen-Nuremberg\n",
            "Karlsruhe Institute of Technology\n",
            "University of Ulm\n",
            "Carl von Ossietzky University of Oldenburg\n",
            "Berlin Institute of Technology\n",
            "University of Hamburg\n",
            "Free University of Berlin\n",
            "Karlsruhe Institute of Technology\n",
            "Karlsruhe Institute of Technology\n",
            "University of Hamburg\n",
            "University of Hamburg\n",
            "University of Potsdam\n",
            "University of Stuttgart\n",
            "Darmstadt University of Technology\n",
            "Technical University Munich\n",
            "University of Paderborn\n",
            "University of Ulm\n",
            "Karlsruhe Institute of Technology\n",
            "University of Bonn\n",
            "Free University of Berlin\n",
            "Johannes Gutenberg University Mainz\n",
            "Saarland University\n",
            "Karlsruhe Institute of Technology\n",
            "Saarland University\n",
            "University of Erlangen-Nuremberg\n",
            "University of Kaiserslautern\n",
            "University of Kassel\n",
            "University of Bayreuth\n",
            "FernUniversität in Hagen\n",
            "Karlsruhe Institute of Technology\n",
            "Ruhr University Bochum\n",
            "University of Lübeck\n",
            "University of Kaiserslautern\n",
            "University of Göttingen\n",
            "University of Lübeck\n",
            "Göttingen\n",
            "University of Ulm\n",
            "Otto von Guericke University Magdeburg\n",
            "University of Paderborn\n",
            "University of Kaiserslautern\n",
            "University of Marburg\n",
            "Dresden University of Technology\n",
            "Johannes Gutenberg University Mainz\n",
            "University of Regensburg\n",
            "University of Hamburg\n",
            "University of Lübeck\n",
            "University of Kaiserslautern\n",
            "University of Lübeck\n",
            "Karlsruhe Institute of Technology\n",
            "Humboldt University of Berlin\n",
            "Technical University Munich\n",
            "FernUniversität in Hagen\n",
            "Humboldt University of Berlin\n",
            "Technical University Munich\n",
            "Free University of Berlin\n",
            "Technical University Munich\n",
            "Saarland University\n",
            "Humboldt University of Berlin\n",
            "Technical University Munich\n",
            "University of Duisburg-Essen\n",
            "Dortmund University of Technology\n",
            "Berlin Institute of Technology\n",
            "Saarland University\n",
            "University of Hanover\n",
            "University of Paderborn\n",
            "Technical University Munich\n",
            "University of Bonn\n",
            "Technical University Munich\n",
            "University of Paderborn\n",
            "Technical University Munich\n",
            "Karlsruhe Institute of Technology\n",
            "Frankfurt School of Finance & Management\n",
            "Karlsruhe Institute of Technology\n",
            "University of Bonn\n",
            "Technical University Munich\n",
            "University of Erlangen-Nuremberg\n",
            "University of Lübeck\n",
            "Karlsruhe Institute of Technology\n",
            "Karlsruhe Institute of Technology\n",
            "Saarland University\n",
            "Technical University Munich\n",
            "Dresden University of Technology\n",
            "Bielefeld University\n",
            "Technical University Munich\n",
            "Berlin Institute of Technology\n",
            "University of Stuttgart\n",
            "Ludwig Maximilians University Munich\n",
            "Saarland University\n",
            "University of Erlangen-Nuremberg\n",
            "Karlsruhe Institute of Technology\n",
            "Bundeswehr University Munich\n",
            "Otto von Guericke University Magdeburg\n",
            "University of Hamburg\n",
            "Karlsruhe Institute of Technology\n",
            "University of Cologne\n",
            "RWTH Aachen University\n",
            "University of Bonn\n",
            "Karlsruhe Institute of Technology\n",
            "University of Ulm\n",
            "University of Kassel\n",
            "Darmstadt University of Technology\n",
            "Karlsruhe Institute of Technology\n",
            "Berlin Institute of Technology\n",
            "FernUniversität in Hagen\n",
            "Saarland University\n",
            "University of Kaiserslautern\n",
            "University of Hanover\n",
            "Otto von Guericke University Magdeburg\n",
            "University of Paderborn\n",
            "Ludwig Maximilians University Munich\n",
            "Cyprus Internat. Univ.\n",
            "Johannes Gutenberg University Mainz\n",
            "Technical University Munich\n",
            "Technical University Munich\n",
            "Karlsruhe Institute of Technology\n",
            "Humboldt University of Berlin\n",
            "University of Augsburg\n",
            "University of Stuttgart\n",
            "University of Bonn\n",
            "University of Bremen\n",
            "Johannes Gutenberg University Mainz\n",
            "Saarland University\n",
            "Saarland University\n",
            "Dresden University of Technology\n",
            "University of Passau\n",
            "University of Kiel\n",
            "Saarland University\n",
            "Carl von Ossietzky University of Oldenburg\n",
            "Humboldt University of Berlin\n",
            "Bonn\n",
            "University of Kiel\n",
            "University of Stuttgart\n",
            "Technical University Munich\n",
            "University of Marburg\n",
            "University of Bonn\n",
            "University of Kaiserslautern\n",
            "Dresden University of Technology\n",
            "University of Augsburg\n",
            "Otto von Guericke University Magdeburg\n",
            "Ludwig Maximilians University Munich\n",
            "Karlsruhe Institute of Technology\n",
            "Bundeswehr University Munich\n",
            "University of Kaiserslautern\n",
            "Hamburg University of Technology\n",
            "Technical University Munich\n",
            "Braunschweig University of Technology\n",
            "RWTH Aachen University\n",
            "University of Augsburg\n",
            "Hamburg University of Technology\n",
            "Julius Maximilian University of Würzburg\n",
            "Saarland University\n",
            "University of Stuttgart\n",
            "Technical University Munich\n",
            "University of Kaiserslautern\n",
            "University of Göttingen\n",
            "Dresden University of Technology\n",
            "University of Duisburg-Essen\n",
            "University of Stuttgart\n",
            "Julius Maximilian University of Würzburg\n",
            "University of Bremen\n",
            "Dresden University of Technology\n",
            "University of Stuttgart\n",
            "University of Bremen\n",
            "Technical University Munich\n",
            "University of Rostock\n",
            "University of Bremen\n",
            "Technical University of Munich\n",
            "Karlsruhe Institute of Technology\n",
            "University of Siegen\n",
            "University of Bamberg\n",
            "University of Paderborn\n",
            "Eberhard Karls University of Tübingen\n",
            "University of Bremen\n",
            "University of Kiel\n",
            "RWTH Aachen University\n",
            "University of Göttingen\n",
            "Technical University Munich\n",
            "University of Bremen\n",
            "Humboldt University of Berlin\n",
            "Clausthal University of Technology\n",
            "Karlsruhe Institute of Technology\n",
            "Dresden University of Technology\n",
            "University of Bonn\n",
            "Karlsruhe Institute of Technology\n",
            "Dresden University of Technology\n",
            "University of Bremen\n",
            "University of Erlangen-Nuremberg\n",
            "University of Hanover\n",
            "University of Münster\n",
            "Ruhr University Bochum\n",
            "Ludwig Maximilians University Munich\n",
            "University of Bremen\n",
            "Ruhr University Bochum\n",
            "Jacobs University\n",
            "University of Marburg\n",
            "Technical University Munich\n",
            "University of Bremen\n",
            "Technical University Munich\n",
            "University of Ulm\n",
            "Saarland University\n",
            "Heinrich Heine University Düsseldorf\n",
            "University of Erlangen-Nuremberg\n",
            "University of Erlangen-Nuremberg\n",
            "University of Kassel\n",
            "University of Stuttgart\n",
            "Technical University Munich\n",
            "Technical University Munich\n",
            "University of Stuttgart\n",
            "University of Stuttgart\n",
            "Technical University Munich\n",
            "Karlsruhe Institute of Technology\n",
            "University of Bamberg\n",
            "Humboldt University of Berlin\n",
            "Karlsruhe Institute of Technology\n",
            "University of Kaiserslautern\n",
            "Humboldt University of Berlin\n",
            "RWTH Aachen University\n",
            "University of Kaiserslautern\n",
            "Friedrich Schiller University of Jena\n",
            "University of Bremen\n",
            "University of Erlangen-Nuremberg\n",
            "University of Ulm\n",
            "University of Koblenz-Landau\n",
            "Karlsruhe Institute of Technology\n",
            "University of Stuttgart\n",
            "Friedrich Schiller University of Jena\n",
            "University of Augsburg\n",
            "University of Kiel\n",
            "University of Bamberg\n",
            "University of Stuttgart\n",
            "Hamburg University of Technology\n",
            "University of Stuttgart\n",
            "Karlsruhe Institute of Technology\n",
            "Karlsruhe Institute of Technology\n",
            "Ruhr University Bochum\n",
            "Bielefeld University\n",
            "University of Bremen\n",
            "University of Bremen\n",
            "Technical University Munich\n",
            "Otto von Guericke University Magdeburg\n",
            "Berlin Institute of Technology\n",
            "Dresden University of Technology\n",
            "Technical University Munich\n",
            "University of Stuttgart\n",
            "Ludwig Maximilians University Munich\n",
            "University of Paderborn\n",
            "Karlsruhe Institute of Technology\n",
            "University of Potsdam\n",
            "Friedrich Schiller University of Jena\n",
            "Ruhr University Bochum\n",
            "University of Hamburg\n",
            "Technical University Munich\n",
            "Technical University Munich\n",
            "University of Osnabrück\n",
            "Goethe University Frankfurt am Main\n",
            "Dresden University of Technology\n",
            "University of Augsburg\n",
            "Karlsruhe Institute of Technology\n",
            "Dresden University of Technology\n",
            "Ruhr University Bochum\n",
            "Ruhr University Bochum\n",
            "Free University of Berlin\n",
            "Bielefeld University\n",
            "Saarland University\n",
            "Ludwig Maximilians University Munich\n",
            "Carl von Ossietzky University of Oldenburg\n",
            "Goethe University Frankfurt am Main\n",
            "Dresden University of Technology\n",
            "Ruhr University Bochum\n",
            "Ruhr University Bochum\n",
            "University of Paderborn\n",
            "University of Potsdam\n",
            "Saarland University\n",
            "University of Regensburg\n",
            "University of Duisburg-Essen\n",
            "RWTH Aachen University\n",
            "University of Ulm\n",
            "Darmstadt University of Technology\n",
            "Julius Maximilian University of Würzburg\n",
            "Darmstadt University of Technology\n",
            "Goethe University Frankfurt am Main\n",
            "University of Erlangen-Nuremberg\n",
            "Karlsruhe Institute of Technology\n",
            "Karlsruhe Institute of Technology\n",
            "University of Bonn\n",
            "Humboldt University of Berlin\n",
            "Goethe University Frankfurt am Main\n",
            "Bielefeld University\n",
            "Eberhard Karls University of Tübingen\n",
            "University of Stuttgart\n",
            "University of Ulm\n",
            "Karlsruhe Institute of Technology\n",
            "University of Stuttgart\n",
            "Free University of Berlin\n",
            "University of Braunschweig - Institute of Technology\n",
            "University of Kaiserslautern\n",
            "University of Erlangen-Nuremberg\n",
            "University of Education of Ludwigsburg\n",
            "University of Erlangen-Nuremberg\n",
            "Technical University Munich\n",
            "University of Duisburg-Essen\n",
            "Heinrich Heine University Düsseldorf\n",
            "University of Hanover\n",
            "Darmstadt University of Technology\n",
            "Eberhard Karls University of Tübingen\n",
            "Karlsruhe Institute of Technology\n",
            "University of Leipzig\n",
            "University of Stuttgart\n",
            "Goethe University Frankfurt am Main\n",
            "Karlsruhe Institute of Technology\n",
            "Humboldt University of Berlin\n",
            "Technical University Munich\n",
            "Ludwig Maximilians University Munich\n",
            "Karlsruhe Institute of Technology\n",
            "Heinrich Heine University Düsseldorf\n",
            "University of Kaiserslautern\n",
            "Darmstadt University of Technology\n",
            "University of Kaiserslautern\n",
            "Bundeswehr University Munich\n",
            "University of Paderborn\n",
            "University of Augsburg\n",
            "Bielefeld University\n",
            "Ruhr University Bochum\n",
            "University of Bamberg\n",
            "Justus Liebig University Giessen\n",
            "Karlsruhe Institute of Technology\n",
            "Heinrich Heine University Düsseldorf\n",
            "University of Stuttgart\n",
            "Technical University Munich\n",
            "University of Göttingen\n",
            "Saarland University\n",
            "Free University of Berlin\n",
            "University of Augsburg\n",
            "University of Kaiserslautern\n",
            "University of Erlangen-Nuremberg\n",
            "Dresden University of Technology\n",
            "Bielefeld University\n",
            "Humboldt University of Berlin\n",
            "Julius Maximilian University of Würzburg\n",
            "University of Augsburg\n",
            "Eberhard Karls University of Tübingen\n",
            "University of Siegen\n",
            "Dresden University of Technology\n",
            "University of Kaiserslautern\n",
            "University of Paderborn\n",
            "Dresden University of Technology\n",
            "University of Erlangen-Nuremberg\n",
            "University of Kiel\n",
            "Ruhr University Bochum\n",
            "University of Kaiserslautern\n",
            "RWTH Aachen University\n",
            "University of Erlangen-Nuremberg\n",
            "Carl von Ossietzky University of Oldenburg\n",
            "FernUniversität in Hagen\n",
            "Technical University Munich\n",
            "Saarland University\n",
            "University of Potsdam\n",
            "Technical University Munich\n",
            "Ruhr University Bochum\n",
            "Dresden University of Technology\n",
            "University of Kaiserslautern\n",
            "Technical University Munich\n",
            "University of Hamburg\n",
            "RWTH Aachen University\n",
            "Bielefeld University\n",
            "Saarland University\n",
            "University of Kaiserslautern\n",
            "Saarland University\n",
            "Darmstadt University of Technology\n",
            "Technical University Munich\n",
            "Universidade Nova de Lisboa\n",
            "null\n",
            "University of Vienna\n",
            "Tohoku University\n",
            "Japan (University of Tsukuba)\n",
            "University of Groningen\n",
            "null\n",
            "null\n",
            "null\n",
            "null\n",
            "null\n",
            "Greece(\n",
            "University of Luxembourg\n",
            "University of Luxembourg\n",
            "University of Luxembourg\n",
            "Czech Republic\n",
            "Republic of Ireland\n",
            "Republic of Ireland\n",
            "Czech Republic\n",
            "Czech Republic\n",
            "Czech Republic\n",
            "Czech Republic\n",
            "University of Luxembourg\n",
            "Czech Republic\n",
            "Czech Republic\n",
            "Republic of Ireland\n",
            "Republic of Ireland\n",
            "University of Luxembourg\n",
            "Czech Republic\n",
            "Czech Republic\n",
            "Czech Republic\n",
            "Republic of Ireland\n",
            "University of Luxembourg\n",
            "Czech Republic\n",
            "University of Luxembourg\n",
            "Czech Republic\n",
            "University of Luxembourg\n",
            "University of Hong Kong\n",
            "Republic of Ireland\n",
            "Czech Republic\n",
            "University of Hong Kong\n",
            "Czech Republic\n",
            "University of Hong Kong\n",
            "University of Luxembourg\n",
            "University of Luxembourg\n",
            "Republic of Ireland\n",
            "The Netherlands\n",
            "University of Luxembourg\n",
            "Czech Republic\n",
            "Czech Republic\n",
            "Czech Republic\n",
            "Czech Republic\n",
            "Czech Republic\n",
            "Republic of Ireland\n",
            "University of Hong Kong\n",
            "Czech Republic\n",
            "University of Hong Kong\n",
            "University of Luxembourg\n",
            "Czech Republic\n",
            "Republic of Ireland\n",
            "Czech Republic\n",
            "University of Hong Kong\n",
            "University of Luxembourg\n",
            "University of Luxembourg\n",
            "Czech Republic\n",
            "University of Hong Kong\n",
            "Republic of Ireland\n",
            "Czech Republic\n",
            "University of Luxembourg\n",
            "Czech Republic\n",
            "Republic of Ireland\n",
            "University of Hong Kong\n",
            "University of Hong Kong\n",
            "Czech Republic\n",
            "University of Hong Kong\n",
            "University of Luxembourg\n",
            "Czech Republic\n",
            "Republic of Ireland\n",
            "University of Luxembourg\n",
            "University of Luxembourg\n",
            "Czech Republic\n",
            "Czech Republic\n",
            "Republic of Ireland\n",
            "Czech Republic\n",
            "Czech Republic\n",
            "University of Luxembourg\n",
            "University of Luxembourg\n",
            "University of Hong Kong\n",
            "Czech Republic\n",
            "Czech Republic\n",
            "University of Luxembourg\n",
            "Czech Republic\n",
            "Czech Republic\n",
            "Czech Republic\n",
            "Czech Republic\n",
            "University of Luxembourg\n",
            "Republic of Ireland\n",
            "University of Hong Kong\n",
            "University of Luxembourg\n",
            "Czech Republic\n",
            "Republic of Ireland\n",
            "Czech Republic\n",
            "University of Luxembourg\n",
            "University of Luxembourg\n",
            "University of Hong Kong\n",
            "Czech Republic\n",
            "Republic of Ireland\n",
            "University of Luxembourg\n",
            "Czech Republic\n",
            "Czech Republic\n",
            "University of Hong Kong\n",
            "Czech Republic\n",
            "University of Hong Kong\n",
            "University of Hong Kong\n",
            "Republic of Ireland\n",
            "University of Hong Kong\n",
            "Republic of Ireland\n",
            "Czech Republic\n",
            "Republic of Ireland\n",
            "University of Luxembourg\n",
            "Czech Republic\n",
            "Republic of Ireland\n",
            "Czech Republic\n",
            "Czech Republic\n",
            "Czech Republic\n",
            "University of Hong Kong\n",
            "University of Luxembourg\n",
            "Czech Republic\n",
            "Republic of Ireland\n",
            "Czech Republic\n",
            "University of Luxembourg\n",
            "Czech Republic\n",
            "University of Hong Kong\n",
            "University of Hong Kong\n",
            "University of Hong Kong\n",
            "University of Luxembourg\n",
            "Czech Republic\n",
            "Czech Republic\n",
            "University of Luxembourg\n",
            "Czech Republic\n",
            "University of Hong Kong\n",
            "University of Hong Kong\n",
            "Republic of Ireland\n",
            "Czech Republic\n",
            "University of Luxembourg\n",
            "University of Luxembourg\n",
            "University of Luxembourg\n",
            "Republic of Ireland\n",
            "University of Hong Kong\n",
            "University of Luxembourg\n",
            "Czech Republic\n",
            "University of Luxembourg\n",
            "Czech Republic\n",
            "University of Luxembourg\n",
            "University of Luxembourg\n",
            "University of Hong Kong\n",
            "Republic of Ireland\n",
            "University of Luxembourg\n",
            "University of Hong Kong\n",
            "Republic of Ireland\n",
            "Czech Republic\n",
            "Czech Republic\n",
            "Czech Republic\n",
            "Republic of Ireland\n",
            "University of Luxembourg\n",
            "Czech Republic\n",
            "University of Luxembourg\n",
            "Republic of Ireland\n",
            "University of Luxembourg\n",
            "University of Luxembourg\n",
            "University of Luxembourg\n",
            "University of Luxembourg\n",
            "Republic of Ireland\n",
            "Republic of Ireland\n",
            "University of Luxembourg\n",
            "University of Hong Kong\n",
            "University of Luxembourg\n",
            "University of Luxembourg\n",
            "Czech Republic\n",
            "Czech Republic\n",
            "University of Hong Kong\n",
            "Czech Republic\n",
            "University of Luxembourg\n",
            "University of Hong Kong\n",
            "Czech Republic\n",
            "Czech Republic\n",
            "Republic of Ireland\n",
            "University of Hong Kong\n",
            "Czech Republic\n",
            "Czech Republic\n",
            "University of Luxembourg\n",
            "Czech Republic\n",
            "Republic of Ireland\n",
            "Czech Republic\n",
            "Czech Republic\n",
            "Republic of Ireland\n",
            "University of Luxembourg\n",
            "University of Luxembourg\n",
            "University of Luxembourg\n",
            "Czech Republic\n",
            "Republic of Ireland\n",
            "University of Luxembourg\n",
            "Republic of Ireland\n",
            "University of Luxembourg\n",
            "Czech Republic\n",
            "University of Luxembourg\n",
            "University of Luxembourg\n",
            "Czech Republic\n",
            "University of Luxembourg\n",
            "University of Luxembourg\n",
            "University of Hong Kong\n",
            "University of Luxembourg\n",
            "Republic of Ireland\n",
            "Czech Republic\n",
            "University of Hong Kong\n",
            "University of Luxembourg\n",
            "University of Luxembourg\n",
            "University of Hong Kong\n",
            "Czech Republic\n",
            "Czech Republic\n",
            "Czech Republic\n",
            "University of Luxembourg\n",
            "Czech Republic\n",
            "Republic of Ireland\n",
            "Czech Republic\n",
            "University of Luxembourg\n",
            "University of Luxembourg\n",
            "Czech Republic\n",
            "University of Luxembourg\n",
            "Republic of Ireland\n",
            "University of Hong Kong\n",
            "Czech Republic\n",
            "Republic of Ireland\n",
            "University of Luxembourg\n",
            "University of Luxembourg\n",
            "Republic of Ireland\n",
            "Republic of Ireland\n",
            "null\n",
            "null\n",
            "null\n",
            "null\n",
            "null\n",
            "null\n",
            "null\n",
            "null\n",
            "null\n",
            "null\n",
            "İ\n",
            "University of Pisa\n"
          ]
        },
        {
          "output_type": "execute_result",
          "data": {
            "text/plain": [
              "5          Universität Münster\n",
              "6              Open University\n",
              "7          Universität Münster\n",
              "8          Universität Münster\n",
              "10       Universität Oldenburg\n",
              "                 ...          \n",
              "48050                     null\n",
              "48118                     null\n",
              "48149                     null\n",
              "48845                        İ\n",
              "51188       University of Pisa\n",
              "Name: school, Length: 1479, dtype: object"
            ]
          },
          "metadata": {},
          "execution_count": 126
        }
      ]
    },
    {
      "cell_type": "code",
      "source": [
        "import requests\n",
        "import json\n",
        "from time import sleep\n",
        "from tqdm.auto import tqdm\n",
        "tqdm.pandas()\n",
        "\n",
        "def parse_references(doi: str):\n",
        "    # sleep(0.02)\n",
        "    url = f\"https://api.crossref.org/works/{doi}\"\n",
        "    params = {\n",
        "        \"mailto\": \"i.boris05@gmail.com\"\n",
        "    }\n",
        "    response = requests.get(url, params=params)\n",
        "    if response.status_code == 200:\n",
        "        data = response.json()\n",
        "        message = data[\"message\"]\n",
        "        if \"reference\" not in message:\n",
        "            return []\n",
        "        dois = [ref.setdefault(\"DOI\", None) for ref in data[\"message\"][\"reference\"]]\n",
        "        dois = [d for d in dois if d is not None]\n",
        "        if dois:\n",
        "            return dois\n",
        "    else:\n",
        "        return []\n",
        "\n",
        "\n",
        "df[\"references\"] = df[\"doi_num\"].progress_apply(parse_references)\n",
        "df"
      ],
      "metadata": {
        "colab": {
          "base_uri": "https://localhost:8080/",
          "height": 414,
          "referenced_widgets": [
            "685cea9335254a339d19598ef3eb8bd5",
            "ccd47882177c40bd8e4b49d26a2479cc",
            "95e5aa3352d54974a2015fe0a9bfe60b",
            "6c245fa91f984b98a80c0e90447dcd41",
            "2e05c38fb564481b8eb9b4e2c0403800",
            "0f6c41e4b06c43fd98a2ee2372d3dc2a",
            "c5fe2865e41d4747adc447cb263333d5",
            "7a3cc665e64744568a311a5020cd976e",
            "1ed94bc337174021bc6f5bf5c83710d6",
            "d66fdfea608a4a6286b281cef0a43e71",
            "84b497b0b7e54e539afb470114ddde34"
          ]
        },
        "id": "ud1Hmz7cNRjD",
        "outputId": "180dafcb-6da0-4e39-d92b-824cb42946e1"
      },
      "execution_count": 56,
      "outputs": [
        {
          "output_type": "display_data",
          "data": {
            "text/plain": [
              "  0%|          | 0/148255 [00:00<?, ?it/s]"
            ],
            "application/vnd.jupyter.widget-view+json": {
              "version_major": 2,
              "version_minor": 0,
              "model_id": "685cea9335254a339d19598ef3eb8bd5"
            }
          },
          "metadata": {}
        },
        {
          "output_type": "error",
          "ename": "KeyboardInterrupt",
          "evalue": "",
          "traceback": [
            "\u001b[0;31m---------------------------------------------------------------------------\u001b[0m",
            "\u001b[0;31mKeyboardInterrupt\u001b[0m                         Traceback (most recent call last)",
            "\u001b[0;32m<ipython-input-56-d2527d249ba4>\u001b[0m in \u001b[0;36m<cell line: 27>\u001b[0;34m()\u001b[0m\n\u001b[1;32m     25\u001b[0m \u001b[0;34m\u001b[0m\u001b[0m\n\u001b[1;32m     26\u001b[0m \u001b[0;34m\u001b[0m\u001b[0m\n\u001b[0;32m---> 27\u001b[0;31m \u001b[0mdf\u001b[0m\u001b[0;34m[\u001b[0m\u001b[0;34m\"references\"\u001b[0m\u001b[0;34m]\u001b[0m \u001b[0;34m=\u001b[0m \u001b[0mdf\u001b[0m\u001b[0;34m[\u001b[0m\u001b[0;34m\"doi_num\"\u001b[0m\u001b[0;34m]\u001b[0m\u001b[0;34m.\u001b[0m\u001b[0mprogress_apply\u001b[0m\u001b[0;34m(\u001b[0m\u001b[0mparse_references\u001b[0m\u001b[0;34m)\u001b[0m\u001b[0;34m\u001b[0m\u001b[0;34m\u001b[0m\u001b[0m\n\u001b[0m\u001b[1;32m     28\u001b[0m \u001b[0mdf\u001b[0m\u001b[0;34m\u001b[0m\u001b[0;34m\u001b[0m\u001b[0m\n",
            "\u001b[0;32m/usr/local/lib/python3.10/dist-packages/tqdm/std.py\u001b[0m in \u001b[0;36minner\u001b[0;34m(df, func, *args, **kwargs)\u001b[0m\n\u001b[1;32m    915\u001b[0m                 \u001b[0;31m# on the df using our wrapper (which provides bar updating)\u001b[0m\u001b[0;34m\u001b[0m\u001b[0;34m\u001b[0m\u001b[0m\n\u001b[1;32m    916\u001b[0m                 \u001b[0;32mtry\u001b[0m\u001b[0;34m:\u001b[0m\u001b[0;34m\u001b[0m\u001b[0;34m\u001b[0m\u001b[0m\n\u001b[0;32m--> 917\u001b[0;31m                     \u001b[0;32mreturn\u001b[0m \u001b[0mgetattr\u001b[0m\u001b[0;34m(\u001b[0m\u001b[0mdf\u001b[0m\u001b[0;34m,\u001b[0m \u001b[0mdf_function\u001b[0m\u001b[0;34m)\u001b[0m\u001b[0;34m(\u001b[0m\u001b[0mwrapper\u001b[0m\u001b[0;34m,\u001b[0m \u001b[0;34m**\u001b[0m\u001b[0mkwargs\u001b[0m\u001b[0;34m)\u001b[0m\u001b[0;34m\u001b[0m\u001b[0;34m\u001b[0m\u001b[0m\n\u001b[0m\u001b[1;32m    918\u001b[0m                 \u001b[0;32mfinally\u001b[0m\u001b[0;34m:\u001b[0m\u001b[0;34m\u001b[0m\u001b[0;34m\u001b[0m\u001b[0m\n\u001b[1;32m    919\u001b[0m                     \u001b[0mt\u001b[0m\u001b[0;34m.\u001b[0m\u001b[0mclose\u001b[0m\u001b[0;34m(\u001b[0m\u001b[0;34m)\u001b[0m\u001b[0;34m\u001b[0m\u001b[0;34m\u001b[0m\u001b[0m\n",
            "\u001b[0;32m/usr/local/lib/python3.10/dist-packages/pandas/core/series.py\u001b[0m in \u001b[0;36mapply\u001b[0;34m(self, func, convert_dtype, args, **kwargs)\u001b[0m\n\u001b[1;32m   4628\u001b[0m         \u001b[0mdtype\u001b[0m\u001b[0;34m:\u001b[0m \u001b[0mfloat64\u001b[0m\u001b[0;34m\u001b[0m\u001b[0;34m\u001b[0m\u001b[0m\n\u001b[1;32m   4629\u001b[0m         \"\"\"\n\u001b[0;32m-> 4630\u001b[0;31m         \u001b[0;32mreturn\u001b[0m \u001b[0mSeriesApply\u001b[0m\u001b[0;34m(\u001b[0m\u001b[0mself\u001b[0m\u001b[0;34m,\u001b[0m \u001b[0mfunc\u001b[0m\u001b[0;34m,\u001b[0m \u001b[0mconvert_dtype\u001b[0m\u001b[0;34m,\u001b[0m \u001b[0margs\u001b[0m\u001b[0;34m,\u001b[0m \u001b[0mkwargs\u001b[0m\u001b[0;34m)\u001b[0m\u001b[0;34m.\u001b[0m\u001b[0mapply\u001b[0m\u001b[0;34m(\u001b[0m\u001b[0;34m)\u001b[0m\u001b[0;34m\u001b[0m\u001b[0;34m\u001b[0m\u001b[0m\n\u001b[0m\u001b[1;32m   4631\u001b[0m \u001b[0;34m\u001b[0m\u001b[0m\n\u001b[1;32m   4632\u001b[0m     def _reduce(\n",
            "\u001b[0;32m/usr/local/lib/python3.10/dist-packages/pandas/core/apply.py\u001b[0m in \u001b[0;36mapply\u001b[0;34m(self)\u001b[0m\n\u001b[1;32m   1023\u001b[0m \u001b[0;34m\u001b[0m\u001b[0m\n\u001b[1;32m   1024\u001b[0m         \u001b[0;31m# self.f is Callable\u001b[0m\u001b[0;34m\u001b[0m\u001b[0;34m\u001b[0m\u001b[0m\n\u001b[0;32m-> 1025\u001b[0;31m         \u001b[0;32mreturn\u001b[0m \u001b[0mself\u001b[0m\u001b[0;34m.\u001b[0m\u001b[0mapply_standard\u001b[0m\u001b[0;34m(\u001b[0m\u001b[0;34m)\u001b[0m\u001b[0;34m\u001b[0m\u001b[0;34m\u001b[0m\u001b[0m\n\u001b[0m\u001b[1;32m   1026\u001b[0m \u001b[0;34m\u001b[0m\u001b[0m\n\u001b[1;32m   1027\u001b[0m     \u001b[0;32mdef\u001b[0m \u001b[0magg\u001b[0m\u001b[0;34m(\u001b[0m\u001b[0mself\u001b[0m\u001b[0;34m)\u001b[0m\u001b[0;34m:\u001b[0m\u001b[0;34m\u001b[0m\u001b[0;34m\u001b[0m\u001b[0m\n",
            "\u001b[0;32m/usr/local/lib/python3.10/dist-packages/pandas/core/apply.py\u001b[0m in \u001b[0;36mapply_standard\u001b[0;34m(self)\u001b[0m\n\u001b[1;32m   1074\u001b[0m             \u001b[0;32melse\u001b[0m\u001b[0;34m:\u001b[0m\u001b[0;34m\u001b[0m\u001b[0;34m\u001b[0m\u001b[0m\n\u001b[1;32m   1075\u001b[0m                 \u001b[0mvalues\u001b[0m \u001b[0;34m=\u001b[0m \u001b[0mobj\u001b[0m\u001b[0;34m.\u001b[0m\u001b[0mastype\u001b[0m\u001b[0;34m(\u001b[0m\u001b[0mobject\u001b[0m\u001b[0;34m)\u001b[0m\u001b[0;34m.\u001b[0m\u001b[0m_values\u001b[0m\u001b[0;34m\u001b[0m\u001b[0;34m\u001b[0m\u001b[0m\n\u001b[0;32m-> 1076\u001b[0;31m                 mapped = lib.map_infer(\n\u001b[0m\u001b[1;32m   1077\u001b[0m                     \u001b[0mvalues\u001b[0m\u001b[0;34m,\u001b[0m\u001b[0;34m\u001b[0m\u001b[0;34m\u001b[0m\u001b[0m\n\u001b[1;32m   1078\u001b[0m                     \u001b[0mf\u001b[0m\u001b[0;34m,\u001b[0m\u001b[0;34m\u001b[0m\u001b[0;34m\u001b[0m\u001b[0m\n",
            "\u001b[0;32m/usr/local/lib/python3.10/dist-packages/pandas/_libs/lib.pyx\u001b[0m in \u001b[0;36mpandas._libs.lib.map_infer\u001b[0;34m()\u001b[0m\n",
            "\u001b[0;32m/usr/local/lib/python3.10/dist-packages/tqdm/std.py\u001b[0m in \u001b[0;36mwrapper\u001b[0;34m(*args, **kwargs)\u001b[0m\n\u001b[1;32m    910\u001b[0m                     \u001b[0;31m# take a fast or slow code path; so stop when t.total==t.n\u001b[0m\u001b[0;34m\u001b[0m\u001b[0;34m\u001b[0m\u001b[0m\n\u001b[1;32m    911\u001b[0m                     \u001b[0mt\u001b[0m\u001b[0;34m.\u001b[0m\u001b[0mupdate\u001b[0m\u001b[0;34m(\u001b[0m\u001b[0mn\u001b[0m\u001b[0;34m=\u001b[0m\u001b[0;36m1\u001b[0m \u001b[0;32mif\u001b[0m \u001b[0;32mnot\u001b[0m \u001b[0mt\u001b[0m\u001b[0;34m.\u001b[0m\u001b[0mtotal\u001b[0m \u001b[0;32mor\u001b[0m \u001b[0mt\u001b[0m\u001b[0;34m.\u001b[0m\u001b[0mn\u001b[0m \u001b[0;34m<\u001b[0m \u001b[0mt\u001b[0m\u001b[0;34m.\u001b[0m\u001b[0mtotal\u001b[0m \u001b[0;32melse\u001b[0m \u001b[0;36m0\u001b[0m\u001b[0;34m)\u001b[0m\u001b[0;34m\u001b[0m\u001b[0;34m\u001b[0m\u001b[0m\n\u001b[0;32m--> 912\u001b[0;31m                     \u001b[0;32mreturn\u001b[0m \u001b[0mfunc\u001b[0m\u001b[0;34m(\u001b[0m\u001b[0;34m*\u001b[0m\u001b[0margs\u001b[0m\u001b[0;34m,\u001b[0m \u001b[0;34m**\u001b[0m\u001b[0mkwargs\u001b[0m\u001b[0;34m)\u001b[0m\u001b[0;34m\u001b[0m\u001b[0;34m\u001b[0m\u001b[0m\n\u001b[0m\u001b[1;32m    913\u001b[0m \u001b[0;34m\u001b[0m\u001b[0m\n\u001b[1;32m    914\u001b[0m                 \u001b[0;31m# Apply the provided function (in **kwargs)\u001b[0m\u001b[0;34m\u001b[0m\u001b[0;34m\u001b[0m\u001b[0m\n",
            "\u001b[0;32m<ipython-input-56-d2527d249ba4>\u001b[0m in \u001b[0;36mparse_references\u001b[0;34m(doi)\u001b[0m\n\u001b[1;32m     11\u001b[0m         \u001b[0;34m\"mailto\"\u001b[0m\u001b[0;34m:\u001b[0m \u001b[0;34m\"i.boris05@gmail.com\"\u001b[0m\u001b[0;34m\u001b[0m\u001b[0;34m\u001b[0m\u001b[0m\n\u001b[1;32m     12\u001b[0m     }\n\u001b[0;32m---> 13\u001b[0;31m     \u001b[0mresponse\u001b[0m \u001b[0;34m=\u001b[0m \u001b[0mrequests\u001b[0m\u001b[0;34m.\u001b[0m\u001b[0mget\u001b[0m\u001b[0;34m(\u001b[0m\u001b[0murl\u001b[0m\u001b[0;34m,\u001b[0m \u001b[0mparams\u001b[0m\u001b[0;34m=\u001b[0m\u001b[0mparams\u001b[0m\u001b[0;34m)\u001b[0m\u001b[0;34m\u001b[0m\u001b[0;34m\u001b[0m\u001b[0m\n\u001b[0m\u001b[1;32m     14\u001b[0m     \u001b[0;32mif\u001b[0m \u001b[0mresponse\u001b[0m\u001b[0;34m.\u001b[0m\u001b[0mstatus_code\u001b[0m \u001b[0;34m==\u001b[0m \u001b[0;36m200\u001b[0m\u001b[0;34m:\u001b[0m\u001b[0;34m\u001b[0m\u001b[0;34m\u001b[0m\u001b[0m\n\u001b[1;32m     15\u001b[0m         \u001b[0mdata\u001b[0m \u001b[0;34m=\u001b[0m \u001b[0mresponse\u001b[0m\u001b[0;34m.\u001b[0m\u001b[0mjson\u001b[0m\u001b[0;34m(\u001b[0m\u001b[0;34m)\u001b[0m\u001b[0;34m\u001b[0m\u001b[0;34m\u001b[0m\u001b[0m\n",
            "\u001b[0;32m/usr/local/lib/python3.10/dist-packages/requests/api.py\u001b[0m in \u001b[0;36mget\u001b[0;34m(url, params, **kwargs)\u001b[0m\n\u001b[1;32m     71\u001b[0m     \"\"\"\n\u001b[1;32m     72\u001b[0m \u001b[0;34m\u001b[0m\u001b[0m\n\u001b[0;32m---> 73\u001b[0;31m     \u001b[0;32mreturn\u001b[0m \u001b[0mrequest\u001b[0m\u001b[0;34m(\u001b[0m\u001b[0;34m\"get\"\u001b[0m\u001b[0;34m,\u001b[0m \u001b[0murl\u001b[0m\u001b[0;34m,\u001b[0m \u001b[0mparams\u001b[0m\u001b[0;34m=\u001b[0m\u001b[0mparams\u001b[0m\u001b[0;34m,\u001b[0m \u001b[0;34m**\u001b[0m\u001b[0mkwargs\u001b[0m\u001b[0;34m)\u001b[0m\u001b[0;34m\u001b[0m\u001b[0;34m\u001b[0m\u001b[0m\n\u001b[0m\u001b[1;32m     74\u001b[0m \u001b[0;34m\u001b[0m\u001b[0m\n\u001b[1;32m     75\u001b[0m \u001b[0;34m\u001b[0m\u001b[0m\n",
            "\u001b[0;32m/usr/local/lib/python3.10/dist-packages/requests/api.py\u001b[0m in \u001b[0;36mrequest\u001b[0;34m(method, url, **kwargs)\u001b[0m\n\u001b[1;32m     57\u001b[0m     \u001b[0;31m# cases, and look like a memory leak in others.\u001b[0m\u001b[0;34m\u001b[0m\u001b[0;34m\u001b[0m\u001b[0m\n\u001b[1;32m     58\u001b[0m     \u001b[0;32mwith\u001b[0m \u001b[0msessions\u001b[0m\u001b[0;34m.\u001b[0m\u001b[0mSession\u001b[0m\u001b[0;34m(\u001b[0m\u001b[0;34m)\u001b[0m \u001b[0;32mas\u001b[0m \u001b[0msession\u001b[0m\u001b[0;34m:\u001b[0m\u001b[0;34m\u001b[0m\u001b[0;34m\u001b[0m\u001b[0m\n\u001b[0;32m---> 59\u001b[0;31m         \u001b[0;32mreturn\u001b[0m \u001b[0msession\u001b[0m\u001b[0;34m.\u001b[0m\u001b[0mrequest\u001b[0m\u001b[0;34m(\u001b[0m\u001b[0mmethod\u001b[0m\u001b[0;34m=\u001b[0m\u001b[0mmethod\u001b[0m\u001b[0;34m,\u001b[0m \u001b[0murl\u001b[0m\u001b[0;34m=\u001b[0m\u001b[0murl\u001b[0m\u001b[0;34m,\u001b[0m \u001b[0;34m**\u001b[0m\u001b[0mkwargs\u001b[0m\u001b[0;34m)\u001b[0m\u001b[0;34m\u001b[0m\u001b[0;34m\u001b[0m\u001b[0m\n\u001b[0m\u001b[1;32m     60\u001b[0m \u001b[0;34m\u001b[0m\u001b[0m\n\u001b[1;32m     61\u001b[0m \u001b[0;34m\u001b[0m\u001b[0m\n",
            "\u001b[0;32m/usr/local/lib/python3.10/dist-packages/requests/sessions.py\u001b[0m in \u001b[0;36mrequest\u001b[0;34m(self, method, url, params, data, headers, cookies, files, auth, timeout, allow_redirects, proxies, hooks, stream, verify, cert, json)\u001b[0m\n\u001b[1;32m    587\u001b[0m         }\n\u001b[1;32m    588\u001b[0m         \u001b[0msend_kwargs\u001b[0m\u001b[0;34m.\u001b[0m\u001b[0mupdate\u001b[0m\u001b[0;34m(\u001b[0m\u001b[0msettings\u001b[0m\u001b[0;34m)\u001b[0m\u001b[0;34m\u001b[0m\u001b[0;34m\u001b[0m\u001b[0m\n\u001b[0;32m--> 589\u001b[0;31m         \u001b[0mresp\u001b[0m \u001b[0;34m=\u001b[0m \u001b[0mself\u001b[0m\u001b[0;34m.\u001b[0m\u001b[0msend\u001b[0m\u001b[0;34m(\u001b[0m\u001b[0mprep\u001b[0m\u001b[0;34m,\u001b[0m \u001b[0;34m**\u001b[0m\u001b[0msend_kwargs\u001b[0m\u001b[0;34m)\u001b[0m\u001b[0;34m\u001b[0m\u001b[0;34m\u001b[0m\u001b[0m\n\u001b[0m\u001b[1;32m    590\u001b[0m \u001b[0;34m\u001b[0m\u001b[0m\n\u001b[1;32m    591\u001b[0m         \u001b[0;32mreturn\u001b[0m \u001b[0mresp\u001b[0m\u001b[0;34m\u001b[0m\u001b[0;34m\u001b[0m\u001b[0m\n",
            "\u001b[0;32m/usr/local/lib/python3.10/dist-packages/requests/sessions.py\u001b[0m in \u001b[0;36msend\u001b[0;34m(self, request, **kwargs)\u001b[0m\n\u001b[1;32m    701\u001b[0m \u001b[0;34m\u001b[0m\u001b[0m\n\u001b[1;32m    702\u001b[0m         \u001b[0;31m# Send the request\u001b[0m\u001b[0;34m\u001b[0m\u001b[0;34m\u001b[0m\u001b[0m\n\u001b[0;32m--> 703\u001b[0;31m         \u001b[0mr\u001b[0m \u001b[0;34m=\u001b[0m \u001b[0madapter\u001b[0m\u001b[0;34m.\u001b[0m\u001b[0msend\u001b[0m\u001b[0;34m(\u001b[0m\u001b[0mrequest\u001b[0m\u001b[0;34m,\u001b[0m \u001b[0;34m**\u001b[0m\u001b[0mkwargs\u001b[0m\u001b[0;34m)\u001b[0m\u001b[0;34m\u001b[0m\u001b[0;34m\u001b[0m\u001b[0m\n\u001b[0m\u001b[1;32m    704\u001b[0m \u001b[0;34m\u001b[0m\u001b[0m\n\u001b[1;32m    705\u001b[0m         \u001b[0;31m# Total elapsed time of the request (approximately)\u001b[0m\u001b[0;34m\u001b[0m\u001b[0;34m\u001b[0m\u001b[0m\n",
            "\u001b[0;32m/usr/local/lib/python3.10/dist-packages/requests/adapters.py\u001b[0m in \u001b[0;36msend\u001b[0;34m(self, request, stream, timeout, verify, cert, proxies)\u001b[0m\n\u001b[1;32m    484\u001b[0m \u001b[0;34m\u001b[0m\u001b[0m\n\u001b[1;32m    485\u001b[0m         \u001b[0;32mtry\u001b[0m\u001b[0;34m:\u001b[0m\u001b[0;34m\u001b[0m\u001b[0;34m\u001b[0m\u001b[0m\n\u001b[0;32m--> 486\u001b[0;31m             resp = conn.urlopen(\n\u001b[0m\u001b[1;32m    487\u001b[0m                 \u001b[0mmethod\u001b[0m\u001b[0;34m=\u001b[0m\u001b[0mrequest\u001b[0m\u001b[0;34m.\u001b[0m\u001b[0mmethod\u001b[0m\u001b[0;34m,\u001b[0m\u001b[0;34m\u001b[0m\u001b[0;34m\u001b[0m\u001b[0m\n\u001b[1;32m    488\u001b[0m                 \u001b[0murl\u001b[0m\u001b[0;34m=\u001b[0m\u001b[0murl\u001b[0m\u001b[0;34m,\u001b[0m\u001b[0;34m\u001b[0m\u001b[0;34m\u001b[0m\u001b[0m\n",
            "\u001b[0;32m/usr/local/lib/python3.10/dist-packages/urllib3/connectionpool.py\u001b[0m in \u001b[0;36murlopen\u001b[0;34m(self, method, url, body, headers, retries, redirect, assert_same_host, timeout, pool_timeout, release_conn, chunked, body_pos, preload_content, decode_content, **response_kw)\u001b[0m\n\u001b[1;32m    789\u001b[0m \u001b[0;34m\u001b[0m\u001b[0m\n\u001b[1;32m    790\u001b[0m             \u001b[0;31m# Make the request on the HTTPConnection object\u001b[0m\u001b[0;34m\u001b[0m\u001b[0;34m\u001b[0m\u001b[0m\n\u001b[0;32m--> 791\u001b[0;31m             response = self._make_request(\n\u001b[0m\u001b[1;32m    792\u001b[0m                 \u001b[0mconn\u001b[0m\u001b[0;34m,\u001b[0m\u001b[0;34m\u001b[0m\u001b[0;34m\u001b[0m\u001b[0m\n\u001b[1;32m    793\u001b[0m                 \u001b[0mmethod\u001b[0m\u001b[0;34m,\u001b[0m\u001b[0;34m\u001b[0m\u001b[0;34m\u001b[0m\u001b[0m\n",
            "\u001b[0;32m/usr/local/lib/python3.10/dist-packages/urllib3/connectionpool.py\u001b[0m in \u001b[0;36m_make_request\u001b[0;34m(self, conn, method, url, body, headers, retries, timeout, chunked, response_conn, preload_content, decode_content, enforce_content_length)\u001b[0m\n\u001b[1;32m    466\u001b[0m             \u001b[0;31m# Trigger any extra validation we need to do.\u001b[0m\u001b[0;34m\u001b[0m\u001b[0;34m\u001b[0m\u001b[0m\n\u001b[1;32m    467\u001b[0m             \u001b[0;32mtry\u001b[0m\u001b[0;34m:\u001b[0m\u001b[0;34m\u001b[0m\u001b[0;34m\u001b[0m\u001b[0m\n\u001b[0;32m--> 468\u001b[0;31m                 \u001b[0mself\u001b[0m\u001b[0;34m.\u001b[0m\u001b[0m_validate_conn\u001b[0m\u001b[0;34m(\u001b[0m\u001b[0mconn\u001b[0m\u001b[0;34m)\u001b[0m\u001b[0;34m\u001b[0m\u001b[0;34m\u001b[0m\u001b[0m\n\u001b[0m\u001b[1;32m    469\u001b[0m             \u001b[0;32mexcept\u001b[0m \u001b[0;34m(\u001b[0m\u001b[0mSocketTimeout\u001b[0m\u001b[0;34m,\u001b[0m \u001b[0mBaseSSLError\u001b[0m\u001b[0;34m)\u001b[0m \u001b[0;32mas\u001b[0m \u001b[0me\u001b[0m\u001b[0;34m:\u001b[0m\u001b[0;34m\u001b[0m\u001b[0;34m\u001b[0m\u001b[0m\n\u001b[1;32m    470\u001b[0m                 \u001b[0mself\u001b[0m\u001b[0;34m.\u001b[0m\u001b[0m_raise_timeout\u001b[0m\u001b[0;34m(\u001b[0m\u001b[0merr\u001b[0m\u001b[0;34m=\u001b[0m\u001b[0me\u001b[0m\u001b[0;34m,\u001b[0m \u001b[0murl\u001b[0m\u001b[0;34m=\u001b[0m\u001b[0murl\u001b[0m\u001b[0;34m,\u001b[0m \u001b[0mtimeout_value\u001b[0m\u001b[0;34m=\u001b[0m\u001b[0mconn\u001b[0m\u001b[0;34m.\u001b[0m\u001b[0mtimeout\u001b[0m\u001b[0;34m)\u001b[0m\u001b[0;34m\u001b[0m\u001b[0;34m\u001b[0m\u001b[0m\n",
            "\u001b[0;32m/usr/local/lib/python3.10/dist-packages/urllib3/connectionpool.py\u001b[0m in \u001b[0;36m_validate_conn\u001b[0;34m(self, conn)\u001b[0m\n\u001b[1;32m   1095\u001b[0m         \u001b[0;31m# Force connect early to allow us to validate the connection.\u001b[0m\u001b[0;34m\u001b[0m\u001b[0;34m\u001b[0m\u001b[0m\n\u001b[1;32m   1096\u001b[0m         \u001b[0;32mif\u001b[0m \u001b[0mconn\u001b[0m\u001b[0;34m.\u001b[0m\u001b[0mis_closed\u001b[0m\u001b[0;34m:\u001b[0m\u001b[0;34m\u001b[0m\u001b[0;34m\u001b[0m\u001b[0m\n\u001b[0;32m-> 1097\u001b[0;31m             \u001b[0mconn\u001b[0m\u001b[0;34m.\u001b[0m\u001b[0mconnect\u001b[0m\u001b[0;34m(\u001b[0m\u001b[0;34m)\u001b[0m\u001b[0;34m\u001b[0m\u001b[0;34m\u001b[0m\u001b[0m\n\u001b[0m\u001b[1;32m   1098\u001b[0m \u001b[0;34m\u001b[0m\u001b[0m\n\u001b[1;32m   1099\u001b[0m         \u001b[0;32mif\u001b[0m \u001b[0;32mnot\u001b[0m \u001b[0mconn\u001b[0m\u001b[0;34m.\u001b[0m\u001b[0mis_verified\u001b[0m\u001b[0;34m:\u001b[0m\u001b[0;34m\u001b[0m\u001b[0;34m\u001b[0m\u001b[0m\n",
            "\u001b[0;32m/usr/local/lib/python3.10/dist-packages/urllib3/connection.py\u001b[0m in \u001b[0;36mconnect\u001b[0;34m(self)\u001b[0m\n\u001b[1;32m    609\u001b[0m     \u001b[0;32mdef\u001b[0m \u001b[0mconnect\u001b[0m\u001b[0;34m(\u001b[0m\u001b[0mself\u001b[0m\u001b[0;34m)\u001b[0m \u001b[0;34m->\u001b[0m \u001b[0;32mNone\u001b[0m\u001b[0;34m:\u001b[0m\u001b[0;34m\u001b[0m\u001b[0;34m\u001b[0m\u001b[0m\n\u001b[1;32m    610\u001b[0m         \u001b[0msock\u001b[0m\u001b[0;34m:\u001b[0m \u001b[0msocket\u001b[0m\u001b[0;34m.\u001b[0m\u001b[0msocket\u001b[0m \u001b[0;34m|\u001b[0m \u001b[0mssl\u001b[0m\u001b[0;34m.\u001b[0m\u001b[0mSSLSocket\u001b[0m\u001b[0;34m\u001b[0m\u001b[0;34m\u001b[0m\u001b[0m\n\u001b[0;32m--> 611\u001b[0;31m         \u001b[0mself\u001b[0m\u001b[0;34m.\u001b[0m\u001b[0msock\u001b[0m \u001b[0;34m=\u001b[0m \u001b[0msock\u001b[0m \u001b[0;34m=\u001b[0m \u001b[0mself\u001b[0m\u001b[0;34m.\u001b[0m\u001b[0m_new_conn\u001b[0m\u001b[0;34m(\u001b[0m\u001b[0;34m)\u001b[0m\u001b[0;34m\u001b[0m\u001b[0;34m\u001b[0m\u001b[0m\n\u001b[0m\u001b[1;32m    612\u001b[0m         \u001b[0mserver_hostname\u001b[0m\u001b[0;34m:\u001b[0m \u001b[0mstr\u001b[0m \u001b[0;34m=\u001b[0m \u001b[0mself\u001b[0m\u001b[0;34m.\u001b[0m\u001b[0mhost\u001b[0m\u001b[0;34m\u001b[0m\u001b[0;34m\u001b[0m\u001b[0m\n\u001b[1;32m    613\u001b[0m         \u001b[0mtls_in_tls\u001b[0m \u001b[0;34m=\u001b[0m \u001b[0;32mFalse\u001b[0m\u001b[0;34m\u001b[0m\u001b[0;34m\u001b[0m\u001b[0m\n",
            "\u001b[0;32m/usr/local/lib/python3.10/dist-packages/urllib3/connection.py\u001b[0m in \u001b[0;36m_new_conn\u001b[0;34m(self)\u001b[0m\n\u001b[1;32m    201\u001b[0m         \"\"\"\n\u001b[1;32m    202\u001b[0m         \u001b[0;32mtry\u001b[0m\u001b[0;34m:\u001b[0m\u001b[0;34m\u001b[0m\u001b[0;34m\u001b[0m\u001b[0m\n\u001b[0;32m--> 203\u001b[0;31m             sock = connection.create_connection(\n\u001b[0m\u001b[1;32m    204\u001b[0m                 \u001b[0;34m(\u001b[0m\u001b[0mself\u001b[0m\u001b[0;34m.\u001b[0m\u001b[0m_dns_host\u001b[0m\u001b[0;34m,\u001b[0m \u001b[0mself\u001b[0m\u001b[0;34m.\u001b[0m\u001b[0mport\u001b[0m\u001b[0;34m)\u001b[0m\u001b[0;34m,\u001b[0m\u001b[0;34m\u001b[0m\u001b[0;34m\u001b[0m\u001b[0m\n\u001b[1;32m    205\u001b[0m                 \u001b[0mself\u001b[0m\u001b[0;34m.\u001b[0m\u001b[0mtimeout\u001b[0m\u001b[0;34m,\u001b[0m\u001b[0;34m\u001b[0m\u001b[0;34m\u001b[0m\u001b[0m\n",
            "\u001b[0;32m/usr/local/lib/python3.10/dist-packages/urllib3/util/connection.py\u001b[0m in \u001b[0;36mcreate_connection\u001b[0;34m(address, timeout, source_address, socket_options)\u001b[0m\n\u001b[1;32m     71\u001b[0m             \u001b[0;32mif\u001b[0m \u001b[0msource_address\u001b[0m\u001b[0;34m:\u001b[0m\u001b[0;34m\u001b[0m\u001b[0;34m\u001b[0m\u001b[0m\n\u001b[1;32m     72\u001b[0m                 \u001b[0msock\u001b[0m\u001b[0;34m.\u001b[0m\u001b[0mbind\u001b[0m\u001b[0;34m(\u001b[0m\u001b[0msource_address\u001b[0m\u001b[0;34m)\u001b[0m\u001b[0;34m\u001b[0m\u001b[0;34m\u001b[0m\u001b[0m\n\u001b[0;32m---> 73\u001b[0;31m             \u001b[0msock\u001b[0m\u001b[0;34m.\u001b[0m\u001b[0mconnect\u001b[0m\u001b[0;34m(\u001b[0m\u001b[0msa\u001b[0m\u001b[0;34m)\u001b[0m\u001b[0;34m\u001b[0m\u001b[0;34m\u001b[0m\u001b[0m\n\u001b[0m\u001b[1;32m     74\u001b[0m             \u001b[0;31m# Break explicitly a reference cycle\u001b[0m\u001b[0;34m\u001b[0m\u001b[0;34m\u001b[0m\u001b[0m\n\u001b[1;32m     75\u001b[0m             \u001b[0merr\u001b[0m \u001b[0;34m=\u001b[0m \u001b[0;32mNone\u001b[0m\u001b[0;34m\u001b[0m\u001b[0;34m\u001b[0m\u001b[0m\n",
            "\u001b[0;31mKeyboardInterrupt\u001b[0m: "
          ]
        }
      ]
    },
    {
      "cell_type": "code",
      "source": [
        "import crossref_commons.retrieval\n",
        "\n",
        "ref = crossref_commons.retrieval.get_publication_as_json('https://doi.org/10.1145/3489517.3530592')[\"reference\"]\n",
        "len(ref)"
      ],
      "metadata": {
        "colab": {
          "base_uri": "https://localhost:8080/"
        },
        "id": "ZkQYnevQNUp0",
        "outputId": "4d8a165b-61a6-42ef-8584-456a5dd24835"
      },
      "execution_count": 21,
      "outputs": [
        {
          "output_type": "execute_result",
          "data": {
            "text/plain": [
              "21"
            ]
          },
          "metadata": {},
          "execution_count": 21
        }
      ]
    },
    {
      "cell_type": "code",
      "source": [
        "with sqlite3.connect(path_to_db) as conn:\n",
        "    df2 = pd.read_sql(sql=\"\"\"\n",
        "        SELECT DISTINCT crossref\n",
        "        FROM dblp\n",
        "        WHERE crossref LIKE \"%ml%\"\n",
        "      ;\"\"\", con=conn)\n",
        "    display(df2)"
      ],
      "metadata": {
        "colab": {
          "base_uri": "https://localhost:8080/",
          "height": 424
        },
        "id": "tuHm4GYX0RtO",
        "outputId": "a61d88a8-727b-4f00-a5a9-b3021cdfe59e"
      },
      "execution_count": 57,
      "outputs": [
        {
          "output_type": "display_data",
          "data": {
            "text/plain": [
              "                    crossref\n",
              "0          reference/ml/2010\n",
              "1          reference/ml/2017\n",
              "2        series/tanlp/2019ml\n",
              "3             conf/mlcb/2021\n",
              "4             conf/mlcb/2023\n",
              "..                       ...\n",
              "571     books/sp/18/MLYE2018\n",
              "572         books/sp/HML2017\n",
              "573       books/sp/ZMLHT2016\n",
              "574  books/others/11/PML2011\n",
              "575      books/ox/06/ZML2006\n",
              "\n",
              "[576 rows x 1 columns]"
            ],
            "text/html": [
              "\n",
              "  <div id=\"df-61eb68bd-7873-4662-bff1-b4e423355564\" class=\"colab-df-container\">\n",
              "    <div>\n",
              "<style scoped>\n",
              "    .dataframe tbody tr th:only-of-type {\n",
              "        vertical-align: middle;\n",
              "    }\n",
              "\n",
              "    .dataframe tbody tr th {\n",
              "        vertical-align: top;\n",
              "    }\n",
              "\n",
              "    .dataframe thead th {\n",
              "        text-align: right;\n",
              "    }\n",
              "</style>\n",
              "<table border=\"1\" class=\"dataframe\">\n",
              "  <thead>\n",
              "    <tr style=\"text-align: right;\">\n",
              "      <th></th>\n",
              "      <th>crossref</th>\n",
              "    </tr>\n",
              "  </thead>\n",
              "  <tbody>\n",
              "    <tr>\n",
              "      <th>0</th>\n",
              "      <td>reference/ml/2010</td>\n",
              "    </tr>\n",
              "    <tr>\n",
              "      <th>1</th>\n",
              "      <td>reference/ml/2017</td>\n",
              "    </tr>\n",
              "    <tr>\n",
              "      <th>2</th>\n",
              "      <td>series/tanlp/2019ml</td>\n",
              "    </tr>\n",
              "    <tr>\n",
              "      <th>3</th>\n",
              "      <td>conf/mlcb/2021</td>\n",
              "    </tr>\n",
              "    <tr>\n",
              "      <th>4</th>\n",
              "      <td>conf/mlcb/2023</td>\n",
              "    </tr>\n",
              "    <tr>\n",
              "      <th>...</th>\n",
              "      <td>...</td>\n",
              "    </tr>\n",
              "    <tr>\n",
              "      <th>571</th>\n",
              "      <td>books/sp/18/MLYE2018</td>\n",
              "    </tr>\n",
              "    <tr>\n",
              "      <th>572</th>\n",
              "      <td>books/sp/HML2017</td>\n",
              "    </tr>\n",
              "    <tr>\n",
              "      <th>573</th>\n",
              "      <td>books/sp/ZMLHT2016</td>\n",
              "    </tr>\n",
              "    <tr>\n",
              "      <th>574</th>\n",
              "      <td>books/others/11/PML2011</td>\n",
              "    </tr>\n",
              "    <tr>\n",
              "      <th>575</th>\n",
              "      <td>books/ox/06/ZML2006</td>\n",
              "    </tr>\n",
              "  </tbody>\n",
              "</table>\n",
              "<p>576 rows × 1 columns</p>\n",
              "</div>\n",
              "    <div class=\"colab-df-buttons\">\n",
              "\n",
              "  <div class=\"colab-df-container\">\n",
              "    <button class=\"colab-df-convert\" onclick=\"convertToInteractive('df-61eb68bd-7873-4662-bff1-b4e423355564')\"\n",
              "            title=\"Convert this dataframe to an interactive table.\"\n",
              "            style=\"display:none;\">\n",
              "\n",
              "  <svg xmlns=\"http://www.w3.org/2000/svg\" height=\"24px\" viewBox=\"0 -960 960 960\">\n",
              "    <path d=\"M120-120v-720h720v720H120Zm60-500h600v-160H180v160Zm220 220h160v-160H400v160Zm0 220h160v-160H400v160ZM180-400h160v-160H180v160Zm440 0h160v-160H620v160ZM180-180h160v-160H180v160Zm440 0h160v-160H620v160Z\"/>\n",
              "  </svg>\n",
              "    </button>\n",
              "\n",
              "  <style>\n",
              "    .colab-df-container {\n",
              "      display:flex;\n",
              "      gap: 12px;\n",
              "    }\n",
              "\n",
              "    .colab-df-convert {\n",
              "      background-color: #E8F0FE;\n",
              "      border: none;\n",
              "      border-radius: 50%;\n",
              "      cursor: pointer;\n",
              "      display: none;\n",
              "      fill: #1967D2;\n",
              "      height: 32px;\n",
              "      padding: 0 0 0 0;\n",
              "      width: 32px;\n",
              "    }\n",
              "\n",
              "    .colab-df-convert:hover {\n",
              "      background-color: #E2EBFA;\n",
              "      box-shadow: 0px 1px 2px rgba(60, 64, 67, 0.3), 0px 1px 3px 1px rgba(60, 64, 67, 0.15);\n",
              "      fill: #174EA6;\n",
              "    }\n",
              "\n",
              "    .colab-df-buttons div {\n",
              "      margin-bottom: 4px;\n",
              "    }\n",
              "\n",
              "    [theme=dark] .colab-df-convert {\n",
              "      background-color: #3B4455;\n",
              "      fill: #D2E3FC;\n",
              "    }\n",
              "\n",
              "    [theme=dark] .colab-df-convert:hover {\n",
              "      background-color: #434B5C;\n",
              "      box-shadow: 0px 1px 3px 1px rgba(0, 0, 0, 0.15);\n",
              "      filter: drop-shadow(0px 1px 2px rgba(0, 0, 0, 0.3));\n",
              "      fill: #FFFFFF;\n",
              "    }\n",
              "  </style>\n",
              "\n",
              "    <script>\n",
              "      const buttonEl =\n",
              "        document.querySelector('#df-61eb68bd-7873-4662-bff1-b4e423355564 button.colab-df-convert');\n",
              "      buttonEl.style.display =\n",
              "        google.colab.kernel.accessAllowed ? 'block' : 'none';\n",
              "\n",
              "      async function convertToInteractive(key) {\n",
              "        const element = document.querySelector('#df-61eb68bd-7873-4662-bff1-b4e423355564');\n",
              "        const dataTable =\n",
              "          await google.colab.kernel.invokeFunction('convertToInteractive',\n",
              "                                                    [key], {});\n",
              "        if (!dataTable) return;\n",
              "\n",
              "        const docLinkHtml = 'Like what you see? Visit the ' +\n",
              "          '<a target=\"_blank\" href=https://colab.research.google.com/notebooks/data_table.ipynb>data table notebook</a>'\n",
              "          + ' to learn more about interactive tables.';\n",
              "        element.innerHTML = '';\n",
              "        dataTable['output_type'] = 'display_data';\n",
              "        await google.colab.output.renderOutput(dataTable, element);\n",
              "        const docLink = document.createElement('div');\n",
              "        docLink.innerHTML = docLinkHtml;\n",
              "        element.appendChild(docLink);\n",
              "      }\n",
              "    </script>\n",
              "  </div>\n",
              "\n",
              "\n",
              "<div id=\"df-91d9627b-90e8-4c12-8a0d-e32d0e88dad9\">\n",
              "  <button class=\"colab-df-quickchart\" onclick=\"quickchart('df-91d9627b-90e8-4c12-8a0d-e32d0e88dad9')\"\n",
              "            title=\"Suggest charts\"\n",
              "            style=\"display:none;\">\n",
              "\n",
              "<svg xmlns=\"http://www.w3.org/2000/svg\" height=\"24px\"viewBox=\"0 0 24 24\"\n",
              "     width=\"24px\">\n",
              "    <g>\n",
              "        <path d=\"M19 3H5c-1.1 0-2 .9-2 2v14c0 1.1.9 2 2 2h14c1.1 0 2-.9 2-2V5c0-1.1-.9-2-2-2zM9 17H7v-7h2v7zm4 0h-2V7h2v10zm4 0h-2v-4h2v4z\"/>\n",
              "    </g>\n",
              "</svg>\n",
              "  </button>\n",
              "\n",
              "<style>\n",
              "  .colab-df-quickchart {\n",
              "      --bg-color: #E8F0FE;\n",
              "      --fill-color: #1967D2;\n",
              "      --hover-bg-color: #E2EBFA;\n",
              "      --hover-fill-color: #174EA6;\n",
              "      --disabled-fill-color: #AAA;\n",
              "      --disabled-bg-color: #DDD;\n",
              "  }\n",
              "\n",
              "  [theme=dark] .colab-df-quickchart {\n",
              "      --bg-color: #3B4455;\n",
              "      --fill-color: #D2E3FC;\n",
              "      --hover-bg-color: #434B5C;\n",
              "      --hover-fill-color: #FFFFFF;\n",
              "      --disabled-bg-color: #3B4455;\n",
              "      --disabled-fill-color: #666;\n",
              "  }\n",
              "\n",
              "  .colab-df-quickchart {\n",
              "    background-color: var(--bg-color);\n",
              "    border: none;\n",
              "    border-radius: 50%;\n",
              "    cursor: pointer;\n",
              "    display: none;\n",
              "    fill: var(--fill-color);\n",
              "    height: 32px;\n",
              "    padding: 0;\n",
              "    width: 32px;\n",
              "  }\n",
              "\n",
              "  .colab-df-quickchart:hover {\n",
              "    background-color: var(--hover-bg-color);\n",
              "    box-shadow: 0 1px 2px rgba(60, 64, 67, 0.3), 0 1px 3px 1px rgba(60, 64, 67, 0.15);\n",
              "    fill: var(--button-hover-fill-color);\n",
              "  }\n",
              "\n",
              "  .colab-df-quickchart-complete:disabled,\n",
              "  .colab-df-quickchart-complete:disabled:hover {\n",
              "    background-color: var(--disabled-bg-color);\n",
              "    fill: var(--disabled-fill-color);\n",
              "    box-shadow: none;\n",
              "  }\n",
              "\n",
              "  .colab-df-spinner {\n",
              "    border: 2px solid var(--fill-color);\n",
              "    border-color: transparent;\n",
              "    border-bottom-color: var(--fill-color);\n",
              "    animation:\n",
              "      spin 1s steps(1) infinite;\n",
              "  }\n",
              "\n",
              "  @keyframes spin {\n",
              "    0% {\n",
              "      border-color: transparent;\n",
              "      border-bottom-color: var(--fill-color);\n",
              "      border-left-color: var(--fill-color);\n",
              "    }\n",
              "    20% {\n",
              "      border-color: transparent;\n",
              "      border-left-color: var(--fill-color);\n",
              "      border-top-color: var(--fill-color);\n",
              "    }\n",
              "    30% {\n",
              "      border-color: transparent;\n",
              "      border-left-color: var(--fill-color);\n",
              "      border-top-color: var(--fill-color);\n",
              "      border-right-color: var(--fill-color);\n",
              "    }\n",
              "    40% {\n",
              "      border-color: transparent;\n",
              "      border-right-color: var(--fill-color);\n",
              "      border-top-color: var(--fill-color);\n",
              "    }\n",
              "    60% {\n",
              "      border-color: transparent;\n",
              "      border-right-color: var(--fill-color);\n",
              "    }\n",
              "    80% {\n",
              "      border-color: transparent;\n",
              "      border-right-color: var(--fill-color);\n",
              "      border-bottom-color: var(--fill-color);\n",
              "    }\n",
              "    90% {\n",
              "      border-color: transparent;\n",
              "      border-bottom-color: var(--fill-color);\n",
              "    }\n",
              "  }\n",
              "</style>\n",
              "\n",
              "  <script>\n",
              "    async function quickchart(key) {\n",
              "      const quickchartButtonEl =\n",
              "        document.querySelector('#' + key + ' button');\n",
              "      quickchartButtonEl.disabled = true;  // To prevent multiple clicks.\n",
              "      quickchartButtonEl.classList.add('colab-df-spinner');\n",
              "      try {\n",
              "        const charts = await google.colab.kernel.invokeFunction(\n",
              "            'suggestCharts', [key], {});\n",
              "      } catch (error) {\n",
              "        console.error('Error during call to suggestCharts:', error);\n",
              "      }\n",
              "      quickchartButtonEl.classList.remove('colab-df-spinner');\n",
              "      quickchartButtonEl.classList.add('colab-df-quickchart-complete');\n",
              "    }\n",
              "    (() => {\n",
              "      let quickchartButtonEl =\n",
              "        document.querySelector('#df-91d9627b-90e8-4c12-8a0d-e32d0e88dad9 button');\n",
              "      quickchartButtonEl.style.display =\n",
              "        google.colab.kernel.accessAllowed ? 'block' : 'none';\n",
              "    })();\n",
              "  </script>\n",
              "</div>\n",
              "    </div>\n",
              "  </div>\n"
            ],
            "application/vnd.google.colaboratory.intrinsic+json": {
              "type": "dataframe",
              "variable_name": "df2",
              "summary": "{\n  \"name\": \"df2\",\n  \"rows\": 576,\n  \"fields\": [\n    {\n      \"column\": \"crossref\",\n      \"properties\": {\n        \"dtype\": \"string\",\n        \"num_unique_values\": 576,\n        \"samples\": [\n          \"conf/ecir/2016mlm\",\n          \"conf/wisec/2020wiseml\",\n          \"conf/ecml/2007\"\n        ],\n        \"semantic_type\": \"\",\n        \"description\": \"\"\n      }\n    }\n  ]\n}"
            }
          },
          "metadata": {}
        }
      ]
    },
    {
      "cell_type": "code",
      "source": [
        "df2.sample(10)"
      ],
      "metadata": {
        "colab": {
          "base_uri": "https://localhost:8080/",
          "height": 363
        },
        "id": "hYgfP1utSLRL",
        "outputId": "1e6d7a23-566d-4949-af97-395b6b0c3705"
      },
      "execution_count": 52,
      "outputs": [
        {
          "output_type": "execute_result",
          "data": {
            "text/plain": [
              "                     crossref\n",
              "48389         conf/ewili/2014\n",
              "34382         conf/pearl/2020\n",
              "45120         conf/nlpcc/2014\n",
              "38000           conf/apn/1986\n",
              "54524  conf/socrates/2008kcec\n",
              "43611         conf/emisa/2023\n",
              "5586           conf/sagt/2009\n",
              "54425          conf/jsai/2008\n",
              "9897           conf/wcet/2008\n",
              "33542         conf/iwslt/2011"
            ],
            "text/html": [
              "\n",
              "  <div id=\"df-ad307faa-eef2-48a5-bc0d-c3f9a497cacb\" class=\"colab-df-container\">\n",
              "    <div>\n",
              "<style scoped>\n",
              "    .dataframe tbody tr th:only-of-type {\n",
              "        vertical-align: middle;\n",
              "    }\n",
              "\n",
              "    .dataframe tbody tr th {\n",
              "        vertical-align: top;\n",
              "    }\n",
              "\n",
              "    .dataframe thead th {\n",
              "        text-align: right;\n",
              "    }\n",
              "</style>\n",
              "<table border=\"1\" class=\"dataframe\">\n",
              "  <thead>\n",
              "    <tr style=\"text-align: right;\">\n",
              "      <th></th>\n",
              "      <th>crossref</th>\n",
              "    </tr>\n",
              "  </thead>\n",
              "  <tbody>\n",
              "    <tr>\n",
              "      <th>48389</th>\n",
              "      <td>conf/ewili/2014</td>\n",
              "    </tr>\n",
              "    <tr>\n",
              "      <th>34382</th>\n",
              "      <td>conf/pearl/2020</td>\n",
              "    </tr>\n",
              "    <tr>\n",
              "      <th>45120</th>\n",
              "      <td>conf/nlpcc/2014</td>\n",
              "    </tr>\n",
              "    <tr>\n",
              "      <th>38000</th>\n",
              "      <td>conf/apn/1986</td>\n",
              "    </tr>\n",
              "    <tr>\n",
              "      <th>54524</th>\n",
              "      <td>conf/socrates/2008kcec</td>\n",
              "    </tr>\n",
              "    <tr>\n",
              "      <th>43611</th>\n",
              "      <td>conf/emisa/2023</td>\n",
              "    </tr>\n",
              "    <tr>\n",
              "      <th>5586</th>\n",
              "      <td>conf/sagt/2009</td>\n",
              "    </tr>\n",
              "    <tr>\n",
              "      <th>54425</th>\n",
              "      <td>conf/jsai/2008</td>\n",
              "    </tr>\n",
              "    <tr>\n",
              "      <th>9897</th>\n",
              "      <td>conf/wcet/2008</td>\n",
              "    </tr>\n",
              "    <tr>\n",
              "      <th>33542</th>\n",
              "      <td>conf/iwslt/2011</td>\n",
              "    </tr>\n",
              "  </tbody>\n",
              "</table>\n",
              "</div>\n",
              "    <div class=\"colab-df-buttons\">\n",
              "\n",
              "  <div class=\"colab-df-container\">\n",
              "    <button class=\"colab-df-convert\" onclick=\"convertToInteractive('df-ad307faa-eef2-48a5-bc0d-c3f9a497cacb')\"\n",
              "            title=\"Convert this dataframe to an interactive table.\"\n",
              "            style=\"display:none;\">\n",
              "\n",
              "  <svg xmlns=\"http://www.w3.org/2000/svg\" height=\"24px\" viewBox=\"0 -960 960 960\">\n",
              "    <path d=\"M120-120v-720h720v720H120Zm60-500h600v-160H180v160Zm220 220h160v-160H400v160Zm0 220h160v-160H400v160ZM180-400h160v-160H180v160Zm440 0h160v-160H620v160ZM180-180h160v-160H180v160Zm440 0h160v-160H620v160Z\"/>\n",
              "  </svg>\n",
              "    </button>\n",
              "\n",
              "  <style>\n",
              "    .colab-df-container {\n",
              "      display:flex;\n",
              "      gap: 12px;\n",
              "    }\n",
              "\n",
              "    .colab-df-convert {\n",
              "      background-color: #E8F0FE;\n",
              "      border: none;\n",
              "      border-radius: 50%;\n",
              "      cursor: pointer;\n",
              "      display: none;\n",
              "      fill: #1967D2;\n",
              "      height: 32px;\n",
              "      padding: 0 0 0 0;\n",
              "      width: 32px;\n",
              "    }\n",
              "\n",
              "    .colab-df-convert:hover {\n",
              "      background-color: #E2EBFA;\n",
              "      box-shadow: 0px 1px 2px rgba(60, 64, 67, 0.3), 0px 1px 3px 1px rgba(60, 64, 67, 0.15);\n",
              "      fill: #174EA6;\n",
              "    }\n",
              "\n",
              "    .colab-df-buttons div {\n",
              "      margin-bottom: 4px;\n",
              "    }\n",
              "\n",
              "    [theme=dark] .colab-df-convert {\n",
              "      background-color: #3B4455;\n",
              "      fill: #D2E3FC;\n",
              "    }\n",
              "\n",
              "    [theme=dark] .colab-df-convert:hover {\n",
              "      background-color: #434B5C;\n",
              "      box-shadow: 0px 1px 3px 1px rgba(0, 0, 0, 0.15);\n",
              "      filter: drop-shadow(0px 1px 2px rgba(0, 0, 0, 0.3));\n",
              "      fill: #FFFFFF;\n",
              "    }\n",
              "  </style>\n",
              "\n",
              "    <script>\n",
              "      const buttonEl =\n",
              "        document.querySelector('#df-ad307faa-eef2-48a5-bc0d-c3f9a497cacb button.colab-df-convert');\n",
              "      buttonEl.style.display =\n",
              "        google.colab.kernel.accessAllowed ? 'block' : 'none';\n",
              "\n",
              "      async function convertToInteractive(key) {\n",
              "        const element = document.querySelector('#df-ad307faa-eef2-48a5-bc0d-c3f9a497cacb');\n",
              "        const dataTable =\n",
              "          await google.colab.kernel.invokeFunction('convertToInteractive',\n",
              "                                                    [key], {});\n",
              "        if (!dataTable) return;\n",
              "\n",
              "        const docLinkHtml = 'Like what you see? Visit the ' +\n",
              "          '<a target=\"_blank\" href=https://colab.research.google.com/notebooks/data_table.ipynb>data table notebook</a>'\n",
              "          + ' to learn more about interactive tables.';\n",
              "        element.innerHTML = '';\n",
              "        dataTable['output_type'] = 'display_data';\n",
              "        await google.colab.output.renderOutput(dataTable, element);\n",
              "        const docLink = document.createElement('div');\n",
              "        docLink.innerHTML = docLinkHtml;\n",
              "        element.appendChild(docLink);\n",
              "      }\n",
              "    </script>\n",
              "  </div>\n",
              "\n",
              "\n",
              "<div id=\"df-77b42e39-e549-4aac-9b5c-e96aaf453d86\">\n",
              "  <button class=\"colab-df-quickchart\" onclick=\"quickchart('df-77b42e39-e549-4aac-9b5c-e96aaf453d86')\"\n",
              "            title=\"Suggest charts\"\n",
              "            style=\"display:none;\">\n",
              "\n",
              "<svg xmlns=\"http://www.w3.org/2000/svg\" height=\"24px\"viewBox=\"0 0 24 24\"\n",
              "     width=\"24px\">\n",
              "    <g>\n",
              "        <path d=\"M19 3H5c-1.1 0-2 .9-2 2v14c0 1.1.9 2 2 2h14c1.1 0 2-.9 2-2V5c0-1.1-.9-2-2-2zM9 17H7v-7h2v7zm4 0h-2V7h2v10zm4 0h-2v-4h2v4z\"/>\n",
              "    </g>\n",
              "</svg>\n",
              "  </button>\n",
              "\n",
              "<style>\n",
              "  .colab-df-quickchart {\n",
              "      --bg-color: #E8F0FE;\n",
              "      --fill-color: #1967D2;\n",
              "      --hover-bg-color: #E2EBFA;\n",
              "      --hover-fill-color: #174EA6;\n",
              "      --disabled-fill-color: #AAA;\n",
              "      --disabled-bg-color: #DDD;\n",
              "  }\n",
              "\n",
              "  [theme=dark] .colab-df-quickchart {\n",
              "      --bg-color: #3B4455;\n",
              "      --fill-color: #D2E3FC;\n",
              "      --hover-bg-color: #434B5C;\n",
              "      --hover-fill-color: #FFFFFF;\n",
              "      --disabled-bg-color: #3B4455;\n",
              "      --disabled-fill-color: #666;\n",
              "  }\n",
              "\n",
              "  .colab-df-quickchart {\n",
              "    background-color: var(--bg-color);\n",
              "    border: none;\n",
              "    border-radius: 50%;\n",
              "    cursor: pointer;\n",
              "    display: none;\n",
              "    fill: var(--fill-color);\n",
              "    height: 32px;\n",
              "    padding: 0;\n",
              "    width: 32px;\n",
              "  }\n",
              "\n",
              "  .colab-df-quickchart:hover {\n",
              "    background-color: var(--hover-bg-color);\n",
              "    box-shadow: 0 1px 2px rgba(60, 64, 67, 0.3), 0 1px 3px 1px rgba(60, 64, 67, 0.15);\n",
              "    fill: var(--button-hover-fill-color);\n",
              "  }\n",
              "\n",
              "  .colab-df-quickchart-complete:disabled,\n",
              "  .colab-df-quickchart-complete:disabled:hover {\n",
              "    background-color: var(--disabled-bg-color);\n",
              "    fill: var(--disabled-fill-color);\n",
              "    box-shadow: none;\n",
              "  }\n",
              "\n",
              "  .colab-df-spinner {\n",
              "    border: 2px solid var(--fill-color);\n",
              "    border-color: transparent;\n",
              "    border-bottom-color: var(--fill-color);\n",
              "    animation:\n",
              "      spin 1s steps(1) infinite;\n",
              "  }\n",
              "\n",
              "  @keyframes spin {\n",
              "    0% {\n",
              "      border-color: transparent;\n",
              "      border-bottom-color: var(--fill-color);\n",
              "      border-left-color: var(--fill-color);\n",
              "    }\n",
              "    20% {\n",
              "      border-color: transparent;\n",
              "      border-left-color: var(--fill-color);\n",
              "      border-top-color: var(--fill-color);\n",
              "    }\n",
              "    30% {\n",
              "      border-color: transparent;\n",
              "      border-left-color: var(--fill-color);\n",
              "      border-top-color: var(--fill-color);\n",
              "      border-right-color: var(--fill-color);\n",
              "    }\n",
              "    40% {\n",
              "      border-color: transparent;\n",
              "      border-right-color: var(--fill-color);\n",
              "      border-top-color: var(--fill-color);\n",
              "    }\n",
              "    60% {\n",
              "      border-color: transparent;\n",
              "      border-right-color: var(--fill-color);\n",
              "    }\n",
              "    80% {\n",
              "      border-color: transparent;\n",
              "      border-right-color: var(--fill-color);\n",
              "      border-bottom-color: var(--fill-color);\n",
              "    }\n",
              "    90% {\n",
              "      border-color: transparent;\n",
              "      border-bottom-color: var(--fill-color);\n",
              "    }\n",
              "  }\n",
              "</style>\n",
              "\n",
              "  <script>\n",
              "    async function quickchart(key) {\n",
              "      const quickchartButtonEl =\n",
              "        document.querySelector('#' + key + ' button');\n",
              "      quickchartButtonEl.disabled = true;  // To prevent multiple clicks.\n",
              "      quickchartButtonEl.classList.add('colab-df-spinner');\n",
              "      try {\n",
              "        const charts = await google.colab.kernel.invokeFunction(\n",
              "            'suggestCharts', [key], {});\n",
              "      } catch (error) {\n",
              "        console.error('Error during call to suggestCharts:', error);\n",
              "      }\n",
              "      quickchartButtonEl.classList.remove('colab-df-spinner');\n",
              "      quickchartButtonEl.classList.add('colab-df-quickchart-complete');\n",
              "    }\n",
              "    (() => {\n",
              "      let quickchartButtonEl =\n",
              "        document.querySelector('#df-77b42e39-e549-4aac-9b5c-e96aaf453d86 button');\n",
              "      quickchartButtonEl.style.display =\n",
              "        google.colab.kernel.accessAllowed ? 'block' : 'none';\n",
              "    })();\n",
              "  </script>\n",
              "</div>\n",
              "    </div>\n",
              "  </div>\n"
            ],
            "application/vnd.google.colaboratory.intrinsic+json": {
              "type": "dataframe",
              "summary": "{\n  \"name\": \"df2\",\n  \"rows\": 10,\n  \"fields\": [\n    {\n      \"column\": \"crossref\",\n      \"properties\": {\n        \"dtype\": \"string\",\n        \"num_unique_values\": 10,\n        \"samples\": [\n          \"conf/wcet/2008\",\n          \"conf/pearl/2020\",\n          \"conf/emisa/2023\"\n        ],\n        \"semantic_type\": \"\",\n        \"description\": \"\"\n      }\n    }\n  ]\n}"
            }
          },
          "metadata": {},
          "execution_count": 52
        }
      ]
    },
    {
      "cell_type": "code",
      "source": [],
      "metadata": {
        "id": "-Qn-dhLmkOZD"
      },
      "execution_count": null,
      "outputs": []
    }
  ]
}